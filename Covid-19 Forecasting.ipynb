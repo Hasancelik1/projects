{
 "cells": [
  {
   "cell_type": "code",
   "execution_count": 3,
   "id": "f32864ff",
   "metadata": {},
   "outputs": [],
   "source": [
    "import pymongo\n",
    "import pandas as pd\n",
    "from pymongo import MongoClient\n",
    "from random import random\n",
    "import json\n",
    "\n",
    "import numpy as np\n",
    "import pandas as pd\n",
    "import pickle\n",
    "import matplotlib.pyplot as plt\n",
    "\n",
    "from sklearn.preprocessing import LabelEncoder\n",
    "from sklearn.model_selection import GridSearchCV"
   ]
  },
  {
   "cell_type": "code",
   "execution_count": 1,
   "id": "7c58d8c9",
   "metadata": {},
   "outputs": [],
   "source": [
    "def _connect_mongo(host, port, db):\n",
    "    conn = MongoClient(host, port)\n",
    "    return conn[db]\n",
    "\n",
    "def read_mongo(db, collection, query={}, host='localhost', port=27017, no_id=True):\n",
    "    \"\"\" Read from Mongo and Store into DataFrame \"\"\"\n",
    "    db = _connect_mongo(host=host, port=port, db=db)\n",
    "    cursor = db[collection].find(query)\n",
    "    df = pd.DataFrame(list(cursor))\n",
    "    if no_id:\n",
    "        del df['_id']\n",
    "    return df"
   ]
  },
  {
   "cell_type": "markdown",
   "id": "3850b596",
   "metadata": {},
   "source": [
    "## Reading Data\n"
   ]
  },
  {
   "cell_type": "code",
   "execution_count": null,
   "id": "a63f49af",
   "metadata": {},
   "outputs": [],
   "source": [
    "df_covid = read_mongo(\"itu\", \"covid_data\")\n",
    "df_country = read_mongo(\"itu\", \"country_info\")"
   ]
  },
  {
   "cell_type": "code",
   "execution_count": null,
   "id": "6a71d719",
   "metadata": {},
   "outputs": [],
   "source": [
    "df = df_country.merge(df_covid, on='location', how='left')\n",
    "\n",
    "df = df[['continent','location','date','total_cases','new_cases',\n",
    "         'new_cases_smoothed','total_deaths','new_deaths','new_deaths_smoothed',\n",
    "         'total_cases_per_million','new_cases_per_million','new_cases_smoothed_per_million',\n",
    "         'total_deaths_per_million','new_deaths_per_million','new_deaths_smoothed_per_million',\n",
    "         'reproduction_rate','icu_patients','icu_patients_per_million','hosp_patients',\n",
    "         'hosp_patients_per_million','weekly_icu_admissions','weekly_icu_admissions_per_million',\n",
    "         'weekly_hosp_admissions','weekly_hosp_admissions_per_million','total_tests','new_tests',\n",
    "         'total_tests_per_thousand','new_tests_per_thousand','new_tests_smoothed','new_tests_smoothed_per_thousand',\n",
    "         'positive_rate','tests_per_case','tests_units','total_vaccinations','people_vaccinated','people_fully_vaccinated',\n",
    "         'new_vaccinations','new_vaccinations_smoothed','total_vaccinations_per_hundred','people_vaccinated_per_hundred',\n",
    "         'people_fully_vaccinated_per_hundred','new_vaccinations_smoothed_per_million','stringency_index','population',\n",
    "         'population_density','median_age','aged_65_older','aged_70_older','gdp_per_capita',\n",
    "         'cardiovasc_death_rate','diabetes_prevalence','handwashing_facilities',\n",
    "         'hospital_beds_per_thousand','life_expectancy','human_development_index']]\n",
    "\n",
    "del df_covid, df_country\n",
    "\n",
    "data = df.copy()"
   ]
  },
  {
   "cell_type": "code",
   "execution_count": 127,
   "id": "c3b16efd",
   "metadata": {},
   "outputs": [
    {
     "data": {
      "text/html": [
       "<div>\n",
       "<style scoped>\n",
       "    .dataframe tbody tr th:only-of-type {\n",
       "        vertical-align: middle;\n",
       "    }\n",
       "\n",
       "    .dataframe tbody tr th {\n",
       "        vertical-align: top;\n",
       "    }\n",
       "\n",
       "    .dataframe thead th {\n",
       "        text-align: right;\n",
       "    }\n",
       "</style>\n",
       "<table border=\"1\" class=\"dataframe\">\n",
       "  <thead>\n",
       "    <tr style=\"text-align: right;\">\n",
       "      <th></th>\n",
       "      <th>iso_code</th>\n",
       "      <th>continent</th>\n",
       "      <th>location</th>\n",
       "      <th>date</th>\n",
       "      <th>total_cases</th>\n",
       "      <th>new_cases</th>\n",
       "      <th>new_cases_smoothed</th>\n",
       "      <th>total_deaths</th>\n",
       "      <th>new_deaths</th>\n",
       "      <th>new_deaths_smoothed</th>\n",
       "      <th>...</th>\n",
       "      <th>male_smokers</th>\n",
       "      <th>handwashing_facilities</th>\n",
       "      <th>hospital_beds_per_thousand</th>\n",
       "      <th>life_expectancy</th>\n",
       "      <th>human_development_index</th>\n",
       "      <th>population</th>\n",
       "      <th>excess_mortality_cumulative_absolute</th>\n",
       "      <th>excess_mortality_cumulative</th>\n",
       "      <th>excess_mortality</th>\n",
       "      <th>excess_mortality_cumulative_per_million</th>\n",
       "    </tr>\n",
       "  </thead>\n",
       "  <tbody>\n",
       "    <tr>\n",
       "      <th>0</th>\n",
       "      <td>AFG</td>\n",
       "      <td>Asia</td>\n",
       "      <td>Afghanistan</td>\n",
       "      <td>2020-02-24</td>\n",
       "      <td>5.0</td>\n",
       "      <td>5.0</td>\n",
       "      <td>NaN</td>\n",
       "      <td>NaN</td>\n",
       "      <td>NaN</td>\n",
       "      <td>NaN</td>\n",
       "      <td>...</td>\n",
       "      <td>NaN</td>\n",
       "      <td>37.746</td>\n",
       "      <td>0.5</td>\n",
       "      <td>64.83</td>\n",
       "      <td>0.511</td>\n",
       "      <td>41128772.0</td>\n",
       "      <td>NaN</td>\n",
       "      <td>NaN</td>\n",
       "      <td>NaN</td>\n",
       "      <td>NaN</td>\n",
       "    </tr>\n",
       "    <tr>\n",
       "      <th>1</th>\n",
       "      <td>AFG</td>\n",
       "      <td>Asia</td>\n",
       "      <td>Afghanistan</td>\n",
       "      <td>2020-02-25</td>\n",
       "      <td>5.0</td>\n",
       "      <td>0.0</td>\n",
       "      <td>NaN</td>\n",
       "      <td>NaN</td>\n",
       "      <td>NaN</td>\n",
       "      <td>NaN</td>\n",
       "      <td>...</td>\n",
       "      <td>NaN</td>\n",
       "      <td>37.746</td>\n",
       "      <td>0.5</td>\n",
       "      <td>64.83</td>\n",
       "      <td>0.511</td>\n",
       "      <td>41128772.0</td>\n",
       "      <td>NaN</td>\n",
       "      <td>NaN</td>\n",
       "      <td>NaN</td>\n",
       "      <td>NaN</td>\n",
       "    </tr>\n",
       "    <tr>\n",
       "      <th>2</th>\n",
       "      <td>AFG</td>\n",
       "      <td>Asia</td>\n",
       "      <td>Afghanistan</td>\n",
       "      <td>2020-02-26</td>\n",
       "      <td>5.0</td>\n",
       "      <td>0.0</td>\n",
       "      <td>NaN</td>\n",
       "      <td>NaN</td>\n",
       "      <td>NaN</td>\n",
       "      <td>NaN</td>\n",
       "      <td>...</td>\n",
       "      <td>NaN</td>\n",
       "      <td>37.746</td>\n",
       "      <td>0.5</td>\n",
       "      <td>64.83</td>\n",
       "      <td>0.511</td>\n",
       "      <td>41128772.0</td>\n",
       "      <td>NaN</td>\n",
       "      <td>NaN</td>\n",
       "      <td>NaN</td>\n",
       "      <td>NaN</td>\n",
       "    </tr>\n",
       "    <tr>\n",
       "      <th>3</th>\n",
       "      <td>AFG</td>\n",
       "      <td>Asia</td>\n",
       "      <td>Afghanistan</td>\n",
       "      <td>2020-02-27</td>\n",
       "      <td>5.0</td>\n",
       "      <td>0.0</td>\n",
       "      <td>NaN</td>\n",
       "      <td>NaN</td>\n",
       "      <td>NaN</td>\n",
       "      <td>NaN</td>\n",
       "      <td>...</td>\n",
       "      <td>NaN</td>\n",
       "      <td>37.746</td>\n",
       "      <td>0.5</td>\n",
       "      <td>64.83</td>\n",
       "      <td>0.511</td>\n",
       "      <td>41128772.0</td>\n",
       "      <td>NaN</td>\n",
       "      <td>NaN</td>\n",
       "      <td>NaN</td>\n",
       "      <td>NaN</td>\n",
       "    </tr>\n",
       "    <tr>\n",
       "      <th>4</th>\n",
       "      <td>AFG</td>\n",
       "      <td>Asia</td>\n",
       "      <td>Afghanistan</td>\n",
       "      <td>2020-02-28</td>\n",
       "      <td>5.0</td>\n",
       "      <td>0.0</td>\n",
       "      <td>NaN</td>\n",
       "      <td>NaN</td>\n",
       "      <td>NaN</td>\n",
       "      <td>NaN</td>\n",
       "      <td>...</td>\n",
       "      <td>NaN</td>\n",
       "      <td>37.746</td>\n",
       "      <td>0.5</td>\n",
       "      <td>64.83</td>\n",
       "      <td>0.511</td>\n",
       "      <td>41128772.0</td>\n",
       "      <td>NaN</td>\n",
       "      <td>NaN</td>\n",
       "      <td>NaN</td>\n",
       "      <td>NaN</td>\n",
       "    </tr>\n",
       "    <tr>\n",
       "      <th>...</th>\n",
       "      <td>...</td>\n",
       "      <td>...</td>\n",
       "      <td>...</td>\n",
       "      <td>...</td>\n",
       "      <td>...</td>\n",
       "      <td>...</td>\n",
       "      <td>...</td>\n",
       "      <td>...</td>\n",
       "      <td>...</td>\n",
       "      <td>...</td>\n",
       "      <td>...</td>\n",
       "      <td>...</td>\n",
       "      <td>...</td>\n",
       "      <td>...</td>\n",
       "      <td>...</td>\n",
       "      <td>...</td>\n",
       "      <td>...</td>\n",
       "      <td>...</td>\n",
       "      <td>...</td>\n",
       "      <td>...</td>\n",
       "      <td>...</td>\n",
       "    </tr>\n",
       "    <tr>\n",
       "      <th>245070</th>\n",
       "      <td>ZWE</td>\n",
       "      <td>Africa</td>\n",
       "      <td>Zimbabwe</td>\n",
       "      <td>2022-12-20</td>\n",
       "      <td>259981.0</td>\n",
       "      <td>625.0</td>\n",
       "      <td>89.286</td>\n",
       "      <td>5637.0</td>\n",
       "      <td>15.0</td>\n",
       "      <td>2.143</td>\n",
       "      <td>...</td>\n",
       "      <td>30.7</td>\n",
       "      <td>36.791</td>\n",
       "      <td>1.7</td>\n",
       "      <td>61.49</td>\n",
       "      <td>0.571</td>\n",
       "      <td>16320539.0</td>\n",
       "      <td>NaN</td>\n",
       "      <td>NaN</td>\n",
       "      <td>NaN</td>\n",
       "      <td>NaN</td>\n",
       "    </tr>\n",
       "    <tr>\n",
       "      <th>245071</th>\n",
       "      <td>ZWE</td>\n",
       "      <td>Africa</td>\n",
       "      <td>Zimbabwe</td>\n",
       "      <td>2022-12-21</td>\n",
       "      <td>259981.0</td>\n",
       "      <td>NaN</td>\n",
       "      <td>NaN</td>\n",
       "      <td>5637.0</td>\n",
       "      <td>NaN</td>\n",
       "      <td>NaN</td>\n",
       "      <td>...</td>\n",
       "      <td>30.7</td>\n",
       "      <td>36.791</td>\n",
       "      <td>1.7</td>\n",
       "      <td>61.49</td>\n",
       "      <td>0.571</td>\n",
       "      <td>16320539.0</td>\n",
       "      <td>NaN</td>\n",
       "      <td>NaN</td>\n",
       "      <td>NaN</td>\n",
       "      <td>NaN</td>\n",
       "    </tr>\n",
       "    <tr>\n",
       "      <th>245072</th>\n",
       "      <td>ZWE</td>\n",
       "      <td>Africa</td>\n",
       "      <td>Zimbabwe</td>\n",
       "      <td>2022-12-22</td>\n",
       "      <td>259981.0</td>\n",
       "      <td>NaN</td>\n",
       "      <td>NaN</td>\n",
       "      <td>5637.0</td>\n",
       "      <td>NaN</td>\n",
       "      <td>NaN</td>\n",
       "      <td>...</td>\n",
       "      <td>30.7</td>\n",
       "      <td>36.791</td>\n",
       "      <td>1.7</td>\n",
       "      <td>61.49</td>\n",
       "      <td>0.571</td>\n",
       "      <td>16320539.0</td>\n",
       "      <td>NaN</td>\n",
       "      <td>NaN</td>\n",
       "      <td>NaN</td>\n",
       "      <td>NaN</td>\n",
       "    </tr>\n",
       "    <tr>\n",
       "      <th>245073</th>\n",
       "      <td>ZWE</td>\n",
       "      <td>Africa</td>\n",
       "      <td>Zimbabwe</td>\n",
       "      <td>2022-12-23</td>\n",
       "      <td>259981.0</td>\n",
       "      <td>NaN</td>\n",
       "      <td>NaN</td>\n",
       "      <td>5637.0</td>\n",
       "      <td>NaN</td>\n",
       "      <td>NaN</td>\n",
       "      <td>...</td>\n",
       "      <td>30.7</td>\n",
       "      <td>36.791</td>\n",
       "      <td>1.7</td>\n",
       "      <td>61.49</td>\n",
       "      <td>0.571</td>\n",
       "      <td>16320539.0</td>\n",
       "      <td>NaN</td>\n",
       "      <td>NaN</td>\n",
       "      <td>NaN</td>\n",
       "      <td>NaN</td>\n",
       "    </tr>\n",
       "    <tr>\n",
       "      <th>245074</th>\n",
       "      <td>ZWE</td>\n",
       "      <td>Africa</td>\n",
       "      <td>Zimbabwe</td>\n",
       "      <td>2022-12-24</td>\n",
       "      <td>259981.0</td>\n",
       "      <td>NaN</td>\n",
       "      <td>NaN</td>\n",
       "      <td>5637.0</td>\n",
       "      <td>NaN</td>\n",
       "      <td>NaN</td>\n",
       "      <td>...</td>\n",
       "      <td>30.7</td>\n",
       "      <td>36.791</td>\n",
       "      <td>1.7</td>\n",
       "      <td>61.49</td>\n",
       "      <td>0.571</td>\n",
       "      <td>16320539.0</td>\n",
       "      <td>NaN</td>\n",
       "      <td>NaN</td>\n",
       "      <td>NaN</td>\n",
       "      <td>NaN</td>\n",
       "    </tr>\n",
       "  </tbody>\n",
       "</table>\n",
       "<p>245075 rows × 67 columns</p>\n",
       "</div>"
      ],
      "text/plain": [
       "       iso_code continent     location        date  total_cases  new_cases  \\\n",
       "0           AFG      Asia  Afghanistan  2020-02-24          5.0        5.0   \n",
       "1           AFG      Asia  Afghanistan  2020-02-25          5.0        0.0   \n",
       "2           AFG      Asia  Afghanistan  2020-02-26          5.0        0.0   \n",
       "3           AFG      Asia  Afghanistan  2020-02-27          5.0        0.0   \n",
       "4           AFG      Asia  Afghanistan  2020-02-28          5.0        0.0   \n",
       "...         ...       ...          ...         ...          ...        ...   \n",
       "245070      ZWE    Africa     Zimbabwe  2022-12-20     259981.0      625.0   \n",
       "245071      ZWE    Africa     Zimbabwe  2022-12-21     259981.0        NaN   \n",
       "245072      ZWE    Africa     Zimbabwe  2022-12-22     259981.0        NaN   \n",
       "245073      ZWE    Africa     Zimbabwe  2022-12-23     259981.0        NaN   \n",
       "245074      ZWE    Africa     Zimbabwe  2022-12-24     259981.0        NaN   \n",
       "\n",
       "        new_cases_smoothed  total_deaths  new_deaths  new_deaths_smoothed  \\\n",
       "0                      NaN           NaN         NaN                  NaN   \n",
       "1                      NaN           NaN         NaN                  NaN   \n",
       "2                      NaN           NaN         NaN                  NaN   \n",
       "3                      NaN           NaN         NaN                  NaN   \n",
       "4                      NaN           NaN         NaN                  NaN   \n",
       "...                    ...           ...         ...                  ...   \n",
       "245070              89.286        5637.0        15.0                2.143   \n",
       "245071                 NaN        5637.0         NaN                  NaN   \n",
       "245072                 NaN        5637.0         NaN                  NaN   \n",
       "245073                 NaN        5637.0         NaN                  NaN   \n",
       "245074                 NaN        5637.0         NaN                  NaN   \n",
       "\n",
       "        ...  male_smokers  handwashing_facilities  hospital_beds_per_thousand  \\\n",
       "0       ...           NaN                  37.746                         0.5   \n",
       "1       ...           NaN                  37.746                         0.5   \n",
       "2       ...           NaN                  37.746                         0.5   \n",
       "3       ...           NaN                  37.746                         0.5   \n",
       "4       ...           NaN                  37.746                         0.5   \n",
       "...     ...           ...                     ...                         ...   \n",
       "245070  ...          30.7                  36.791                         1.7   \n",
       "245071  ...          30.7                  36.791                         1.7   \n",
       "245072  ...          30.7                  36.791                         1.7   \n",
       "245073  ...          30.7                  36.791                         1.7   \n",
       "245074  ...          30.7                  36.791                         1.7   \n",
       "\n",
       "        life_expectancy  human_development_index  population  \\\n",
       "0                 64.83                    0.511  41128772.0   \n",
       "1                 64.83                    0.511  41128772.0   \n",
       "2                 64.83                    0.511  41128772.0   \n",
       "3                 64.83                    0.511  41128772.0   \n",
       "4                 64.83                    0.511  41128772.0   \n",
       "...                 ...                      ...         ...   \n",
       "245070            61.49                    0.571  16320539.0   \n",
       "245071            61.49                    0.571  16320539.0   \n",
       "245072            61.49                    0.571  16320539.0   \n",
       "245073            61.49                    0.571  16320539.0   \n",
       "245074            61.49                    0.571  16320539.0   \n",
       "\n",
       "        excess_mortality_cumulative_absolute  excess_mortality_cumulative  \\\n",
       "0                                        NaN                          NaN   \n",
       "1                                        NaN                          NaN   \n",
       "2                                        NaN                          NaN   \n",
       "3                                        NaN                          NaN   \n",
       "4                                        NaN                          NaN   \n",
       "...                                      ...                          ...   \n",
       "245070                                   NaN                          NaN   \n",
       "245071                                   NaN                          NaN   \n",
       "245072                                   NaN                          NaN   \n",
       "245073                                   NaN                          NaN   \n",
       "245074                                   NaN                          NaN   \n",
       "\n",
       "        excess_mortality  excess_mortality_cumulative_per_million  \n",
       "0                    NaN                                      NaN  \n",
       "1                    NaN                                      NaN  \n",
       "2                    NaN                                      NaN  \n",
       "3                    NaN                                      NaN  \n",
       "4                    NaN                                      NaN  \n",
       "...                  ...                                      ...  \n",
       "245070               NaN                                      NaN  \n",
       "245071               NaN                                      NaN  \n",
       "245072               NaN                                      NaN  \n",
       "245073               NaN                                      NaN  \n",
       "245074               NaN                                      NaN  \n",
       "\n",
       "[245075 rows x 67 columns]"
      ]
     },
     "execution_count": 127,
     "metadata": {},
     "output_type": "execute_result"
    }
   ],
   "source": [
    "data"
   ]
  },
  {
   "cell_type": "code",
   "execution_count": 128,
   "id": "945e8f42",
   "metadata": {},
   "outputs": [
    {
     "data": {
      "text/html": [
       "<div>\n",
       "<style scoped>\n",
       "    .dataframe tbody tr th:only-of-type {\n",
       "        vertical-align: middle;\n",
       "    }\n",
       "\n",
       "    .dataframe tbody tr th {\n",
       "        vertical-align: top;\n",
       "    }\n",
       "\n",
       "    .dataframe thead th {\n",
       "        text-align: right;\n",
       "    }\n",
       "</style>\n",
       "<table border=\"1\" class=\"dataframe\">\n",
       "  <thead>\n",
       "    <tr style=\"text-align: right;\">\n",
       "      <th></th>\n",
       "      <th>continent</th>\n",
       "      <th>location</th>\n",
       "      <th>date</th>\n",
       "      <th>total_cases</th>\n",
       "      <th>new_cases</th>\n",
       "      <th>new_cases_smoothed</th>\n",
       "      <th>total_deaths</th>\n",
       "      <th>new_deaths</th>\n",
       "      <th>new_deaths_smoothed</th>\n",
       "      <th>total_cases_per_million</th>\n",
       "      <th>...</th>\n",
       "      <th>median_age</th>\n",
       "      <th>aged_65_older</th>\n",
       "      <th>aged_70_older</th>\n",
       "      <th>gdp_per_capita</th>\n",
       "      <th>cardiovasc_death_rate</th>\n",
       "      <th>diabetes_prevalence</th>\n",
       "      <th>handwashing_facilities</th>\n",
       "      <th>hospital_beds_per_thousand</th>\n",
       "      <th>life_expectancy</th>\n",
       "      <th>human_development_index</th>\n",
       "    </tr>\n",
       "  </thead>\n",
       "  <tbody>\n",
       "    <tr>\n",
       "      <th>0</th>\n",
       "      <td>Asia</td>\n",
       "      <td>Afghanistan</td>\n",
       "      <td>2020-02-24</td>\n",
       "      <td>5.0</td>\n",
       "      <td>5.0</td>\n",
       "      <td>NaN</td>\n",
       "      <td>NaN</td>\n",
       "      <td>NaN</td>\n",
       "      <td>NaN</td>\n",
       "      <td>0.122</td>\n",
       "      <td>...</td>\n",
       "      <td>18.6</td>\n",
       "      <td>2.581</td>\n",
       "      <td>1.337</td>\n",
       "      <td>1803.987</td>\n",
       "      <td>597.029</td>\n",
       "      <td>9.59</td>\n",
       "      <td>37.746</td>\n",
       "      <td>0.5</td>\n",
       "      <td>64.83</td>\n",
       "      <td>0.511</td>\n",
       "    </tr>\n",
       "    <tr>\n",
       "      <th>1</th>\n",
       "      <td>Asia</td>\n",
       "      <td>Afghanistan</td>\n",
       "      <td>2020-02-25</td>\n",
       "      <td>5.0</td>\n",
       "      <td>0.0</td>\n",
       "      <td>NaN</td>\n",
       "      <td>NaN</td>\n",
       "      <td>NaN</td>\n",
       "      <td>NaN</td>\n",
       "      <td>0.122</td>\n",
       "      <td>...</td>\n",
       "      <td>18.6</td>\n",
       "      <td>2.581</td>\n",
       "      <td>1.337</td>\n",
       "      <td>1803.987</td>\n",
       "      <td>597.029</td>\n",
       "      <td>9.59</td>\n",
       "      <td>37.746</td>\n",
       "      <td>0.5</td>\n",
       "      <td>64.83</td>\n",
       "      <td>0.511</td>\n",
       "    </tr>\n",
       "    <tr>\n",
       "      <th>2</th>\n",
       "      <td>Asia</td>\n",
       "      <td>Afghanistan</td>\n",
       "      <td>2020-02-26</td>\n",
       "      <td>5.0</td>\n",
       "      <td>0.0</td>\n",
       "      <td>NaN</td>\n",
       "      <td>NaN</td>\n",
       "      <td>NaN</td>\n",
       "      <td>NaN</td>\n",
       "      <td>0.122</td>\n",
       "      <td>...</td>\n",
       "      <td>18.6</td>\n",
       "      <td>2.581</td>\n",
       "      <td>1.337</td>\n",
       "      <td>1803.987</td>\n",
       "      <td>597.029</td>\n",
       "      <td>9.59</td>\n",
       "      <td>37.746</td>\n",
       "      <td>0.5</td>\n",
       "      <td>64.83</td>\n",
       "      <td>0.511</td>\n",
       "    </tr>\n",
       "    <tr>\n",
       "      <th>3</th>\n",
       "      <td>Asia</td>\n",
       "      <td>Afghanistan</td>\n",
       "      <td>2020-02-27</td>\n",
       "      <td>5.0</td>\n",
       "      <td>0.0</td>\n",
       "      <td>NaN</td>\n",
       "      <td>NaN</td>\n",
       "      <td>NaN</td>\n",
       "      <td>NaN</td>\n",
       "      <td>0.122</td>\n",
       "      <td>...</td>\n",
       "      <td>18.6</td>\n",
       "      <td>2.581</td>\n",
       "      <td>1.337</td>\n",
       "      <td>1803.987</td>\n",
       "      <td>597.029</td>\n",
       "      <td>9.59</td>\n",
       "      <td>37.746</td>\n",
       "      <td>0.5</td>\n",
       "      <td>64.83</td>\n",
       "      <td>0.511</td>\n",
       "    </tr>\n",
       "    <tr>\n",
       "      <th>4</th>\n",
       "      <td>Asia</td>\n",
       "      <td>Afghanistan</td>\n",
       "      <td>2020-02-28</td>\n",
       "      <td>5.0</td>\n",
       "      <td>0.0</td>\n",
       "      <td>NaN</td>\n",
       "      <td>NaN</td>\n",
       "      <td>NaN</td>\n",
       "      <td>NaN</td>\n",
       "      <td>0.122</td>\n",
       "      <td>...</td>\n",
       "      <td>18.6</td>\n",
       "      <td>2.581</td>\n",
       "      <td>1.337</td>\n",
       "      <td>1803.987</td>\n",
       "      <td>597.029</td>\n",
       "      <td>9.59</td>\n",
       "      <td>37.746</td>\n",
       "      <td>0.5</td>\n",
       "      <td>64.83</td>\n",
       "      <td>0.511</td>\n",
       "    </tr>\n",
       "  </tbody>\n",
       "</table>\n",
       "<p>5 rows × 55 columns</p>\n",
       "</div>"
      ],
      "text/plain": [
       "  continent     location        date  total_cases  new_cases  \\\n",
       "0      Asia  Afghanistan  2020-02-24          5.0        5.0   \n",
       "1      Asia  Afghanistan  2020-02-25          5.0        0.0   \n",
       "2      Asia  Afghanistan  2020-02-26          5.0        0.0   \n",
       "3      Asia  Afghanistan  2020-02-27          5.0        0.0   \n",
       "4      Asia  Afghanistan  2020-02-28          5.0        0.0   \n",
       "\n",
       "   new_cases_smoothed  total_deaths  new_deaths  new_deaths_smoothed  \\\n",
       "0                 NaN           NaN         NaN                  NaN   \n",
       "1                 NaN           NaN         NaN                  NaN   \n",
       "2                 NaN           NaN         NaN                  NaN   \n",
       "3                 NaN           NaN         NaN                  NaN   \n",
       "4                 NaN           NaN         NaN                  NaN   \n",
       "\n",
       "   total_cases_per_million  ...  median_age  aged_65_older  aged_70_older  \\\n",
       "0                    0.122  ...        18.6          2.581          1.337   \n",
       "1                    0.122  ...        18.6          2.581          1.337   \n",
       "2                    0.122  ...        18.6          2.581          1.337   \n",
       "3                    0.122  ...        18.6          2.581          1.337   \n",
       "4                    0.122  ...        18.6          2.581          1.337   \n",
       "\n",
       "   gdp_per_capita  cardiovasc_death_rate  diabetes_prevalence  \\\n",
       "0        1803.987                597.029                 9.59   \n",
       "1        1803.987                597.029                 9.59   \n",
       "2        1803.987                597.029                 9.59   \n",
       "3        1803.987                597.029                 9.59   \n",
       "4        1803.987                597.029                 9.59   \n",
       "\n",
       "   handwashing_facilities  hospital_beds_per_thousand  life_expectancy  \\\n",
       "0                  37.746                         0.5            64.83   \n",
       "1                  37.746                         0.5            64.83   \n",
       "2                  37.746                         0.5            64.83   \n",
       "3                  37.746                         0.5            64.83   \n",
       "4                  37.746                         0.5            64.83   \n",
       "\n",
       "   human_development_index  \n",
       "0                    0.511  \n",
       "1                    0.511  \n",
       "2                    0.511  \n",
       "3                    0.511  \n",
       "4                    0.511  \n",
       "\n",
       "[5 rows x 55 columns]"
      ]
     },
     "execution_count": 128,
     "metadata": {},
     "output_type": "execute_result"
    }
   ],
   "source": [
    "df = data[['continent','location','date','total_cases','new_cases',\n",
    "         'new_cases_smoothed','total_deaths','new_deaths','new_deaths_smoothed',\n",
    "         'total_cases_per_million','new_cases_per_million','new_cases_smoothed_per_million',\n",
    "         'total_deaths_per_million','new_deaths_per_million','new_deaths_smoothed_per_million',\n",
    "         'reproduction_rate','icu_patients','icu_patients_per_million','hosp_patients',\n",
    "         'hosp_patients_per_million','weekly_icu_admissions','weekly_icu_admissions_per_million',\n",
    "         'weekly_hosp_admissions','weekly_hosp_admissions_per_million','total_tests','new_tests',\n",
    "         'total_tests_per_thousand','new_tests_per_thousand','new_tests_smoothed','new_tests_smoothed_per_thousand',\n",
    "         'positive_rate','tests_per_case','tests_units','total_vaccinations','people_vaccinated','people_fully_vaccinated',\n",
    "         'new_vaccinations','new_vaccinations_smoothed','total_vaccinations_per_hundred','people_vaccinated_per_hundred',\n",
    "         'people_fully_vaccinated_per_hundred','new_vaccinations_smoothed_per_million','stringency_index','population',\n",
    "         'population_density','median_age','aged_65_older','aged_70_older','gdp_per_capita',\n",
    "         'cardiovasc_death_rate','diabetes_prevalence','handwashing_facilities',\n",
    "         'hospital_beds_per_thousand','life_expectancy','human_development_index']]\n",
    "\n",
    "\n",
    "\n",
    "df.head()"
   ]
  },
  {
   "cell_type": "code",
   "execution_count": 129,
   "id": "29b0f1e8",
   "metadata": {},
   "outputs": [],
   "source": [
    "date_validation = \"2022-11-07\"\n",
    "\n",
    "df = df[df['date'] < date_validation].copy()\n"
   ]
  },
  {
   "cell_type": "code",
   "execution_count": 130,
   "id": "ae617418",
   "metadata": {},
   "outputs": [],
   "source": [
    "df['date'] = pd.to_datetime(df.date)\n"
   ]
  },
  {
   "cell_type": "code",
   "execution_count": null,
   "id": "62134994",
   "metadata": {},
   "outputs": [],
   "source": []
  },
  {
   "cell_type": "code",
   "execution_count": 131,
   "id": "c03a1fb7",
   "metadata": {},
   "outputs": [
    {
     "name": "stdout",
     "output_type": "stream",
     "text": [
      "<class 'pandas.core.frame.DataFrame'>\n",
      "Int64Index: 233648 entries, 0 to 245026\n",
      "Data columns (total 55 columns):\n",
      " #   Column                                 Non-Null Count   Dtype         \n",
      "---  ------                                 --------------   -----         \n",
      " 0   continent                              220494 non-null  object        \n",
      " 1   location                               233648 non-null  object        \n",
      " 2   date                                   233648 non-null  datetime64[ns]\n",
      " 3   total_cases                            219924 non-null  float64       \n",
      " 4   new_cases                              219761 non-null  float64       \n",
      " 5   new_cases_smoothed                     218565 non-null  float64       \n",
      " 6   total_deaths                           200671 non-null  float64       \n",
      " 7   new_deaths                             200657 non-null  float64       \n",
      " 8   new_deaths_smoothed                    199477 non-null  float64       \n",
      " 9   total_cases_per_million                218920 non-null  float64       \n",
      " 10  new_cases_per_million                  218757 non-null  float64       \n",
      " 11  new_cases_smoothed_per_million         217566 non-null  float64       \n",
      " 12  total_deaths_per_million               199680 non-null  float64       \n",
      " 13  new_deaths_per_million                 199666 non-null  float64       \n",
      " 14  new_deaths_smoothed_per_million        198491 non-null  float64       \n",
      " 15  reproduction_rate                      173702 non-null  float64       \n",
      " 16  icu_patients                           31871 non-null   float64       \n",
      " 17  icu_patients_per_million               31871 non-null   float64       \n",
      " 18  hosp_patients                          34868 non-null   float64       \n",
      " 19  hosp_patients_per_million              34868 non-null   float64       \n",
      " 20  weekly_icu_admissions                  7795 non-null    float64       \n",
      " 21  weekly_icu_admissions_per_million      7795 non-null    float64       \n",
      " 22  weekly_hosp_admissions                 18807 non-null   float64       \n",
      " 23  weekly_hosp_admissions_per_million     18807 non-null   float64       \n",
      " 24  total_tests                            79387 non-null   float64       \n",
      " 25  new_tests                              75403 non-null   float64       \n",
      " 26  total_tests_per_thousand               79387 non-null   float64       \n",
      " 27  new_tests_per_thousand                 75403 non-null   float64       \n",
      " 28  new_tests_smoothed                     103965 non-null  float64       \n",
      " 29  new_tests_smoothed_per_thousand        103965 non-null  float64       \n",
      " 30  positive_rate                          95927 non-null   float64       \n",
      " 31  tests_per_case                         94348 non-null   float64       \n",
      " 32  tests_units                            106788 non-null  object        \n",
      " 33  total_vaccinations                     66696 non-null   float64       \n",
      " 34  people_vaccinated                      63716 non-null   float64       \n",
      " 35  people_fully_vaccinated                61099 non-null   float64       \n",
      " 36  new_vaccinations                       55354 non-null   float64       \n",
      " 37  new_vaccinations_smoothed              139864 non-null  float64       \n",
      " 38  total_vaccinations_per_hundred         66696 non-null   float64       \n",
      " 39  people_vaccinated_per_hundred          63716 non-null   float64       \n",
      " 40  people_fully_vaccinated_per_hundred    61099 non-null   float64       \n",
      " 41  new_vaccinations_smoothed_per_million  139864 non-null  float64       \n",
      " 42  stringency_index                       175277 non-null  float64       \n",
      " 43  population                             232644 non-null  float64       \n",
      " 44  population_density                     203559 non-null  float64       \n",
      " 45  median_age                             188311 non-null  float64       \n",
      " 46  aged_65_older                          186324 non-null  float64       \n",
      " 47  aged_70_older                          187326 non-null  float64       \n",
      " 48  gdp_per_capita                         187774 non-null  float64       \n",
      " 49  cardiovasc_death_rate                  187795 non-null  float64       \n",
      " 50  diabetes_prevalence                    197488 non-null  float64       \n",
      " 51  handwashing_facilities                 92479 non-null   float64       \n",
      " 52  hospital_beds_per_thousand             167202 non-null  float64       \n",
      " 53  life_expectancy                        214311 non-null  float64       \n",
      " 54  human_development_index                183267 non-null  float64       \n",
      "dtypes: datetime64[ns](1), float64(51), object(3)\n",
      "memory usage: 99.8+ MB\n"
     ]
    }
   ],
   "source": [
    "for i in df.loc[:, df.columns != 'tests_units'].columns[3:]:\n",
    "    df[i] = df[i].astype(float)\n",
    "\n",
    "df.info()"
   ]
  },
  {
   "cell_type": "code",
   "execution_count": 132,
   "id": "73525d8a",
   "metadata": {},
   "outputs": [],
   "source": [
    "df.replace({None: 0}, inplace = True)\n",
    "df.set_index('date',inplace = True)"
   ]
  },
  {
   "cell_type": "code",
   "execution_count": 133,
   "id": "c0b23d02",
   "metadata": {},
   "outputs": [
    {
     "data": {
      "text/html": [
       "<div>\n",
       "<style scoped>\n",
       "    .dataframe tbody tr th:only-of-type {\n",
       "        vertical-align: middle;\n",
       "    }\n",
       "\n",
       "    .dataframe tbody tr th {\n",
       "        vertical-align: top;\n",
       "    }\n",
       "\n",
       "    .dataframe thead th {\n",
       "        text-align: right;\n",
       "    }\n",
       "</style>\n",
       "<table border=\"1\" class=\"dataframe\">\n",
       "  <thead>\n",
       "    <tr style=\"text-align: right;\">\n",
       "      <th></th>\n",
       "      <th>continent</th>\n",
       "      <th>location</th>\n",
       "      <th>total_cases</th>\n",
       "      <th>new_cases</th>\n",
       "      <th>new_cases_smoothed</th>\n",
       "      <th>total_deaths</th>\n",
       "      <th>new_deaths</th>\n",
       "      <th>new_deaths_smoothed</th>\n",
       "      <th>total_cases_per_million</th>\n",
       "      <th>new_cases_per_million</th>\n",
       "      <th>...</th>\n",
       "      <th>median_age</th>\n",
       "      <th>aged_65_older</th>\n",
       "      <th>aged_70_older</th>\n",
       "      <th>gdp_per_capita</th>\n",
       "      <th>cardiovasc_death_rate</th>\n",
       "      <th>diabetes_prevalence</th>\n",
       "      <th>handwashing_facilities</th>\n",
       "      <th>hospital_beds_per_thousand</th>\n",
       "      <th>life_expectancy</th>\n",
       "      <th>human_development_index</th>\n",
       "    </tr>\n",
       "    <tr>\n",
       "      <th>date</th>\n",
       "      <th></th>\n",
       "      <th></th>\n",
       "      <th></th>\n",
       "      <th></th>\n",
       "      <th></th>\n",
       "      <th></th>\n",
       "      <th></th>\n",
       "      <th></th>\n",
       "      <th></th>\n",
       "      <th></th>\n",
       "      <th></th>\n",
       "      <th></th>\n",
       "      <th></th>\n",
       "      <th></th>\n",
       "      <th></th>\n",
       "      <th></th>\n",
       "      <th></th>\n",
       "      <th></th>\n",
       "      <th></th>\n",
       "      <th></th>\n",
       "      <th></th>\n",
       "    </tr>\n",
       "  </thead>\n",
       "  <tbody>\n",
       "    <tr>\n",
       "      <th>2020-02-24</th>\n",
       "      <td>Asia</td>\n",
       "      <td>Afghanistan</td>\n",
       "      <td>5.0</td>\n",
       "      <td>5.0</td>\n",
       "      <td>NaN</td>\n",
       "      <td>NaN</td>\n",
       "      <td>NaN</td>\n",
       "      <td>NaN</td>\n",
       "      <td>0.122</td>\n",
       "      <td>0.122</td>\n",
       "      <td>...</td>\n",
       "      <td>18.6</td>\n",
       "      <td>2.581</td>\n",
       "      <td>1.337</td>\n",
       "      <td>1803.987</td>\n",
       "      <td>597.029</td>\n",
       "      <td>9.59</td>\n",
       "      <td>37.746</td>\n",
       "      <td>0.5</td>\n",
       "      <td>64.83</td>\n",
       "      <td>0.511</td>\n",
       "    </tr>\n",
       "    <tr>\n",
       "      <th>2020-02-25</th>\n",
       "      <td>Asia</td>\n",
       "      <td>Afghanistan</td>\n",
       "      <td>5.0</td>\n",
       "      <td>0.0</td>\n",
       "      <td>NaN</td>\n",
       "      <td>NaN</td>\n",
       "      <td>NaN</td>\n",
       "      <td>NaN</td>\n",
       "      <td>0.122</td>\n",
       "      <td>0.000</td>\n",
       "      <td>...</td>\n",
       "      <td>18.6</td>\n",
       "      <td>2.581</td>\n",
       "      <td>1.337</td>\n",
       "      <td>1803.987</td>\n",
       "      <td>597.029</td>\n",
       "      <td>9.59</td>\n",
       "      <td>37.746</td>\n",
       "      <td>0.5</td>\n",
       "      <td>64.83</td>\n",
       "      <td>0.511</td>\n",
       "    </tr>\n",
       "    <tr>\n",
       "      <th>2020-02-26</th>\n",
       "      <td>Asia</td>\n",
       "      <td>Afghanistan</td>\n",
       "      <td>5.0</td>\n",
       "      <td>0.0</td>\n",
       "      <td>NaN</td>\n",
       "      <td>NaN</td>\n",
       "      <td>NaN</td>\n",
       "      <td>NaN</td>\n",
       "      <td>0.122</td>\n",
       "      <td>0.000</td>\n",
       "      <td>...</td>\n",
       "      <td>18.6</td>\n",
       "      <td>2.581</td>\n",
       "      <td>1.337</td>\n",
       "      <td>1803.987</td>\n",
       "      <td>597.029</td>\n",
       "      <td>9.59</td>\n",
       "      <td>37.746</td>\n",
       "      <td>0.5</td>\n",
       "      <td>64.83</td>\n",
       "      <td>0.511</td>\n",
       "    </tr>\n",
       "    <tr>\n",
       "      <th>2020-02-27</th>\n",
       "      <td>Asia</td>\n",
       "      <td>Afghanistan</td>\n",
       "      <td>5.0</td>\n",
       "      <td>0.0</td>\n",
       "      <td>NaN</td>\n",
       "      <td>NaN</td>\n",
       "      <td>NaN</td>\n",
       "      <td>NaN</td>\n",
       "      <td>0.122</td>\n",
       "      <td>0.000</td>\n",
       "      <td>...</td>\n",
       "      <td>18.6</td>\n",
       "      <td>2.581</td>\n",
       "      <td>1.337</td>\n",
       "      <td>1803.987</td>\n",
       "      <td>597.029</td>\n",
       "      <td>9.59</td>\n",
       "      <td>37.746</td>\n",
       "      <td>0.5</td>\n",
       "      <td>64.83</td>\n",
       "      <td>0.511</td>\n",
       "    </tr>\n",
       "    <tr>\n",
       "      <th>2020-02-28</th>\n",
       "      <td>Asia</td>\n",
       "      <td>Afghanistan</td>\n",
       "      <td>5.0</td>\n",
       "      <td>0.0</td>\n",
       "      <td>NaN</td>\n",
       "      <td>NaN</td>\n",
       "      <td>NaN</td>\n",
       "      <td>NaN</td>\n",
       "      <td>0.122</td>\n",
       "      <td>0.000</td>\n",
       "      <td>...</td>\n",
       "      <td>18.6</td>\n",
       "      <td>2.581</td>\n",
       "      <td>1.337</td>\n",
       "      <td>1803.987</td>\n",
       "      <td>597.029</td>\n",
       "      <td>9.59</td>\n",
       "      <td>37.746</td>\n",
       "      <td>0.5</td>\n",
       "      <td>64.83</td>\n",
       "      <td>0.511</td>\n",
       "    </tr>\n",
       "    <tr>\n",
       "      <th>...</th>\n",
       "      <td>...</td>\n",
       "      <td>...</td>\n",
       "      <td>...</td>\n",
       "      <td>...</td>\n",
       "      <td>...</td>\n",
       "      <td>...</td>\n",
       "      <td>...</td>\n",
       "      <td>...</td>\n",
       "      <td>...</td>\n",
       "      <td>...</td>\n",
       "      <td>...</td>\n",
       "      <td>...</td>\n",
       "      <td>...</td>\n",
       "      <td>...</td>\n",
       "      <td>...</td>\n",
       "      <td>...</td>\n",
       "      <td>...</td>\n",
       "      <td>...</td>\n",
       "      <td>...</td>\n",
       "      <td>...</td>\n",
       "      <td>...</td>\n",
       "    </tr>\n",
       "    <tr>\n",
       "      <th>2022-11-02</th>\n",
       "      <td>Africa</td>\n",
       "      <td>Zimbabwe</td>\n",
       "      <td>257893.0</td>\n",
       "      <td>0.0</td>\n",
       "      <td>0.0</td>\n",
       "      <td>5606.0</td>\n",
       "      <td>0.0</td>\n",
       "      <td>0.0</td>\n",
       "      <td>15801.745</td>\n",
       "      <td>0.000</td>\n",
       "      <td>...</td>\n",
       "      <td>19.6</td>\n",
       "      <td>2.822</td>\n",
       "      <td>1.882</td>\n",
       "      <td>1899.775</td>\n",
       "      <td>307.846</td>\n",
       "      <td>1.82</td>\n",
       "      <td>36.791</td>\n",
       "      <td>1.7</td>\n",
       "      <td>61.49</td>\n",
       "      <td>0.571</td>\n",
       "    </tr>\n",
       "    <tr>\n",
       "      <th>2022-11-03</th>\n",
       "      <td>Africa</td>\n",
       "      <td>Zimbabwe</td>\n",
       "      <td>257893.0</td>\n",
       "      <td>0.0</td>\n",
       "      <td>0.0</td>\n",
       "      <td>5606.0</td>\n",
       "      <td>0.0</td>\n",
       "      <td>0.0</td>\n",
       "      <td>15801.745</td>\n",
       "      <td>0.000</td>\n",
       "      <td>...</td>\n",
       "      <td>19.6</td>\n",
       "      <td>2.822</td>\n",
       "      <td>1.882</td>\n",
       "      <td>1899.775</td>\n",
       "      <td>307.846</td>\n",
       "      <td>1.82</td>\n",
       "      <td>36.791</td>\n",
       "      <td>1.7</td>\n",
       "      <td>61.49</td>\n",
       "      <td>0.571</td>\n",
       "    </tr>\n",
       "    <tr>\n",
       "      <th>2022-11-04</th>\n",
       "      <td>Africa</td>\n",
       "      <td>Zimbabwe</td>\n",
       "      <td>257893.0</td>\n",
       "      <td>0.0</td>\n",
       "      <td>0.0</td>\n",
       "      <td>5606.0</td>\n",
       "      <td>0.0</td>\n",
       "      <td>0.0</td>\n",
       "      <td>15801.745</td>\n",
       "      <td>0.000</td>\n",
       "      <td>...</td>\n",
       "      <td>19.6</td>\n",
       "      <td>2.822</td>\n",
       "      <td>1.882</td>\n",
       "      <td>1899.775</td>\n",
       "      <td>307.846</td>\n",
       "      <td>1.82</td>\n",
       "      <td>36.791</td>\n",
       "      <td>1.7</td>\n",
       "      <td>61.49</td>\n",
       "      <td>0.571</td>\n",
       "    </tr>\n",
       "    <tr>\n",
       "      <th>2022-11-05</th>\n",
       "      <td>Africa</td>\n",
       "      <td>Zimbabwe</td>\n",
       "      <td>257893.0</td>\n",
       "      <td>0.0</td>\n",
       "      <td>0.0</td>\n",
       "      <td>5606.0</td>\n",
       "      <td>0.0</td>\n",
       "      <td>0.0</td>\n",
       "      <td>15801.745</td>\n",
       "      <td>0.000</td>\n",
       "      <td>...</td>\n",
       "      <td>19.6</td>\n",
       "      <td>2.822</td>\n",
       "      <td>1.882</td>\n",
       "      <td>1899.775</td>\n",
       "      <td>307.846</td>\n",
       "      <td>1.82</td>\n",
       "      <td>36.791</td>\n",
       "      <td>1.7</td>\n",
       "      <td>61.49</td>\n",
       "      <td>0.571</td>\n",
       "    </tr>\n",
       "    <tr>\n",
       "      <th>2022-11-06</th>\n",
       "      <td>Africa</td>\n",
       "      <td>Zimbabwe</td>\n",
       "      <td>257893.0</td>\n",
       "      <td>0.0</td>\n",
       "      <td>0.0</td>\n",
       "      <td>5606.0</td>\n",
       "      <td>0.0</td>\n",
       "      <td>0.0</td>\n",
       "      <td>15801.745</td>\n",
       "      <td>0.000</td>\n",
       "      <td>...</td>\n",
       "      <td>19.6</td>\n",
       "      <td>2.822</td>\n",
       "      <td>1.882</td>\n",
       "      <td>1899.775</td>\n",
       "      <td>307.846</td>\n",
       "      <td>1.82</td>\n",
       "      <td>36.791</td>\n",
       "      <td>1.7</td>\n",
       "      <td>61.49</td>\n",
       "      <td>0.571</td>\n",
       "    </tr>\n",
       "  </tbody>\n",
       "</table>\n",
       "<p>233648 rows × 54 columns</p>\n",
       "</div>"
      ],
      "text/plain": [
       "           continent     location  total_cases  new_cases  new_cases_smoothed  \\\n",
       "date                                                                            \n",
       "2020-02-24      Asia  Afghanistan          5.0        5.0                 NaN   \n",
       "2020-02-25      Asia  Afghanistan          5.0        0.0                 NaN   \n",
       "2020-02-26      Asia  Afghanistan          5.0        0.0                 NaN   \n",
       "2020-02-27      Asia  Afghanistan          5.0        0.0                 NaN   \n",
       "2020-02-28      Asia  Afghanistan          5.0        0.0                 NaN   \n",
       "...              ...          ...          ...        ...                 ...   \n",
       "2022-11-02    Africa     Zimbabwe     257893.0        0.0                 0.0   \n",
       "2022-11-03    Africa     Zimbabwe     257893.0        0.0                 0.0   \n",
       "2022-11-04    Africa     Zimbabwe     257893.0        0.0                 0.0   \n",
       "2022-11-05    Africa     Zimbabwe     257893.0        0.0                 0.0   \n",
       "2022-11-06    Africa     Zimbabwe     257893.0        0.0                 0.0   \n",
       "\n",
       "            total_deaths  new_deaths  new_deaths_smoothed  \\\n",
       "date                                                        \n",
       "2020-02-24           NaN         NaN                  NaN   \n",
       "2020-02-25           NaN         NaN                  NaN   \n",
       "2020-02-26           NaN         NaN                  NaN   \n",
       "2020-02-27           NaN         NaN                  NaN   \n",
       "2020-02-28           NaN         NaN                  NaN   \n",
       "...                  ...         ...                  ...   \n",
       "2022-11-02        5606.0         0.0                  0.0   \n",
       "2022-11-03        5606.0         0.0                  0.0   \n",
       "2022-11-04        5606.0         0.0                  0.0   \n",
       "2022-11-05        5606.0         0.0                  0.0   \n",
       "2022-11-06        5606.0         0.0                  0.0   \n",
       "\n",
       "            total_cases_per_million  new_cases_per_million  ...  median_age  \\\n",
       "date                                                        ...               \n",
       "2020-02-24                    0.122                  0.122  ...        18.6   \n",
       "2020-02-25                    0.122                  0.000  ...        18.6   \n",
       "2020-02-26                    0.122                  0.000  ...        18.6   \n",
       "2020-02-27                    0.122                  0.000  ...        18.6   \n",
       "2020-02-28                    0.122                  0.000  ...        18.6   \n",
       "...                             ...                    ...  ...         ...   \n",
       "2022-11-02                15801.745                  0.000  ...        19.6   \n",
       "2022-11-03                15801.745                  0.000  ...        19.6   \n",
       "2022-11-04                15801.745                  0.000  ...        19.6   \n",
       "2022-11-05                15801.745                  0.000  ...        19.6   \n",
       "2022-11-06                15801.745                  0.000  ...        19.6   \n",
       "\n",
       "            aged_65_older  aged_70_older  gdp_per_capita  \\\n",
       "date                                                       \n",
       "2020-02-24          2.581          1.337        1803.987   \n",
       "2020-02-25          2.581          1.337        1803.987   \n",
       "2020-02-26          2.581          1.337        1803.987   \n",
       "2020-02-27          2.581          1.337        1803.987   \n",
       "2020-02-28          2.581          1.337        1803.987   \n",
       "...                   ...            ...             ...   \n",
       "2022-11-02          2.822          1.882        1899.775   \n",
       "2022-11-03          2.822          1.882        1899.775   \n",
       "2022-11-04          2.822          1.882        1899.775   \n",
       "2022-11-05          2.822          1.882        1899.775   \n",
       "2022-11-06          2.822          1.882        1899.775   \n",
       "\n",
       "            cardiovasc_death_rate  diabetes_prevalence  \\\n",
       "date                                                     \n",
       "2020-02-24                597.029                 9.59   \n",
       "2020-02-25                597.029                 9.59   \n",
       "2020-02-26                597.029                 9.59   \n",
       "2020-02-27                597.029                 9.59   \n",
       "2020-02-28                597.029                 9.59   \n",
       "...                           ...                  ...   \n",
       "2022-11-02                307.846                 1.82   \n",
       "2022-11-03                307.846                 1.82   \n",
       "2022-11-04                307.846                 1.82   \n",
       "2022-11-05                307.846                 1.82   \n",
       "2022-11-06                307.846                 1.82   \n",
       "\n",
       "            handwashing_facilities  hospital_beds_per_thousand  \\\n",
       "date                                                             \n",
       "2020-02-24                  37.746                         0.5   \n",
       "2020-02-25                  37.746                         0.5   \n",
       "2020-02-26                  37.746                         0.5   \n",
       "2020-02-27                  37.746                         0.5   \n",
       "2020-02-28                  37.746                         0.5   \n",
       "...                            ...                         ...   \n",
       "2022-11-02                  36.791                         1.7   \n",
       "2022-11-03                  36.791                         1.7   \n",
       "2022-11-04                  36.791                         1.7   \n",
       "2022-11-05                  36.791                         1.7   \n",
       "2022-11-06                  36.791                         1.7   \n",
       "\n",
       "            life_expectancy  human_development_index  \n",
       "date                                                  \n",
       "2020-02-24            64.83                    0.511  \n",
       "2020-02-25            64.83                    0.511  \n",
       "2020-02-26            64.83                    0.511  \n",
       "2020-02-27            64.83                    0.511  \n",
       "2020-02-28            64.83                    0.511  \n",
       "...                     ...                      ...  \n",
       "2022-11-02            61.49                    0.571  \n",
       "2022-11-03            61.49                    0.571  \n",
       "2022-11-04            61.49                    0.571  \n",
       "2022-11-05            61.49                    0.571  \n",
       "2022-11-06            61.49                    0.571  \n",
       "\n",
       "[233648 rows x 54 columns]"
      ]
     },
     "execution_count": 133,
     "metadata": {},
     "output_type": "execute_result"
    }
   ],
   "source": [
    "df"
   ]
  },
  {
   "cell_type": "markdown",
   "id": "5b41c751",
   "metadata": {},
   "source": [
    "## Explanatory Data Analysis"
   ]
  },
  {
   "cell_type": "code",
   "execution_count": 134,
   "id": "d9f86b78",
   "metadata": {},
   "outputs": [],
   "source": [
    "import plotly.express as px\n",
    "import seaborn as sns"
   ]
  },
  {
   "cell_type": "markdown",
   "id": "b590f704",
   "metadata": {},
   "source": [
    "### Data Description\n",
    "\n",
    "To examine the properties of the dataset, I applied the describe function to the object and float columns separately."
   ]
  },
  {
   "cell_type": "code",
   "execution_count": 73,
   "id": "f2fe8d09",
   "metadata": {},
   "outputs": [
    {
     "data": {
      "text/html": [
       "<div>\n",
       "<style scoped>\n",
       "    .dataframe tbody tr th:only-of-type {\n",
       "        vertical-align: middle;\n",
       "    }\n",
       "\n",
       "    .dataframe tbody tr th {\n",
       "        vertical-align: top;\n",
       "    }\n",
       "\n",
       "    .dataframe thead th {\n",
       "        text-align: right;\n",
       "    }\n",
       "</style>\n",
       "<table border=\"1\" class=\"dataframe\">\n",
       "  <thead>\n",
       "    <tr style=\"text-align: right;\">\n",
       "      <th></th>\n",
       "      <th>continent</th>\n",
       "      <th>location</th>\n",
       "      <th>tests_units</th>\n",
       "    </tr>\n",
       "  </thead>\n",
       "  <tbody>\n",
       "    <tr>\n",
       "      <th>count</th>\n",
       "      <td>233648</td>\n",
       "      <td>233648</td>\n",
       "      <td>233648</td>\n",
       "    </tr>\n",
       "    <tr>\n",
       "      <th>unique</th>\n",
       "      <td>7</td>\n",
       "      <td>248</td>\n",
       "      <td>5</td>\n",
       "    </tr>\n",
       "    <tr>\n",
       "      <th>top</th>\n",
       "      <td>Europe</td>\n",
       "      <td>Argentina</td>\n",
       "      <td>0</td>\n",
       "    </tr>\n",
       "    <tr>\n",
       "      <th>freq</th>\n",
       "      <td>53502</td>\n",
       "      <td>1041</td>\n",
       "      <td>126860</td>\n",
       "    </tr>\n",
       "  </tbody>\n",
       "</table>\n",
       "</div>"
      ],
      "text/plain": [
       "       continent   location  tests_units\n",
       "count     233648     233648       233648\n",
       "unique         7        248            5\n",
       "top       Europe  Argentina            0\n",
       "freq       53502       1041       126860"
      ]
     },
     "execution_count": 73,
     "metadata": {},
     "output_type": "execute_result"
    }
   ],
   "source": [
    "df.select_dtypes(\"object\").describe()"
   ]
  },
  {
   "cell_type": "code",
   "execution_count": 74,
   "id": "d64c7063",
   "metadata": {},
   "outputs": [
    {
     "data": {
      "text/html": [
       "<div>\n",
       "<style scoped>\n",
       "    .dataframe tbody tr th:only-of-type {\n",
       "        vertical-align: middle;\n",
       "    }\n",
       "\n",
       "    .dataframe tbody tr th {\n",
       "        vertical-align: top;\n",
       "    }\n",
       "\n",
       "    .dataframe thead th {\n",
       "        text-align: right;\n",
       "    }\n",
       "</style>\n",
       "<table border=\"1\" class=\"dataframe\">\n",
       "  <thead>\n",
       "    <tr style=\"text-align: right;\">\n",
       "      <th></th>\n",
       "      <th>total_cases</th>\n",
       "      <th>new_cases</th>\n",
       "      <th>new_cases_smoothed</th>\n",
       "      <th>total_deaths</th>\n",
       "      <th>new_deaths</th>\n",
       "      <th>new_deaths_smoothed</th>\n",
       "      <th>total_cases_per_million</th>\n",
       "      <th>new_cases_per_million</th>\n",
       "      <th>new_cases_smoothed_per_million</th>\n",
       "      <th>total_deaths_per_million</th>\n",
       "      <th>...</th>\n",
       "      <th>median_age</th>\n",
       "      <th>aged_65_older</th>\n",
       "      <th>aged_70_older</th>\n",
       "      <th>gdp_per_capita</th>\n",
       "      <th>cardiovasc_death_rate</th>\n",
       "      <th>diabetes_prevalence</th>\n",
       "      <th>handwashing_facilities</th>\n",
       "      <th>hospital_beds_per_thousand</th>\n",
       "      <th>life_expectancy</th>\n",
       "      <th>human_development_index</th>\n",
       "    </tr>\n",
       "  </thead>\n",
       "  <tbody>\n",
       "    <tr>\n",
       "      <th>count</th>\n",
       "      <td>2.199240e+05</td>\n",
       "      <td>2.197610e+05</td>\n",
       "      <td>2.185650e+05</td>\n",
       "      <td>2.006710e+05</td>\n",
       "      <td>200657.000000</td>\n",
       "      <td>199477.000000</td>\n",
       "      <td>218920.000000</td>\n",
       "      <td>218757.000000</td>\n",
       "      <td>217566.000000</td>\n",
       "      <td>199680.000000</td>\n",
       "      <td>...</td>\n",
       "      <td>188311.000000</td>\n",
       "      <td>186324.000000</td>\n",
       "      <td>187326.000000</td>\n",
       "      <td>187774.000000</td>\n",
       "      <td>187795.000000</td>\n",
       "      <td>197488.000000</td>\n",
       "      <td>92479.000000</td>\n",
       "      <td>167202.000000</td>\n",
       "      <td>214311.000000</td>\n",
       "      <td>183267.000000</td>\n",
       "    </tr>\n",
       "    <tr>\n",
       "      <th>mean</th>\n",
       "      <td>4.542070e+06</td>\n",
       "      <td>1.228828e+04</td>\n",
       "      <td>1.233416e+04</td>\n",
       "      <td>7.472686e+04</td>\n",
       "      <td>136.672551</td>\n",
       "      <td>137.357646</td>\n",
       "      <td>61555.572240</td>\n",
       "      <td>187.515345</td>\n",
       "      <td>188.142322</td>\n",
       "      <td>695.668254</td>\n",
       "      <td>...</td>\n",
       "      <td>30.609078</td>\n",
       "      <td>8.799018</td>\n",
       "      <td>5.550624</td>\n",
       "      <td>19542.612062</td>\n",
       "      <td>261.480102</td>\n",
       "      <td>8.387848</td>\n",
       "      <td>50.915794</td>\n",
       "      <td>3.088701</td>\n",
       "      <td>73.618394</td>\n",
       "      <td>0.724758</td>\n",
       "    </tr>\n",
       "    <tr>\n",
       "      <th>std</th>\n",
       "      <td>2.834763e+07</td>\n",
       "      <td>8.486543e+04</td>\n",
       "      <td>8.294492e+04</td>\n",
       "      <td>3.838271e+05</td>\n",
       "      <td>724.615589</td>\n",
       "      <td>710.243511</td>\n",
       "      <td>108683.000721</td>\n",
       "      <td>1147.551217</td>\n",
       "      <td>685.233591</td>\n",
       "      <td>980.120575</td>\n",
       "      <td>...</td>\n",
       "      <td>9.062527</td>\n",
       "      <td>6.125241</td>\n",
       "      <td>4.161267</td>\n",
       "      <td>20534.494726</td>\n",
       "      <td>120.232731</td>\n",
       "      <td>4.736196</td>\n",
       "      <td>31.879062</td>\n",
       "      <td>2.552005</td>\n",
       "      <td>7.445614</td>\n",
       "      <td>0.149606</td>\n",
       "    </tr>\n",
       "    <tr>\n",
       "      <th>min</th>\n",
       "      <td>1.000000e+00</td>\n",
       "      <td>0.000000e+00</td>\n",
       "      <td>0.000000e+00</td>\n",
       "      <td>1.000000e+00</td>\n",
       "      <td>0.000000</td>\n",
       "      <td>0.000000</td>\n",
       "      <td>0.001000</td>\n",
       "      <td>0.000000</td>\n",
       "      <td>0.000000</td>\n",
       "      <td>0.000000</td>\n",
       "      <td>...</td>\n",
       "      <td>15.100000</td>\n",
       "      <td>1.144000</td>\n",
       "      <td>0.526000</td>\n",
       "      <td>661.240000</td>\n",
       "      <td>79.370000</td>\n",
       "      <td>0.990000</td>\n",
       "      <td>1.188000</td>\n",
       "      <td>0.100000</td>\n",
       "      <td>53.280000</td>\n",
       "      <td>0.394000</td>\n",
       "    </tr>\n",
       "    <tr>\n",
       "      <th>25%</th>\n",
       "      <td>4.563000e+03</td>\n",
       "      <td>0.000000e+00</td>\n",
       "      <td>5.857000e+00</td>\n",
       "      <td>1.140000e+02</td>\n",
       "      <td>0.000000</td>\n",
       "      <td>0.000000</td>\n",
       "      <td>1107.932000</td>\n",
       "      <td>0.000000</td>\n",
       "      <td>1.273000</td>\n",
       "      <td>29.682000</td>\n",
       "      <td>...</td>\n",
       "      <td>22.300000</td>\n",
       "      <td>3.526000</td>\n",
       "      <td>2.063000</td>\n",
       "      <td>4449.898000</td>\n",
       "      <td>170.050000</td>\n",
       "      <td>5.310000</td>\n",
       "      <td>20.859000</td>\n",
       "      <td>1.300000</td>\n",
       "      <td>69.500000</td>\n",
       "      <td>0.602000</td>\n",
       "    </tr>\n",
       "    <tr>\n",
       "      <th>50%</th>\n",
       "      <td>5.068450e+04</td>\n",
       "      <td>5.200000e+01</td>\n",
       "      <td>9.200000e+01</td>\n",
       "      <td>1.201000e+03</td>\n",
       "      <td>1.000000</td>\n",
       "      <td>1.429000</td>\n",
       "      <td>10491.764500</td>\n",
       "      <td>7.046000</td>\n",
       "      <td>18.708000</td>\n",
       "      <td>215.843500</td>\n",
       "      <td>...</td>\n",
       "      <td>30.600000</td>\n",
       "      <td>6.704000</td>\n",
       "      <td>4.032000</td>\n",
       "      <td>12951.839000</td>\n",
       "      <td>243.964000</td>\n",
       "      <td>7.200000</td>\n",
       "      <td>49.839000</td>\n",
       "      <td>2.500000</td>\n",
       "      <td>75.050000</td>\n",
       "      <td>0.742000</td>\n",
       "    </tr>\n",
       "    <tr>\n",
       "      <th>75%</th>\n",
       "      <td>5.347918e+05</td>\n",
       "      <td>9.410000e+02</td>\n",
       "      <td>1.113143e+03</td>\n",
       "      <td>9.912500e+03</td>\n",
       "      <td>14.000000</td>\n",
       "      <td>15.429000</td>\n",
       "      <td>73696.149250</td>\n",
       "      <td>94.816000</td>\n",
       "      <td>133.512000</td>\n",
       "      <td>1030.252000</td>\n",
       "      <td>...</td>\n",
       "      <td>39.100000</td>\n",
       "      <td>14.178000</td>\n",
       "      <td>8.678000</td>\n",
       "      <td>27936.896000</td>\n",
       "      <td>329.942000</td>\n",
       "      <td>10.590000</td>\n",
       "      <td>83.241000</td>\n",
       "      <td>4.200000</td>\n",
       "      <td>79.070000</td>\n",
       "      <td>0.845000</td>\n",
       "    </tr>\n",
       "    <tr>\n",
       "      <th>max</th>\n",
       "      <td>6.328877e+08</td>\n",
       "      <td>4.083950e+06</td>\n",
       "      <td>3.439392e+06</td>\n",
       "      <td>6.602901e+06</td>\n",
       "      <td>17733.000000</td>\n",
       "      <td>14859.286000</td>\n",
       "      <td>672608.585000</td>\n",
       "      <td>228872.025000</td>\n",
       "      <td>36421.827000</td>\n",
       "      <td>6375.408000</td>\n",
       "      <td>...</td>\n",
       "      <td>48.200000</td>\n",
       "      <td>27.049000</td>\n",
       "      <td>18.493000</td>\n",
       "      <td>116935.600000</td>\n",
       "      <td>724.417000</td>\n",
       "      <td>30.530000</td>\n",
       "      <td>100.000000</td>\n",
       "      <td>13.800000</td>\n",
       "      <td>86.750000</td>\n",
       "      <td>0.957000</td>\n",
       "    </tr>\n",
       "  </tbody>\n",
       "</table>\n",
       "<p>8 rows × 51 columns</p>\n",
       "</div>"
      ],
      "text/plain": [
       "        total_cases     new_cases  new_cases_smoothed  total_deaths  \\\n",
       "count  2.199240e+05  2.197610e+05        2.185650e+05  2.006710e+05   \n",
       "mean   4.542070e+06  1.228828e+04        1.233416e+04  7.472686e+04   \n",
       "std    2.834763e+07  8.486543e+04        8.294492e+04  3.838271e+05   \n",
       "min    1.000000e+00  0.000000e+00        0.000000e+00  1.000000e+00   \n",
       "25%    4.563000e+03  0.000000e+00        5.857000e+00  1.140000e+02   \n",
       "50%    5.068450e+04  5.200000e+01        9.200000e+01  1.201000e+03   \n",
       "75%    5.347918e+05  9.410000e+02        1.113143e+03  9.912500e+03   \n",
       "max    6.328877e+08  4.083950e+06        3.439392e+06  6.602901e+06   \n",
       "\n",
       "          new_deaths  new_deaths_smoothed  total_cases_per_million  \\\n",
       "count  200657.000000        199477.000000            218920.000000   \n",
       "mean      136.672551           137.357646             61555.572240   \n",
       "std       724.615589           710.243511            108683.000721   \n",
       "min         0.000000             0.000000                 0.001000   \n",
       "25%         0.000000             0.000000              1107.932000   \n",
       "50%         1.000000             1.429000             10491.764500   \n",
       "75%        14.000000            15.429000             73696.149250   \n",
       "max     17733.000000         14859.286000            672608.585000   \n",
       "\n",
       "       new_cases_per_million  new_cases_smoothed_per_million  \\\n",
       "count          218757.000000                   217566.000000   \n",
       "mean              187.515345                      188.142322   \n",
       "std              1147.551217                      685.233591   \n",
       "min                 0.000000                        0.000000   \n",
       "25%                 0.000000                        1.273000   \n",
       "50%                 7.046000                       18.708000   \n",
       "75%                94.816000                      133.512000   \n",
       "max            228872.025000                    36421.827000   \n",
       "\n",
       "       total_deaths_per_million  ...     median_age  aged_65_older  \\\n",
       "count             199680.000000  ...  188311.000000  186324.000000   \n",
       "mean                 695.668254  ...      30.609078       8.799018   \n",
       "std                  980.120575  ...       9.062527       6.125241   \n",
       "min                    0.000000  ...      15.100000       1.144000   \n",
       "25%                   29.682000  ...      22.300000       3.526000   \n",
       "50%                  215.843500  ...      30.600000       6.704000   \n",
       "75%                 1030.252000  ...      39.100000      14.178000   \n",
       "max                 6375.408000  ...      48.200000      27.049000   \n",
       "\n",
       "       aged_70_older  gdp_per_capita  cardiovasc_death_rate  \\\n",
       "count  187326.000000   187774.000000          187795.000000   \n",
       "mean        5.550624    19542.612062             261.480102   \n",
       "std         4.161267    20534.494726             120.232731   \n",
       "min         0.526000      661.240000              79.370000   \n",
       "25%         2.063000     4449.898000             170.050000   \n",
       "50%         4.032000    12951.839000             243.964000   \n",
       "75%         8.678000    27936.896000             329.942000   \n",
       "max        18.493000   116935.600000             724.417000   \n",
       "\n",
       "       diabetes_prevalence  handwashing_facilities  \\\n",
       "count        197488.000000            92479.000000   \n",
       "mean              8.387848               50.915794   \n",
       "std               4.736196               31.879062   \n",
       "min               0.990000                1.188000   \n",
       "25%               5.310000               20.859000   \n",
       "50%               7.200000               49.839000   \n",
       "75%              10.590000               83.241000   \n",
       "max              30.530000              100.000000   \n",
       "\n",
       "       hospital_beds_per_thousand  life_expectancy  human_development_index  \n",
       "count               167202.000000    214311.000000            183267.000000  \n",
       "mean                     3.088701        73.618394                 0.724758  \n",
       "std                      2.552005         7.445614                 0.149606  \n",
       "min                      0.100000        53.280000                 0.394000  \n",
       "25%                      1.300000        69.500000                 0.602000  \n",
       "50%                      2.500000        75.050000                 0.742000  \n",
       "75%                      4.200000        79.070000                 0.845000  \n",
       "max                     13.800000        86.750000                 0.957000  \n",
       "\n",
       "[8 rows x 51 columns]"
      ]
     },
     "execution_count": 74,
     "metadata": {},
     "output_type": "execute_result"
    }
   ],
   "source": [
    "df.describe()"
   ]
  },
  {
   "cell_type": "markdown",
   "id": "92caa92f",
   "metadata": {},
   "source": [
    "## Correlation Analysis\n",
    "\n",
    "Since there are too many columns in the dataframe, I could not observe the correlations with the df.coor() method. When I removed the highly correlated columns that we calculated with the df.corr() method from the dataframe, I observed that the model performances decreased, so we did not apply this process. To examine the correlation between the dependent variables and the target variable, I examined the 25 columns with the highest correlation with the new_cases variable."
   ]
  },
  {
   "cell_type": "code",
   "execution_count": 75,
   "id": "6e991181",
   "metadata": {},
   "outputs": [
    {
     "name": "stdout",
     "output_type": "stream",
     "text": [
      "new_cases : 1.0\n",
      "new_cases_smoothed : 0.973181184909045\n",
      "total_deaths : 0.7108289934993826\n",
      "hosp_patients : 0.7090698069982018\n",
      "total_cases : 0.6819113696100667\n",
      "weekly_hosp_admissions : 0.6784334408318821\n",
      "new_deaths : 0.6449092300520353\n",
      "new_deaths_smoothed : 0.6320398207897783\n",
      "people_vaccinated : 0.5716136886179652\n",
      "icu_patients : 0.5673280726221489\n",
      "people_fully_vaccinated : 0.5616864880945197\n",
      "total_vaccinations : 0.5553363899688302\n",
      "new_tests : 0.5469013514204351\n",
      "population : 0.5423154307602437\n",
      "new_vaccinations_smoothed : 0.5095231391379189\n",
      "new_vaccinations : 0.4890245242211392\n",
      "total_tests : 0.44609514800079497\n",
      "weekly_icu_admissions : 0.4313601127654774\n",
      "weekly_hosp_admissions_per_million : 0.29382054842835525\n",
      "positive_rate : 0.17740734169853\n",
      "icu_patients_per_million : 0.15450136977175205\n",
      "hosp_patients_per_million : 0.1438186419619965\n",
      "weekly_icu_admissions_per_million : 0.1186389319711456\n",
      "new_tests_smoothed : 0.08296266034861\n",
      "total_vaccinations_per_hundred : 0.07831641528673311\n"
     ]
    }
   ],
   "source": [
    "correlations = {}\n",
    "\n",
    "for column in df.columns:\n",
    "    if column in [\"tests_units\",\"date\",\"location\",\"continent\"] :\n",
    "        continue\n",
    "    correlation = df[column].corr(df[\"new_cases\"])\n",
    "    correlations[column] = correlation\n",
    "\n",
    "sorted_dict = sorted(correlations.items(), key=lambda x: x[1], reverse=True)\n",
    "\n",
    "for i in range(25):\n",
    "    key, value = sorted_dict[i]\n",
    "    print(key,\":\",value)"
   ]
  },
  {
   "cell_type": "markdown",
   "id": "51f148ad",
   "metadata": {},
   "source": [
    "## Observing the new_case based on dates"
   ]
  },
  {
   "cell_type": "code",
   "execution_count": 76,
   "id": "93e2d6e3",
   "metadata": {},
   "outputs": [
    {
     "data": {
      "image/png": "[encoded data removed]",
      "text/plain": [
       "<Figure size 1080x576 with 1 Axes>"
      ]
     },
     "metadata": {
      "needs_background": "light"
     },
     "output_type": "display_data"
    }
   ],
   "source": [
    "df[\"new_cases\"].plot(figsize=(15,8), fontsize=14,linestyle='dotted',label = \"New_cases\")\n",
    "plt.xlabel(\"Date\",fontsize = 10)\n",
    "plt.ylabel('New cases',fontsize = 10)\n",
    "plt.show()\n",
    "\n",
    "\n",
    "\n",
    "\n"
   ]
  },
  {
   "cell_type": "markdown",
   "id": "eb529a36",
   "metadata": {},
   "source": [
    "## Examination of the sum of new_cases by locations"
   ]
  },
  {
   "cell_type": "code",
   "execution_count": 77,
   "id": "bcc54ce6",
   "metadata": {},
   "outputs": [
    {
     "data": {
      "application/vnd.plotly.v1+json": {
       "config": {
        "plotlyServerURL": "https://plot.ly"
       },
       "data": [
        {
         "alignmentgroup": "True",
         "hovertemplate": "new_cases=%{marker.color}<br>location=%{y}<extra></extra>",
         "legendgroup": "",
         "marker": {
          "color": [
           16096413,
           21158672,
           22702370,
           23093829,
           23642159,
           25856909,
           34744117,
           35823830,
           37435895,
           44661663,
           64272074,
           95982846,
           97750915,
           115827425,
           138124592,
           175439275,
           189016295,
           237063808,
           394875347,
           631269999
          ],
          "coloraxis": "coloraxis",
          "pattern": {
           "shape": ""
          }
         },
         "name": "",
         "offsetgroup": "",
         "orientation": "h",
         "showlegend": false,
         "textposition": "auto",
         "type": "bar",
         "x": [
          16096413,
          21158672,
          22702370,
          23093829,
          23642159,
          25856909,
          34744117,
          35823830,
          37435895,
          44661663,
          64272074,
          95982846,
          97750915,
          115827425,
          138124592,
          175439275,
          189016295,
          237063808,
          394875347,
          631269999
         ],
         "xaxis": "x",
         "y": [
          "Turkey",
          "Russia",
          "Japan",
          "United Kingdom",
          "Italy",
          "South Korea",
          "Brazil",
          "Germany",
          "France",
          "India",
          "South America",
          "Lower middle income",
          "United States",
          "North America",
          "Upper middle income",
          "European Union",
          "Asia",
          "Europe",
          "High income",
          "World"
         ],
         "yaxis": "y"
        }
       ],
       "layout": {
        "barmode": "relative",
        "coloraxis": {
         "colorbar": {
          "title": {
           "text": "new_cases"
          }
         },
         "colorscale": [
          [
           0,
           "deepskyblue"
          ],
          [
           1,
           "red"
          ]
         ]
        },
        "height": 600,
        "legend": {
         "tracegroupgap": 0
        },
        "template": {
         "data": {
          "bar": [
           {
            "error_x": {
             "color": "#2a3f5f"
            },
            "error_y": {
             "color": "#2a3f5f"
            },
            "marker": {
             "line": {
              "color": "#E5ECF6",
              "width": 0.5
             },
             "pattern": {
              "fillmode": "overlay",
              "size": 10,
              "solidity": 0.2
             }
            },
            "type": "bar"
           }
          ],
          "barpolar": [
           {
            "marker": {
             "line": {
              "color": "#E5ECF6",
              "width": 0.5
             },
             "pattern": {
              "fillmode": "overlay",
              "size": 10,
              "solidity": 0.2
             }
            },
            "type": "barpolar"
           }
          ],
          "carpet": [
           {
            "aaxis": {
             "endlinecolor": "#2a3f5f",
             "gridcolor": "white",
             "linecolor": "white",
             "minorgridcolor": "white",
             "startlinecolor": "#2a3f5f"
            },
            "baxis": {
             "endlinecolor": "#2a3f5f",
             "gridcolor": "white",
             "linecolor": "white",
             "minorgridcolor": "white",
             "startlinecolor": "#2a3f5f"
            },
            "type": "carpet"
           }
          ],
          "choropleth": [
           {
            "colorbar": {
             "outlinewidth": 0,
             "ticks": ""
            },
            "type": "choropleth"
           }
          ],
          "contour": [
           {
            "colorbar": {
             "outlinewidth": 0,
             "ticks": ""
            },
            "colorscale": [
             [
              0,
              "#0d0887"
             ],
             [
              0.1111111111111111,
              "#46039f"
             ],
             [
              0.2222222222222222,
              "#7201a8"
             ],
             [
              0.3333333333333333,
              "#9c179e"
             ],
             [
              0.4444444444444444,
              "#bd3786"
             ],
             [
              0.5555555555555556,
              "#d8576b"
             ],
             [
              0.6666666666666666,
              "#ed7953"
             ],
             [
              0.7777777777777778,
              "#fb9f3a"
             ],
             [
              0.8888888888888888,
              "#fdca26"
             ],
             [
              1,
              "#f0f921"
             ]
            ],
            "type": "contour"
           }
          ],
          "contourcarpet": [
           {
            "colorbar": {
             "outlinewidth": 0,
             "ticks": ""
            },
            "type": "contourcarpet"
           }
          ],
          "heatmap": [
           {
            "colorbar": {
             "outlinewidth": 0,
             "ticks": ""
            },
            "colorscale": [
             [
              0,
              "#0d0887"
             ],
             [
              0.1111111111111111,
              "#46039f"
             ],
             [
              0.2222222222222222,
              "#7201a8"
             ],
             [
              0.3333333333333333,
              "#9c179e"
             ],
             [
              0.4444444444444444,
              "#bd3786"
             ],
             [
              0.5555555555555556,
              "#d8576b"
             ],
             [
              0.6666666666666666,
              "#ed7953"
             ],
             [
              0.7777777777777778,
              "#fb9f3a"
             ],
             [
              0.8888888888888888,
              "#fdca26"
             ],
             [
              1,
              "#f0f921"
             ]
            ],
            "type": "heatmap"
           }
          ],
          "heatmapgl": [
           {
            "colorbar": {
             "outlinewidth": 0,
             "ticks": ""
            },
            "colorscale": [
             [
              0,
              "#0d0887"
             ],
             [
              0.1111111111111111,
              "#46039f"
             ],
             [
              0.2222222222222222,
              "#7201a8"
             ],
             [
              0.3333333333333333,
              "#9c179e"
             ],
             [
              0.4444444444444444,
              "#bd3786"
             ],
             [
              0.5555555555555556,
              "#d8576b"
             ],
             [
              0.6666666666666666,
              "#ed7953"
             ],
             [
              0.7777777777777778,
              "#fb9f3a"
             ],
             [
              0.8888888888888888,
              "#fdca26"
             ],
             [
              1,
              "#f0f921"
             ]
            ],
            "type": "heatmapgl"
           }
          ],
          "histogram": [
           {
            "marker": {
             "pattern": {
              "fillmode": "overlay",
              "size": 10,
              "solidity": 0.2
             }
            },
            "type": "histogram"
           }
          ],
          "histogram2d": [
           {
            "colorbar": {
             "outlinewidth": 0,
             "ticks": ""
            },
            "colorscale": [
             [
              0,
              "#0d0887"
             ],
             [
              0.1111111111111111,
              "#46039f"
             ],
             [
              0.2222222222222222,
              "#7201a8"
             ],
             [
              0.3333333333333333,
              "#9c179e"
             ],
             [
              0.4444444444444444,
              "#bd3786"
             ],
             [
              0.5555555555555556,
              "#d8576b"
             ],
             [
              0.6666666666666666,
              "#ed7953"
             ],
             [
              0.7777777777777778,
              "#fb9f3a"
             ],
             [
              0.8888888888888888,
              "#fdca26"
             ],
             [
              1,
              "#f0f921"
             ]
            ],
            "type": "histogram2d"
           }
          ],
          "histogram2dcontour": [
           {
            "colorbar": {
             "outlinewidth": 0,
             "ticks": ""
            },
            "colorscale": [
             [
              0,
              "#0d0887"
             ],
             [
              0.1111111111111111,
              "#46039f"
             ],
             [
              0.2222222222222222,
              "#7201a8"
             ],
             [
              0.3333333333333333,
              "#9c179e"
             ],
             [
              0.4444444444444444,
              "#bd3786"
             ],
             [
              0.5555555555555556,
              "#d8576b"
             ],
             [
              0.6666666666666666,
              "#ed7953"
             ],
             [
              0.7777777777777778,
              "#fb9f3a"
             ],
             [
              0.8888888888888888,
              "#fdca26"
             ],
             [
              1,
              "#f0f921"
             ]
            ],
            "type": "histogram2dcontour"
           }
          ],
          "mesh3d": [
           {
            "colorbar": {
             "outlinewidth": 0,
             "ticks": ""
            },
            "type": "mesh3d"
           }
          ],
          "parcoords": [
           {
            "line": {
             "colorbar": {
              "outlinewidth": 0,
              "ticks": ""
             }
            },
            "type": "parcoords"
           }
          ],
          "pie": [
           {
            "automargin": true,
            "type": "pie"
           }
          ],
          "scatter": [
           {
            "marker": {
             "colorbar": {
              "outlinewidth": 0,
              "ticks": ""
             }
            },
            "type": "scatter"
           }
          ],
          "scatter3d": [
           {
            "line": {
             "colorbar": {
              "outlinewidth": 0,
              "ticks": ""
             }
            },
            "marker": {
             "colorbar": {
              "outlinewidth": 0,
              "ticks": ""
             }
            },
            "type": "scatter3d"
           }
          ],
          "scattercarpet": [
           {
            "marker": {
             "colorbar": {
              "outlinewidth": 0,
              "ticks": ""
             }
            },
            "type": "scattercarpet"
           }
          ],
          "scattergeo": [
           {
            "marker": {
             "colorbar": {
              "outlinewidth": 0,
              "ticks": ""
             }
            },
            "type": "scattergeo"
           }
          ],
          "scattergl": [
           {
            "marker": {
             "colorbar": {
              "outlinewidth": 0,
              "ticks": ""
             }
            },
            "type": "scattergl"
           }
          ],
          "scattermapbox": [
           {
            "marker": {
             "colorbar": {
              "outlinewidth": 0,
              "ticks": ""
             }
            },
            "type": "scattermapbox"
           }
          ],
          "scatterpolar": [
           {
            "marker": {
             "colorbar": {
              "outlinewidth": 0,
              "ticks": ""
             }
            },
            "type": "scatterpolar"
           }
          ],
          "scatterpolargl": [
           {
            "marker": {
             "colorbar": {
              "outlinewidth": 0,
              "ticks": ""
             }
            },
            "type": "scatterpolargl"
           }
          ],
          "scatterternary": [
           {
            "marker": {
             "colorbar": {
              "outlinewidth": 0,
              "ticks": ""
             }
            },
            "type": "scatterternary"
           }
          ],
          "surface": [
           {
            "colorbar": {
             "outlinewidth": 0,
             "ticks": ""
            },
            "colorscale": [
             [
              0,
              "#0d0887"
             ],
             [
              0.1111111111111111,
              "#46039f"
             ],
             [
              0.2222222222222222,
              "#7201a8"
             ],
             [
              0.3333333333333333,
              "#9c179e"
             ],
             [
              0.4444444444444444,
              "#bd3786"
             ],
             [
              0.5555555555555556,
              "#d8576b"
             ],
             [
              0.6666666666666666,
              "#ed7953"
             ],
             [
              0.7777777777777778,
              "#fb9f3a"
             ],
             [
              0.8888888888888888,
              "#fdca26"
             ],
             [
              1,
              "#f0f921"
             ]
            ],
            "type": "surface"
           }
          ],
          "table": [
           {
            "cells": {
             "fill": {
              "color": "#EBF0F8"
             },
             "line": {
              "color": "white"
             }
            },
            "header": {
             "fill": {
              "color": "#C8D4E3"
             },
             "line": {
              "color": "white"
             }
            },
            "type": "table"
           }
          ]
         },
         "layout": {
          "annotationdefaults": {
           "arrowcolor": "#2a3f5f",
           "arrowhead": 0,
           "arrowwidth": 1
          },
          "autotypenumbers": "strict",
          "coloraxis": {
           "colorbar": {
            "outlinewidth": 0,
            "ticks": ""
           }
          },
          "colorscale": {
           "diverging": [
            [
             0,
             "#8e0152"
            ],
            [
             0.1,
             "#c51b7d"
            ],
            [
             0.2,
             "#de77ae"
            ],
            [
             0.3,
             "#f1b6da"
            ],
            [
             0.4,
             "#fde0ef"
            ],
            [
             0.5,
             "#f7f7f7"
            ],
            [
             0.6,
             "#e6f5d0"
            ],
            [
             0.7,
             "#b8e186"
            ],
            [
             0.8,
             "#7fbc41"
            ],
            [
             0.9,
             "#4d9221"
            ],
            [
             1,
             "#276419"
            ]
           ],
           "sequential": [
            [
             0,
             "#0d0887"
            ],
            [
             0.1111111111111111,
             "#46039f"
            ],
            [
             0.2222222222222222,
             "#7201a8"
            ],
            [
             0.3333333333333333,
             "#9c179e"
            ],
            [
             0.4444444444444444,
             "#bd3786"
            ],
            [
             0.5555555555555556,
             "#d8576b"
            ],
            [
             0.6666666666666666,
             "#ed7953"
            ],
            [
             0.7777777777777778,
             "#fb9f3a"
            ],
            [
             0.8888888888888888,
             "#fdca26"
            ],
            [
             1,
             "#f0f921"
            ]
           ],
           "sequentialminus": [
            [
             0,
             "#0d0887"
            ],
            [
             0.1111111111111111,
             "#46039f"
            ],
            [
             0.2222222222222222,
             "#7201a8"
            ],
            [
             0.3333333333333333,
             "#9c179e"
            ],
            [
             0.4444444444444444,
             "#bd3786"
            ],
            [
             0.5555555555555556,
             "#d8576b"
            ],
            [
             0.6666666666666666,
             "#ed7953"
            ],
            [
             0.7777777777777778,
             "#fb9f3a"
            ],
            [
             0.8888888888888888,
             "#fdca26"
            ],
            [
             1,
             "#f0f921"
            ]
           ]
          },
          "colorway": [
           "#636efa",
           "#EF553B",
           "#00cc96",
           "#ab63fa",
           "#FFA15A",
           "#19d3f3",
           "#FF6692",
           "#B6E880",
           "#FF97FF",
           "#FECB52"
          ],
          "font": {
           "color": "#2a3f5f"
          },
          "geo": {
           "bgcolor": "white",
           "lakecolor": "white",
           "landcolor": "#E5ECF6",
           "showlakes": true,
           "showland": true,
           "subunitcolor": "white"
          },
          "hoverlabel": {
           "align": "left"
          },
          "hovermode": "closest",
          "mapbox": {
           "style": "light"
          },
          "paper_bgcolor": "white",
          "plot_bgcolor": "#E5ECF6",
          "polar": {
           "angularaxis": {
            "gridcolor": "white",
            "linecolor": "white",
            "ticks": ""
           },
           "bgcolor": "#E5ECF6",
           "radialaxis": {
            "gridcolor": "white",
            "linecolor": "white",
            "ticks": ""
           }
          },
          "scene": {
           "xaxis": {
            "backgroundcolor": "#E5ECF6",
            "gridcolor": "white",
            "gridwidth": 2,
            "linecolor": "white",
            "showbackground": true,
            "ticks": "",
            "zerolinecolor": "white"
           },
           "yaxis": {
            "backgroundcolor": "#E5ECF6",
            "gridcolor": "white",
            "gridwidth": 2,
            "linecolor": "white",
            "showbackground": true,
            "ticks": "",
            "zerolinecolor": "white"
           },
           "zaxis": {
            "backgroundcolor": "#E5ECF6",
            "gridcolor": "white",
            "gridwidth": 2,
            "linecolor": "white",
            "showbackground": true,
            "ticks": "",
            "zerolinecolor": "white"
           }
          },
          "shapedefaults": {
           "line": {
            "color": "#2a3f5f"
           }
          },
          "ternary": {
           "aaxis": {
            "gridcolor": "white",
            "linecolor": "white",
            "ticks": ""
           },
           "baxis": {
            "gridcolor": "white",
            "linecolor": "white",
            "ticks": ""
           },
           "bgcolor": "#E5ECF6",
           "caxis": {
            "gridcolor": "white",
            "linecolor": "white",
            "ticks": ""
           }
          },
          "title": {
           "x": 0.05
          },
          "xaxis": {
           "automargin": true,
           "gridcolor": "white",
           "linecolor": "white",
           "ticks": "",
           "title": {
            "standoff": 15
           },
           "zerolinecolor": "white",
           "zerolinewidth": 2
          },
          "yaxis": {
           "automargin": true,
           "gridcolor": "white",
           "linecolor": "white",
           "ticks": "",
           "title": {
            "standoff": 15
           },
           "zerolinecolor": "white",
           "zerolinewidth": 2
          }
         }
        },
        "title": {
         "text": "Top 20 Total Cases Locations"
        },
        "xaxis": {
         "anchor": "y",
         "domain": [
          0,
          1
         ],
         "title": {
          "text": "new_cases"
         }
        },
        "yaxis": {
         "anchor": "x",
         "domain": [
          0,
          1
         ],
         "title": {
          "text": "location"
         }
        }
       }
      },
      "text/html": [
       "<div>                            <div id=\"36c5a4e1-435c-499f-ba6e-28ed9c826f1c\" class=\"plotly-graph-div\" style=\"height:600px; width:100%;\"></div>            <script type=\"text/javascript\">                require([\"plotly\"], function(Plotly) {                    window.PLOTLYENV=window.PLOTLYENV || {};                                    if (document.getElementById(\"36c5a4e1-435c-499f-ba6e-28ed9c826f1c\")) {                    Plotly.newPlot(                        \"36c5a4e1-435c-499f-ba6e-28ed9c826f1c\",                        [{\"alignmentgroup\":\"True\",\"hovertemplate\":\"new_cases=%{marker.color}<br>location=%{y}<extra></extra>\",\"legendgroup\":\"\",\"marker\":{\"color\":[16096413.0,21158672.0,22702370.0,23093829.0,23642159.0,25856909.0,34744117.0,35823830.0,37435895.0,44661663.0,64272074.0,95982846.0,97750915.0,115827425.0,138124592.0,175439275.0,189016295.0,237063808.0,394875347.0,631269999.0],\"coloraxis\":\"coloraxis\",\"pattern\":{\"shape\":\"\"}},\"name\":\"\",\"offsetgroup\":\"\",\"orientation\":\"h\",\"showlegend\":false,\"textposition\":\"auto\",\"x\":[16096413.0,21158672.0,22702370.0,23093829.0,23642159.0,25856909.0,34744117.0,35823830.0,37435895.0,44661663.0,64272074.0,95982846.0,97750915.0,115827425.0,138124592.0,175439275.0,189016295.0,237063808.0,394875347.0,631269999.0],\"xaxis\":\"x\",\"y\":[\"Turkey\",\"Russia\",\"Japan\",\"United Kingdom\",\"Italy\",\"South Korea\",\"Brazil\",\"Germany\",\"France\",\"India\",\"South America\",\"Lower middle income\",\"United States\",\"North America\",\"Upper middle income\",\"European Union\",\"Asia\",\"Europe\",\"High income\",\"World\"],\"yaxis\":\"y\",\"type\":\"bar\"}],                        {\"template\":{\"data\":{\"bar\":[{\"error_x\":{\"color\":\"#2a3f5f\"},\"error_y\":{\"color\":\"#2a3f5f\"},\"marker\":{\"line\":{\"color\":\"#E5ECF6\",\"width\":0.5},\"pattern\":{\"fillmode\":\"overlay\",\"size\":10,\"solidity\":0.2}},\"type\":\"bar\"}],\"barpolar\":[{\"marker\":{\"line\":{\"color\":\"#E5ECF6\",\"width\":0.5},\"pattern\":{\"fillmode\":\"overlay\",\"size\":10,\"solidity\":0.2}},\"type\":\"barpolar\"}],\"carpet\":[{\"aaxis\":{\"endlinecolor\":\"#2a3f5f\",\"gridcolor\":\"white\",\"linecolor\":\"white\",\"minorgridcolor\":\"white\",\"startlinecolor\":\"#2a3f5f\"},\"baxis\":{\"endlinecolor\":\"#2a3f5f\",\"gridcolor\":\"white\",\"linecolor\":\"white\",\"minorgridcolor\":\"white\",\"startlinecolor\":\"#2a3f5f\"},\"type\":\"carpet\"}],\"choropleth\":[{\"colorbar\":{\"outlinewidth\":0,\"ticks\":\"\"},\"type\":\"choropleth\"}],\"contour\":[{\"colorbar\":{\"outlinewidth\":0,\"ticks\":\"\"},\"colorscale\":[[0.0,\"#0d0887\"],[0.1111111111111111,\"#46039f\"],[0.2222222222222222,\"#7201a8\"],[0.3333333333333333,\"#9c179e\"],[0.4444444444444444,\"#bd3786\"],[0.5555555555555556,\"#d8576b\"],[0.6666666666666666,\"#ed7953\"],[0.7777777777777778,\"#fb9f3a\"],[0.8888888888888888,\"#fdca26\"],[1.0,\"#f0f921\"]],\"type\":\"contour\"}],\"contourcarpet\":[{\"colorbar\":{\"outlinewidth\":0,\"ticks\":\"\"},\"type\":\"contourcarpet\"}],\"heatmap\":[{\"colorbar\":{\"outlinewidth\":0,\"ticks\":\"\"},\"colorscale\":[[0.0,\"#0d0887\"],[0.1111111111111111,\"#46039f\"],[0.2222222222222222,\"#7201a8\"],[0.3333333333333333,\"#9c179e\"],[0.4444444444444444,\"#bd3786\"],[0.5555555555555556,\"#d8576b\"],[0.6666666666666666,\"#ed7953\"],[0.7777777777777778,\"#fb9f3a\"],[0.8888888888888888,\"#fdca26\"],[1.0,\"#f0f921\"]],\"type\":\"heatmap\"}],\"heatmapgl\":[{\"colorbar\":{\"outlinewidth\":0,\"ticks\":\"\"},\"colorscale\":[[0.0,\"#0d0887\"],[0.1111111111111111,\"#46039f\"],[0.2222222222222222,\"#7201a8\"],[0.3333333333333333,\"#9c179e\"],[0.4444444444444444,\"#bd3786\"],[0.5555555555555556,\"#d8576b\"],[0.6666666666666666,\"#ed7953\"],[0.7777777777777778,\"#fb9f3a\"],[0.8888888888888888,\"#fdca26\"],[1.0,\"#f0f921\"]],\"type\":\"heatmapgl\"}],\"histogram\":[{\"marker\":{\"pattern\":{\"fillmode\":\"overlay\",\"size\":10,\"solidity\":0.2}},\"type\":\"histogram\"}],\"histogram2d\":[{\"colorbar\":{\"outlinewidth\":0,\"ticks\":\"\"},\"colorscale\":[[0.0,\"#0d0887\"],[0.1111111111111111,\"#46039f\"],[0.2222222222222222,\"#7201a8\"],[0.3333333333333333,\"#9c179e\"],[0.4444444444444444,\"#bd3786\"],[0.5555555555555556,\"#d8576b\"],[0.6666666666666666,\"#ed7953\"],[0.7777777777777778,\"#fb9f3a\"],[0.8888888888888888,\"#fdca26\"],[1.0,\"#f0f921\"]],\"type\":\"histogram2d\"}],\"histogram2dcontour\":[{\"colorbar\":{\"outlinewidth\":0,\"ticks\":\"\"},\"colorscale\":[[0.0,\"#0d0887\"],[0.1111111111111111,\"#46039f\"],[0.2222222222222222,\"#7201a8\"],[0.3333333333333333,\"#9c179e\"],[0.4444444444444444,\"#bd3786\"],[0.5555555555555556,\"#d8576b\"],[0.6666666666666666,\"#ed7953\"],[0.7777777777777778,\"#fb9f3a\"],[0.8888888888888888,\"#fdca26\"],[1.0,\"#f0f921\"]],\"type\":\"histogram2dcontour\"}],\"mesh3d\":[{\"colorbar\":{\"outlinewidth\":0,\"ticks\":\"\"},\"type\":\"mesh3d\"}],\"parcoords\":[{\"line\":{\"colorbar\":{\"outlinewidth\":0,\"ticks\":\"\"}},\"type\":\"parcoords\"}],\"pie\":[{\"automargin\":true,\"type\":\"pie\"}],\"scatter\":[{\"marker\":{\"colorbar\":{\"outlinewidth\":0,\"ticks\":\"\"}},\"type\":\"scatter\"}],\"scatter3d\":[{\"line\":{\"colorbar\":{\"outlinewidth\":0,\"ticks\":\"\"}},\"marker\":{\"colorbar\":{\"outlinewidth\":0,\"ticks\":\"\"}},\"type\":\"scatter3d\"}],\"scattercarpet\":[{\"marker\":{\"colorbar\":{\"outlinewidth\":0,\"ticks\":\"\"}},\"type\":\"scattercarpet\"}],\"scattergeo\":[{\"marker\":{\"colorbar\":{\"outlinewidth\":0,\"ticks\":\"\"}},\"type\":\"scattergeo\"}],\"scattergl\":[{\"marker\":{\"colorbar\":{\"outlinewidth\":0,\"ticks\":\"\"}},\"type\":\"scattergl\"}],\"scattermapbox\":[{\"marker\":{\"colorbar\":{\"outlinewidth\":0,\"ticks\":\"\"}},\"type\":\"scattermapbox\"}],\"scatterpolar\":[{\"marker\":{\"colorbar\":{\"outlinewidth\":0,\"ticks\":\"\"}},\"type\":\"scatterpolar\"}],\"scatterpolargl\":[{\"marker\":{\"colorbar\":{\"outlinewidth\":0,\"ticks\":\"\"}},\"type\":\"scatterpolargl\"}],\"scatterternary\":[{\"marker\":{\"colorbar\":{\"outlinewidth\":0,\"ticks\":\"\"}},\"type\":\"scatterternary\"}],\"surface\":[{\"colorbar\":{\"outlinewidth\":0,\"ticks\":\"\"},\"colorscale\":[[0.0,\"#0d0887\"],[0.1111111111111111,\"#46039f\"],[0.2222222222222222,\"#7201a8\"],[0.3333333333333333,\"#9c179e\"],[0.4444444444444444,\"#bd3786\"],[0.5555555555555556,\"#d8576b\"],[0.6666666666666666,\"#ed7953\"],[0.7777777777777778,\"#fb9f3a\"],[0.8888888888888888,\"#fdca26\"],[1.0,\"#f0f921\"]],\"type\":\"surface\"}],\"table\":[{\"cells\":{\"fill\":{\"color\":\"#EBF0F8\"},\"line\":{\"color\":\"white\"}},\"header\":{\"fill\":{\"color\":\"#C8D4E3\"},\"line\":{\"color\":\"white\"}},\"type\":\"table\"}]},\"layout\":{\"annotationdefaults\":{\"arrowcolor\":\"#2a3f5f\",\"arrowhead\":0,\"arrowwidth\":1},\"autotypenumbers\":\"strict\",\"coloraxis\":{\"colorbar\":{\"outlinewidth\":0,\"ticks\":\"\"}},\"colorscale\":{\"diverging\":[[0,\"#8e0152\"],[0.1,\"#c51b7d\"],[0.2,\"#de77ae\"],[0.3,\"#f1b6da\"],[0.4,\"#fde0ef\"],[0.5,\"#f7f7f7\"],[0.6,\"#e6f5d0\"],[0.7,\"#b8e186\"],[0.8,\"#7fbc41\"],[0.9,\"#4d9221\"],[1,\"#276419\"]],\"sequential\":[[0.0,\"#0d0887\"],[0.1111111111111111,\"#46039f\"],[0.2222222222222222,\"#7201a8\"],[0.3333333333333333,\"#9c179e\"],[0.4444444444444444,\"#bd3786\"],[0.5555555555555556,\"#d8576b\"],[0.6666666666666666,\"#ed7953\"],[0.7777777777777778,\"#fb9f3a\"],[0.8888888888888888,\"#fdca26\"],[1.0,\"#f0f921\"]],\"sequentialminus\":[[0.0,\"#0d0887\"],[0.1111111111111111,\"#46039f\"],[0.2222222222222222,\"#7201a8\"],[0.3333333333333333,\"#9c179e\"],[0.4444444444444444,\"#bd3786\"],[0.5555555555555556,\"#d8576b\"],[0.6666666666666666,\"#ed7953\"],[0.7777777777777778,\"#fb9f3a\"],[0.8888888888888888,\"#fdca26\"],[1.0,\"#f0f921\"]]},\"colorway\":[\"#636efa\",\"#EF553B\",\"#00cc96\",\"#ab63fa\",\"#FFA15A\",\"#19d3f3\",\"#FF6692\",\"#B6E880\",\"#FF97FF\",\"#FECB52\"],\"font\":{\"color\":\"#2a3f5f\"},\"geo\":{\"bgcolor\":\"white\",\"lakecolor\":\"white\",\"landcolor\":\"#E5ECF6\",\"showlakes\":true,\"showland\":true,\"subunitcolor\":\"white\"},\"hoverlabel\":{\"align\":\"left\"},\"hovermode\":\"closest\",\"mapbox\":{\"style\":\"light\"},\"paper_bgcolor\":\"white\",\"plot_bgcolor\":\"#E5ECF6\",\"polar\":{\"angularaxis\":{\"gridcolor\":\"white\",\"linecolor\":\"white\",\"ticks\":\"\"},\"bgcolor\":\"#E5ECF6\",\"radialaxis\":{\"gridcolor\":\"white\",\"linecolor\":\"white\",\"ticks\":\"\"}},\"scene\":{\"xaxis\":{\"backgroundcolor\":\"#E5ECF6\",\"gridcolor\":\"white\",\"gridwidth\":2,\"linecolor\":\"white\",\"showbackground\":true,\"ticks\":\"\",\"zerolinecolor\":\"white\"},\"yaxis\":{\"backgroundcolor\":\"#E5ECF6\",\"gridcolor\":\"white\",\"gridwidth\":2,\"linecolor\":\"white\",\"showbackground\":true,\"ticks\":\"\",\"zerolinecolor\":\"white\"},\"zaxis\":{\"backgroundcolor\":\"#E5ECF6\",\"gridcolor\":\"white\",\"gridwidth\":2,\"linecolor\":\"white\",\"showbackground\":true,\"ticks\":\"\",\"zerolinecolor\":\"white\"}},\"shapedefaults\":{\"line\":{\"color\":\"#2a3f5f\"}},\"ternary\":{\"aaxis\":{\"gridcolor\":\"white\",\"linecolor\":\"white\",\"ticks\":\"\"},\"baxis\":{\"gridcolor\":\"white\",\"linecolor\":\"white\",\"ticks\":\"\"},\"bgcolor\":\"#E5ECF6\",\"caxis\":{\"gridcolor\":\"white\",\"linecolor\":\"white\",\"ticks\":\"\"}},\"title\":{\"x\":0.05},\"xaxis\":{\"automargin\":true,\"gridcolor\":\"white\",\"linecolor\":\"white\",\"ticks\":\"\",\"title\":{\"standoff\":15},\"zerolinecolor\":\"white\",\"zerolinewidth\":2},\"yaxis\":{\"automargin\":true,\"gridcolor\":\"white\",\"linecolor\":\"white\",\"ticks\":\"\",\"title\":{\"standoff\":15},\"zerolinecolor\":\"white\",\"zerolinewidth\":2}}},\"xaxis\":{\"anchor\":\"y\",\"domain\":[0.0,1.0],\"title\":{\"text\":\"new_cases\"}},\"yaxis\":{\"anchor\":\"x\",\"domain\":[0.0,1.0],\"title\":{\"text\":\"location\"}},\"coloraxis\":{\"colorbar\":{\"title\":{\"text\":\"new_cases\"}},\"colorscale\":[[0.0,\"deepskyblue\"],[1.0,\"red\"]]},\"legend\":{\"tracegroupgap\":0},\"title\":{\"text\":\"Top 20 Total Cases Locations\"},\"barmode\":\"relative\",\"height\":600},                        {\"responsive\": true}                    ).then(function(){\n",
       "                            \n",
       "var gd = document.getElementById('36c5a4e1-435c-499f-ba6e-28ed9c826f1c');\n",
       "var x = new MutationObserver(function (mutations, observer) {{\n",
       "        var display = window.getComputedStyle(gd).display;\n",
       "        if (!display || display === 'none') {{\n",
       "            console.log([gd, 'removed!']);\n",
       "            Plotly.purge(gd);\n",
       "            observer.disconnect();\n",
       "        }}\n",
       "}});\n",
       "\n",
       "// Listen for the removal of the full notebook cells\n",
       "var notebookContainer = gd.closest('#notebook-container');\n",
       "if (notebookContainer) {{\n",
       "    x.observe(notebookContainer, {childList: true});\n",
       "}}\n",
       "\n",
       "// Listen for the clearing of the current output cell\n",
       "var outputEl = gd.closest('.output');\n",
       "if (outputEl) {{\n",
       "    x.observe(outputEl, {childList: true});\n",
       "}}\n",
       "\n",
       "                        })                };                });            </script>        </div>"
      ]
     },
     "metadata": {},
     "output_type": "display_data"
    }
   ],
   "source": [
    "top20_location = pd.DataFrame(df.groupby('location')['new_cases'].sum().nlargest(20).sort_values(ascending = True))\n",
    "fig2 = px.bar(top20_location, x = 'new_cases', y = top20_location.index, height = 600, color = 'new_cases', orientation = 'h',\n",
    "            color_continuous_scale = ['deepskyblue','red'], title = 'Top 20 Total Cases Locations')\n",
    "fig2.show()"
   ]
  },
  {
   "cell_type": "markdown",
   "id": "75db62dc",
   "metadata": {},
   "source": [
    "## Comparison of new_cases_per_million and new_vaccinations_smoothed_per_million\n",
    "\n",
    "We made this visualization to see the relationship between the vaccination rate and the new_case rate. We observed that the new_case ratio increased during periods where the vaccination rate decreased."
   ]
  },
  {
   "cell_type": "code",
   "execution_count": 78,
   "id": "f4cdf244",
   "metadata": {},
   "outputs": [
    {
     "data": {
      "image/png": "[encoded data removed]",
      "text/plain": [
       "<Figure size 1080x576 with 2 Axes>"
      ]
     },
     "metadata": {
      "needs_background": "light"
     },
     "output_type": "display_data"
    }
   ],
   "source": [
    "plt.subplot(3, 1, 1)\n",
    "df[\"new_cases_per_million\"].plot(figsize=(15,8), fontsize=14,linestyle='dotted',label = \"New_cases_per_million\")\n",
    "\n",
    "plt.subplot(3, 1, 2)\n",
    "df[\"new_vaccinations_smoothed_per_million\"].plot(figsize=(15,8), fontsize=14,linestyle='dotted',label = \"new_vaccinations_smoothed_per_million\")\n",
    "\n",
    "\n",
    "plt.xlabel(\"Date\",fontsize = 10)\n",
    "\n",
    "plt.show()"
   ]
  },
  {
   "cell_type": "markdown",
   "id": "9f4c161e",
   "metadata": {},
   "source": [
    "## Observing new_case values according to test_performed values"
   ]
  },
  {
   "cell_type": "code",
   "execution_count": 79,
   "id": "fc481f40",
   "metadata": {},
   "outputs": [
    {
     "data": {
      "text/plain": [
       "<AxesSubplot:xlabel='date'>"
      ]
     },
     "execution_count": 79,
     "metadata": {},
     "output_type": "execute_result"
    },
    {
     "data": {
      "image/png": "[encoded data removed]",
      "text/plain": [
       "<Figure size 1080x576 with 3 Axes>"
      ]
     },
     "metadata": {
      "needs_background": "light"
     },
     "output_type": "display_data"
    }
   ],
   "source": [
    "\n",
    "\n",
    "\n",
    "plt.subplot(4, 1, 1)\n",
    "df[df[\"tests_units\"]==\"tests performed\"][\"new_cases_per_million\"].plot(figsize=(15,8), fontsize=14,linestyle='dotted')\n",
    "\n",
    "plt.subplot(4, 1, 2)\n",
    "df[df[\"tests_units\"]==\"people tested\"][\"new_cases_per_million\"].plot(figsize=(15,8), fontsize=14,linestyle='dotted')\n",
    "\n",
    "plt.subplot(4, 1, 3)\n",
    "df[df[\"tests_units\"]==\"samples tested\"][\"new_cases_per_million\"].plot(figsize=(15,8), fontsize=14,linestyle='dotted')\n"
   ]
  },
  {
   "cell_type": "code",
   "execution_count": null,
   "id": "eccd9340",
   "metadata": {},
   "outputs": [],
   "source": []
  },
  {
   "cell_type": "markdown",
   "id": "0fb328fc",
   "metadata": {},
   "source": [
    "## Feature Extraction"
   ]
  },
  {
   "cell_type": "code",
   "execution_count": 80,
   "id": "59ff1a3c",
   "metadata": {},
   "outputs": [],
   "source": [
    "df['new_cases_avg_3g'] = df.groupby('location')['new_cases'].rolling(3, min_periods=1).mean().reset_index(0,drop=True)"
   ]
  },
  {
   "cell_type": "code",
   "execution_count": 81,
   "id": "73fb6e9e",
   "metadata": {},
   "outputs": [],
   "source": [
    "df['daily_death_ratio'] = round(df['new_deaths']/df['total_deaths'],5)"
   ]
  },
  {
   "cell_type": "markdown",
   "id": "89c4469a",
   "metadata": {},
   "source": [
    "- Since population density is effective for the spread of the virus, I produced a new variable by multiplying the new case with the population density columns.\n"
   ]
  },
  {
   "cell_type": "code",
   "execution_count": 82,
   "id": "f5da3755",
   "metadata": {},
   "outputs": [],
   "source": [
    "df[\"positive_density\"] =  df[\"new_cases\"]*df[\"population_density\"]"
   ]
  },
  {
   "cell_type": "markdown",
   "id": "4fcc3539",
   "metadata": {},
   "source": [
    "- Since the number of cases is related to the previous days, I added the Relative Strength Index information to obtain information about the direction of change in the number of cases."
   ]
  },
  {
   "cell_type": "code",
   "execution_count": 83,
   "id": "2dac742d",
   "metadata": {},
   "outputs": [],
   "source": [
    "df['Diff'] = df.groupby(\"location\")['new_cases'].transform(lambda x: x.diff())\n",
    "df['Up'] = df['Diff']\n",
    "df.loc[(df['Up']<0), 'Up'] = 0\n",
    "\n",
    "df['Down'] = df['Diff']\n",
    "df.loc[(df['Down']>0), 'Down'] = 0 \n",
    "df['Down'] = abs(df['Down'])\n",
    "\n",
    "df['avg_5up'] = df['Up'].transform(lambda x: x.rolling(window=5).mean())\n",
    "df['avg_5down'] = df['Down'].transform(lambda x: x.rolling(window=5).mean())\n",
    "\n",
    "df['avg_15up'] = df['Up'].transform(lambda x: x.rolling(window=14).mean())\n",
    "df['avg_15down'] = df['Down'].transform(lambda x: x.rolling(window=14).mean())\n",
    "\n",
    "df['RS_5'] = df['avg_5up'] / df['avg_5down']\n",
    "df['RS_15'] = df['avg_15up'] / df['avg_15down']\n",
    "\n",
    "df['RSI_5'] = 100 - (100/(1+df['RS_5']))\n",
    "df['RSI_15'] = 100 - (100/(1+df['RS_15']))\n",
    "\n",
    "\n",
    "df.drop(\"RS_5\",axis = 1 ,inplace = True)\n",
    "df.drop(\"RS_15\",axis = 1 ,inplace = True)\n",
    "\n",
    "\n"
   ]
  },
  {
   "cell_type": "markdown",
   "id": "c69639d5",
   "metadata": {},
   "source": [
    "- By applying the Exponentially Weighted Moving Average function to the new cases and positive density variables I created, I added exponential average information to our dataset."
   ]
  },
  {
   "cell_type": "code",
   "execution_count": 84,
   "id": "cc803839",
   "metadata": {},
   "outputs": [],
   "source": [
    "df['5Ewm'] = df.groupby(\"location\")['new_cases'].transform(lambda x: x.ewm(span=5, adjust=False).mean())\n",
    "df['15Ewm'] = df.groupby(\"location\")['new_cases'].transform(lambda x: x.ewm(span=15, adjust=False).mean())"
   ]
  },
  {
   "cell_type": "code",
   "execution_count": 85,
   "id": "c3cbc731",
   "metadata": {},
   "outputs": [],
   "source": [
    "df['den_5Ewm'] = df.groupby(\"location\")['positive_density'].transform(lambda x: x.ewm(span=5, adjust=False).mean())\n",
    "df['den_15Ewm'] = df.groupby(\"location\")['positive_density'].transform(lambda x: x.ewm(span=15, adjust=False).mean())"
   ]
  },
  {
   "cell_type": "code",
   "execution_count": 86,
   "id": "2c6bce9d",
   "metadata": {},
   "outputs": [],
   "source": [
    "df['15MA'] = df.groupby('location')['new_cases'].transform(lambda x: x.rolling(window=15).mean())\n",
    "df['SD'] = df.groupby('location')['new_cases'].transform(lambda x: x.rolling(window=15).std())\n",
    "df['upperband'] = df['15MA'] + 2*df['SD']\n",
    "df['lowerband'] = df['15MA'] - 2*df['SD']"
   ]
  },
  {
   "cell_type": "markdown",
   "id": "e3348147",
   "metadata": {},
   "source": [
    "## Model"
   ]
  },
  {
   "cell_type": "code",
   "execution_count": 87,
   "id": "2de9d340",
   "metadata": {},
   "outputs": [],
   "source": [
    "df = df.dropna(how='all', axis=0)\n",
    "df = df.fillna(0)"
   ]
  },
  {
   "cell_type": "code",
   "execution_count": 88,
   "id": "e7fe73cd",
   "metadata": {},
   "outputs": [],
   "source": [
    "df['TARGET'] = df.groupby('location')['new_cases'].shift(-1) ## Tomorrow's case will be our prediction\n",
    "df.dropna(subset=['TARGET'], inplace = True)"
   ]
  },
  {
   "cell_type": "markdown",
   "id": "c611cdfe",
   "metadata": {},
   "source": [
    "- I assigned the data in the date range that I will make predictions for Turkey to the df_tr variable"
   ]
  },
  {
   "cell_type": "code",
   "execution_count": 89,
   "id": "ca00b940",
   "metadata": {},
   "outputs": [],
   "source": [
    "date_start_test = '2022-04-01'   \n",
    "date_start_forecast = '2022-11-01'\n",
    "date_validation = \"2022-11-07\"\n",
    "\n",
    "\n",
    "df_tr =  df.loc[date_start_forecast:date_validation].copy()\n",
    "df = df.loc[ :date_start_forecast].copy()"
   ]
  },
  {
   "cell_type": "code",
   "execution_count": 136,
   "id": "8603891c",
   "metadata": {},
   "outputs": [],
   "source": [
    "df[\"continent\"] = df[\"continent\"].astype(\"str\")\n",
    "df[\"tests_units\"] = df[\"tests_units\"].astype(\"str\")"
   ]
  },
  {
   "cell_type": "code",
   "execution_count": 137,
   "id": "d19b00d8",
   "metadata": {},
   "outputs": [],
   "source": [
    "categ = [\"continent\",'location',\"tests_units\"]\n",
    "\n",
    "le = LabelEncoder()\n",
    "df[categ] = df[categ].apply(le.fit_transform)"
   ]
  },
  {
   "cell_type": "code",
   "execution_count": 96,
   "id": "e9fe6ee2",
   "metadata": {},
   "outputs": [],
   "source": [
    "df_train = df.loc[ :date_start_test].copy()\n",
    "df_test = df.loc[date_start_test: date_start_forecast].copy()"
   ]
  },
  {
   "cell_type": "code",
   "execution_count": 97,
   "id": "d1b65a63",
   "metadata": {},
   "outputs": [],
   "source": [
    "X_train = df_train.drop(\"TARGET\",axis = 1)\n",
    "y_train = df_train[\"TARGET\"]"
   ]
  },
  {
   "cell_type": "code",
   "execution_count": 98,
   "id": "49c18a6b",
   "metadata": {},
   "outputs": [],
   "source": [
    "X_test = df_test.drop(\"TARGET\",axis = 1)\n",
    "y_test = df_test[\"TARGET\"]"
   ]
  },
  {
   "cell_type": "code",
   "execution_count": 99,
   "id": "cc8171d1",
   "metadata": {},
   "outputs": [],
   "source": [
    "import matplotlib.pyplot as plt\n",
    "\n",
    "from sklearn.metrics import r2_score, mean_absolute_error, mean_absolute_percentage_error\n"
   ]
  },
  {
   "cell_type": "markdown",
   "id": "2eb3ce83",
   "metadata": {},
   "source": [
    "## Linear Regression"
   ]
  },
  {
   "cell_type": "code",
   "execution_count": 112,
   "id": "37d28ce2",
   "metadata": {},
   "outputs": [
    {
     "name": "stdout",
     "output_type": "stream",
     "text": [
      "R2 score: 0.917314746373746\n",
      "MAE: 4146.77928063483\n",
      "MAPE: 3.0347560551352996e+18\n"
     ]
    }
   ],
   "source": [
    "from sklearn.linear_model import LinearRegression\n",
    "reg = LinearRegression().fit(X_train, y_train)\n",
    "\n",
    "y_pred_lr = reg.predict(X_test)\n",
    "r2_lr = r2_score(y_test,y_pred_lr)\n",
    "mae_lr = mean_absolute_error(y_test, y_pred_lr)\n",
    "mape_lr = mean_absolute_percentage_error(y_test, y_pred_lr)\n",
    "\n",
    "print(\"R2 score:\", r2_lr)\n",
    "print(\"MAE:\", mae_lr)\n",
    "print(\"MAPE:\", mape_lr)"
   ]
  },
  {
   "cell_type": "code",
   "execution_count": 113,
   "id": "df176f5c",
   "metadata": {},
   "outputs": [
    {
     "data": {
      "image/png": "[encoded data removed]",
      "text/plain": [
       "<Figure size 432x288 with 1 Axes>"
      ]
     },
     "metadata": {
      "needs_background": "light"
     },
     "output_type": "display_data"
    }
   ],
   "source": [
    "errors = y_test - y_pred_lr\n",
    "\n",
    "plt.boxplot(errors)\n",
    "\n",
    "plt.show()"
   ]
  },
  {
   "cell_type": "markdown",
   "id": "31ca50d6",
   "metadata": {},
   "source": [
    "- I obtained a high r squared value from linear regression. I will compare MAE and MAPE values with other models."
   ]
  },
  {
   "cell_type": "markdown",
   "id": "cc9dfacf",
   "metadata": {},
   "source": [
    "## Decision Trees"
   ]
  },
  {
   "cell_type": "code",
   "execution_count": 142,
   "id": "7cb67edb",
   "metadata": {},
   "outputs": [
    {
     "name": "stdout",
     "output_type": "stream",
     "text": [
      "R2 score: 0.705544174572418\n",
      "MAE: 5955.759722925657\n",
      "MAPE: 2.910005582988089e+18\n"
     ]
    }
   ],
   "source": [
    "from sklearn import tree\n",
    "tree= tree.DecisionTreeRegressor()\n",
    "tree =tree.fit(X_train, y_train)\n",
    "\n",
    "y_pred_dt = tree.predict(X_test)\n",
    "r2_dt = r2_score(y_test,y_pred_dt)\n",
    "mae_dt = mean_absolute_error(y_test, y_pred_dt)\n",
    "mape_dt = mean_absolute_percentage_error(y_test, y_pred_dt)\n",
    "\n",
    "print(\"R2 score:\", r2_dt)\n",
    "print(\"MAE:\", mae_dt)\n",
    "print(\"MAPE:\", mape_dt)"
   ]
  },
  {
   "cell_type": "code",
   "execution_count": 143,
   "id": "5134d092",
   "metadata": {},
   "outputs": [
    {
     "data": {
      "image/png": "[encoded data removed]",
      "text/plain": [
       "<Figure size 432x288 with 1 Axes>"
      ]
     },
     "metadata": {
      "needs_background": "light"
     },
     "output_type": "display_data"
    }
   ],
   "source": [
    "errors_ada = y_test - y_pred_ada\n",
    "plt.boxplot(errors_ada)\n",
    "\n",
    "plt.show()"
   ]
  },
  {
   "cell_type": "code",
   "execution_count": null,
   "id": "b678c1f2",
   "metadata": {},
   "outputs": [],
   "source": []
  },
  {
   "cell_type": "markdown",
   "id": "0a03ad03",
   "metadata": {},
   "source": [
    "## Ridge Regression"
   ]
  },
  {
   "cell_type": "code",
   "execution_count": 102,
   "id": "e946bc0d",
   "metadata": {},
   "outputs": [
    {
     "name": "stdout",
     "output_type": "stream",
     "text": [
      "R2 score: 0.9173147562242651\n",
      "MAE: 4146.780363407316\n",
      "MAPE: 3.034761118648566e+18\n"
     ]
    }
   ],
   "source": [
    "from sklearn.linear_model import Ridge\n",
    "rdg = Ridge(alpha=1.0)\n",
    "rdg.fit(X_train, y_train)\n",
    "y_pred_ridge = rdg.predict(X_test)\n",
    "\n",
    "r2_ridge = r2_score(y_test,y_pred_ridge)\n",
    "mae_ridge = mean_absolute_error(y_test, y_pred_ridge)\n",
    "mape_ridge = mean_absolute_percentage_error(y_test, y_pred_ridge)\n",
    "\n",
    "print(\"R2 score:\", r2_ridge)\n",
    "print(\"MAE:\", mae_ridge)\n",
    "print(\"MAPE:\", mape_ridge)"
   ]
  },
  {
   "cell_type": "code",
   "execution_count": 103,
   "id": "600f87d6",
   "metadata": {},
   "outputs": [
    {
     "data": {
      "image/png": "[encoded data removed]",
      "text/plain": [
       "<Figure size 432x288 with 1 Axes>"
      ]
     },
     "metadata": {
      "needs_background": "light"
     },
     "output_type": "display_data"
    }
   ],
   "source": [
    "errors_ridge = y_test - y_pred_ridge\n",
    "plt.boxplot(errors_ridge)\n",
    "\n",
    "plt.show()"
   ]
  },
  {
   "cell_type": "markdown",
   "id": "f4de0716",
   "metadata": {},
   "source": [
    "- Ridge regression gave similar results as linear regression."
   ]
  },
  {
   "cell_type": "markdown",
   "id": "d13b1d1a",
   "metadata": {},
   "source": [
    "## ElasticNet Regression"
   ]
  },
  {
   "cell_type": "code",
   "execution_count": 104,
   "id": "d6795a62",
   "metadata": {},
   "outputs": [
    {
     "name": "stdout",
     "output_type": "stream",
     "text": [
      "R2 score: 0.8638775930291193\n",
      "MAE: 5281.85941094859\n",
      "MAPE: 3.169239028251096e+18\n"
     ]
    },
    {
     "name": "stderr",
     "output_type": "stream",
     "text": [
      "C:\\Users\\Hasan\\anaconda3\\lib\\site-packages\\sklearn\\linear_model\\_coordinate_descent.py:648: ConvergenceWarning:\n",
      "\n",
      "Objective did not converge. You might want to increase the number of iterations, check the scale of the features or consider increasing regularisation. Duality gap: 1.659e+13, tolerance: 1.337e+11\n",
      "\n"
     ]
    }
   ],
   "source": [
    "from sklearn.linear_model import ElasticNet\n",
    "regr = ElasticNet(alpha=0.1)\n",
    "elastic = regr.fit(X_train,y_train)\n",
    "y_pred_el_net = elastic.predict(X_test)\n",
    "\n",
    "r2_el_net = r2_score(y_test,y_pred_el_net)\n",
    "mae_el_net = mean_absolute_error(y_test, y_pred_el_net)\n",
    "mape_el_net = mean_absolute_percentage_error(y_test, y_pred_el_net)\n",
    "\n",
    "print(\"R2 score:\", r2_el_net)\n",
    "print(\"MAE:\", mae_el_net)\n",
    "print(\"MAPE:\", mape_el_net)"
   ]
  },
  {
   "cell_type": "code",
   "execution_count": 105,
   "id": "5ea176e5",
   "metadata": {},
   "outputs": [
    {
     "data": {
      "image/png": "[encoded data removed]",
      "text/plain": [
       "<Figure size 720x432 with 1 Axes>"
      ]
     },
     "metadata": {
      "needs_background": "light"
     },
     "output_type": "display_data"
    }
   ],
   "source": [
    "errors_el_net = y_test - y_pred_el_net\n",
    "plt.figure(figsize=(10, 6))\n",
    "plt.boxplot(errors_el_net)\n",
    "\n",
    "plt.show()"
   ]
  },
  {
   "cell_type": "markdown",
   "id": "ce4fe263",
   "metadata": {},
   "source": [
    "- ElasticNet performed worse than linear regression and ridge regression"
   ]
  },
  {
   "cell_type": "markdown",
   "id": "ee5536de",
   "metadata": {},
   "source": [
    "## XGBoost"
   ]
  },
  {
   "cell_type": "code",
   "execution_count": 114,
   "id": "f90524ed",
   "metadata": {},
   "outputs": [
    {
     "name": "stdout",
     "output_type": "stream",
     "text": [
      "[14:52:35] WARNING: C:/buildkite-agent/builds/buildkite-windows-cpu-autoscaling-group-i-030221e36e1a46bfb-1/xgboost/xgboost-ci-windows/src/objective/regression_obj.cu:213: reg:linear is now deprecated in favor of reg:squarederror.\n",
      "R2 score: 0.8836145580142947\n",
      "MAE: 4048.6134046791135\n",
      "MAPE: 2.0135983231675538e+18\n"
     ]
    }
   ],
   "source": [
    "import xgboost as xg\n",
    "xgb_r = xg.XGBRegressor(objective ='reg:linear',\n",
    "                  n_estimators = 10, seed = 123)\n",
    "\n",
    "xgb_r.fit(X_train,y_train)\n",
    "\n",
    "y_pred_xgb = xgb_r.predict(X_test)\n",
    "\n",
    "r2_xgb = r2_score(y_test,y_pred_xgb)\n",
    "mae_xgb = mean_absolute_error(y_test, y_pred_xgb)\n",
    "mape_xgb = mean_absolute_percentage_error(y_test, y_pred_xgb)\n",
    "\n",
    "print(\"R2 score:\", r2_xgb)\n",
    "print(\"MAE:\", mae_xgb)\n",
    "print(\"MAPE:\", mape_xgb)\n"
   ]
  },
  {
   "cell_type": "code",
   "execution_count": 107,
   "id": "77e26434",
   "metadata": {},
   "outputs": [
    {
     "data": {
      "image/png": "[encoded data removed]",
      "text/plain": [
       "<Figure size 720x432 with 1 Axes>"
      ]
     },
     "metadata": {
      "needs_background": "light"
     },
     "output_type": "display_data"
    }
   ],
   "source": [
    "errors_xgb = y_test - y_pred_xgb\n",
    "plt.figure(figsize=(10, 6))\n",
    "plt.boxplot(errors_xgb)\n",
    "\n",
    "plt.show()"
   ]
  },
  {
   "cell_type": "markdown",
   "id": "feba114d",
   "metadata": {},
   "source": [
    "- When I look at the scores I obtained from Xgboost, the r square value is lower than the linear regression and ridge regression models, but when I look at the MAE value, I see that it predicts with less error difference. Therefore, I decided to use the XGBoost model to forecast the turkey data."
   ]
  },
  {
   "cell_type": "markdown",
   "id": "72a5f2ca",
   "metadata": {},
   "source": [
    "## Parameter setting XGBoost\n",
    "\n",
    "I used the gridsearchcv method to find the parameters that the xgboost algorithm will perform best. In order to perform crossvalidation, I combined the X_train and X_test data again and obtained the model parameters.."
   ]
  },
  {
   "cell_type": "code",
   "execution_count": 126,
   "id": "2cf486f9",
   "metadata": {},
   "outputs": [],
   "source": [
    "parameters = {\n",
    "              'objective':['reg:linear'],\n",
    "              'seed': [123,130,140],\n",
    "              'n_estimators':[10,20,30,40]\n",
    "        \n",
    "              }\n",
    "\n",
    "\n",
    "\n",
    "cv = [(slice(None), slice(None))]\n",
    "xgb_grid = GridSearchCV(xgb_r,\n",
    "                        parameters,\n",
    "                        scoring='neg_mean_absolute_error',\n",
    "                        cv = cv,\n",
    "                        n_jobs = -1,\n",
    "                        verbose=True)"
   ]
  },
  {
   "cell_type": "code",
   "execution_count": 127,
   "id": "4c432719",
   "metadata": {},
   "outputs": [
    {
     "name": "stdout",
     "output_type": "stream",
     "text": [
      "Fitting 1 folds for each of 12 candidates, totalling 12 fits\n",
      "[21:16:48] WARNING: C:/buildkite-agent/builds/buildkite-windows-cpu-autoscaling-group-i-030221e36e1a46bfb-1/xgboost/xgboost-ci-windows/src/objective/regression_obj.cu:213: reg:linear is now deprecated in favor of reg:squarederror.\n",
      "[21:16:48] WARNING: C:/buildkite-agent/builds/buildkite-windows-cpu-autoscaling-group-i-030221e36e1a46bfb-1/xgboost/xgboost-ci-windows/src/learner.cc:767: \n",
      "Parameters: { \"n_estimator\" } are not used.\n",
      "\n"
     ]
    },
    {
     "data": {
      "text/html": [
       "<style>#sk-container-id-3 {color: black;background-color: white;}#sk-container-id-3 pre{padding: 0;}#sk-container-id-3 div.sk-toggleable {background-color: white;}#sk-container-id-3 label.sk-toggleable__label {cursor: pointer;display: block;width: 100%;margin-bottom: 0;padding: 0.3em;box-sizing: border-box;text-align: center;}#sk-container-id-3 label.sk-toggleable__label-arrow:before {content: \"▸\";float: left;margin-right: 0.25em;color: #696969;}#sk-container-id-3 label.sk-toggleable__label-arrow:hover:before {color: black;}#sk-container-id-3 div.sk-estimator:hover label.sk-toggleable__label-arrow:before {color: black;}#sk-container-id-3 div.sk-toggleable__content {max-height: 0;max-width: 0;overflow: hidden;text-align: left;background-color: #f0f8ff;}#sk-container-id-3 div.sk-toggleable__content pre {margin: 0.2em;color: black;border-radius: 0.25em;background-color: #f0f8ff;}#sk-container-id-3 input.sk-toggleable__control:checked~div.sk-toggleable__content {max-height: 200px;max-width: 100%;overflow: auto;}#sk-container-id-3 input.sk-toggleable__control:checked~label.sk-toggleable__label-arrow:before {content: \"▾\";}#sk-container-id-3 div.sk-estimator input.sk-toggleable__control:checked~label.sk-toggleable__label {background-color: #d4ebff;}#sk-container-id-3 div.sk-label input.sk-toggleable__control:checked~label.sk-toggleable__label {background-color: #d4ebff;}#sk-container-id-3 input.sk-hidden--visually {border: 0;clip: rect(1px 1px 1px 1px);clip: rect(1px, 1px, 1px, 1px);height: 1px;margin: -1px;overflow: hidden;padding: 0;position: absolute;width: 1px;}#sk-container-id-3 div.sk-estimator {font-family: monospace;background-color: #f0f8ff;border: 1px dotted black;border-radius: 0.25em;box-sizing: border-box;margin-bottom: 0.5em;}#sk-container-id-3 div.sk-estimator:hover {background-color: #d4ebff;}#sk-container-id-3 div.sk-parallel-item::after {content: \"\";width: 100%;border-bottom: 1px solid gray;flex-grow: 1;}#sk-container-id-3 div.sk-label:hover label.sk-toggleable__label {background-color: #d4ebff;}#sk-container-id-3 div.sk-serial::before {content: \"\";position: absolute;border-left: 1px solid gray;box-sizing: border-box;top: 0;bottom: 0;left: 50%;z-index: 0;}#sk-container-id-3 div.sk-serial {display: flex;flex-direction: column;align-items: center;background-color: white;padding-right: 0.2em;padding-left: 0.2em;position: relative;}#sk-container-id-3 div.sk-item {position: relative;z-index: 1;}#sk-container-id-3 div.sk-parallel {display: flex;align-items: stretch;justify-content: center;background-color: white;position: relative;}#sk-container-id-3 div.sk-item::before, #sk-container-id-3 div.sk-parallel-item::before {content: \"\";position: absolute;border-left: 1px solid gray;box-sizing: border-box;top: 0;bottom: 0;left: 50%;z-index: -1;}#sk-container-id-3 div.sk-parallel-item {display: flex;flex-direction: column;z-index: 1;position: relative;background-color: white;}#sk-container-id-3 div.sk-parallel-item:first-child::after {align-self: flex-end;width: 50%;}#sk-container-id-3 div.sk-parallel-item:last-child::after {align-self: flex-start;width: 50%;}#sk-container-id-3 div.sk-parallel-item:only-child::after {width: 0;}#sk-container-id-3 div.sk-dashed-wrapped {border: 1px dashed gray;margin: 0 0.4em 0.5em 0.4em;box-sizing: border-box;padding-bottom: 0.4em;background-color: white;}#sk-container-id-3 div.sk-label label {font-family: monospace;font-weight: bold;display: inline-block;line-height: 1.2em;}#sk-container-id-3 div.sk-label-container {text-align: center;}#sk-container-id-3 div.sk-container {/* jupyter's `normalize.less` sets `[hidden] { display: none; }` but bootstrap.min.css set `[hidden] { display: none !important; }` so we also need the `!important` here to be able to override the default hidden behavior on the sphinx rendered scikit-learn.org. See: https://github.com/scikit-learn/scikit-learn/issues/21755 */display: inline-block !important;position: relative;}#sk-container-id-3 div.sk-text-repr-fallback {display: none;}</style><div id=\"sk-container-id-3\" class=\"sk-top-container\"><div class=\"sk-text-repr-fallback\"><pre>GridSearchCV(cv=[(slice(None, None, None), slice(None, None, None))],\n",
       "             estimator=XGBRegressor(base_score=0.5, booster=&#x27;gbtree&#x27;,\n",
       "                                    callbacks=None, colsample_bylevel=1,\n",
       "                                    colsample_bynode=1, colsample_bytree=1,\n",
       "                                    early_stopping_rounds=None,\n",
       "                                    enable_categorical=False, eval_metric=None,\n",
       "                                    feature_types=None, gamma=0, gpu_id=-1,\n",
       "                                    grow_policy=&#x27;depthwise&#x27;,\n",
       "                                    importance_type=None,\n",
       "                                    interac...\n",
       "                                    max_cat_threshold=64, max_cat_to_onehot=4,\n",
       "                                    max_delta_step=0, max_depth=6, max_leaves=0,\n",
       "                                    min_child_weight=1, missing=nan,\n",
       "                                    monotone_constraints=&#x27;()&#x27;, n_estimator=10,\n",
       "                                    n_estimators=100, n_jobs=0,\n",
       "                                    num_parallel_tree=1, objective=&#x27;reg:linear&#x27;, ...),\n",
       "             n_jobs=-1,\n",
       "             param_grid={&#x27;n_estimators&#x27;: [10, 20, 30, 40],\n",
       "                         &#x27;objective&#x27;: [&#x27;reg:linear&#x27;], &#x27;seed&#x27;: [123, 130, 140]},\n",
       "             scoring=&#x27;neg_mean_absolute_error&#x27;, verbose=True)</pre><b>In a Jupyter environment, please rerun this cell to show the HTML representation or trust the notebook. <br />On GitHub, the HTML representation is unable to render, please try loading this page with nbviewer.org.</b></div><div class=\"sk-container\" hidden><div class=\"sk-item sk-dashed-wrapped\"><div class=\"sk-label-container\"><div class=\"sk-label sk-toggleable\"><input class=\"sk-toggleable__control sk-hidden--visually\" id=\"sk-estimator-id-7\" type=\"checkbox\" ><label for=\"sk-estimator-id-7\" class=\"sk-toggleable__label sk-toggleable__label-arrow\">GridSearchCV</label><div class=\"sk-toggleable__content\"><pre>GridSearchCV(cv=[(slice(None, None, None), slice(None, None, None))],\n",
       "             estimator=XGBRegressor(base_score=0.5, booster=&#x27;gbtree&#x27;,\n",
       "                                    callbacks=None, colsample_bylevel=1,\n",
       "                                    colsample_bynode=1, colsample_bytree=1,\n",
       "                                    early_stopping_rounds=None,\n",
       "                                    enable_categorical=False, eval_metric=None,\n",
       "                                    feature_types=None, gamma=0, gpu_id=-1,\n",
       "                                    grow_policy=&#x27;depthwise&#x27;,\n",
       "                                    importance_type=None,\n",
       "                                    interac...\n",
       "                                    max_cat_threshold=64, max_cat_to_onehot=4,\n",
       "                                    max_delta_step=0, max_depth=6, max_leaves=0,\n",
       "                                    min_child_weight=1, missing=nan,\n",
       "                                    monotone_constraints=&#x27;()&#x27;, n_estimator=10,\n",
       "                                    n_estimators=100, n_jobs=0,\n",
       "                                    num_parallel_tree=1, objective=&#x27;reg:linear&#x27;, ...),\n",
       "             n_jobs=-1,\n",
       "             param_grid={&#x27;n_estimators&#x27;: [10, 20, 30, 40],\n",
       "                         &#x27;objective&#x27;: [&#x27;reg:linear&#x27;], &#x27;seed&#x27;: [123, 130, 140]},\n",
       "             scoring=&#x27;neg_mean_absolute_error&#x27;, verbose=True)</pre></div></div></div><div class=\"sk-parallel\"><div class=\"sk-parallel-item\"><div class=\"sk-item\"><div class=\"sk-label-container\"><div class=\"sk-label sk-toggleable\"><input class=\"sk-toggleable__control sk-hidden--visually\" id=\"sk-estimator-id-8\" type=\"checkbox\" ><label for=\"sk-estimator-id-8\" class=\"sk-toggleable__label sk-toggleable__label-arrow\">estimator: XGBRegressor</label><div class=\"sk-toggleable__content\"><pre>XGBRegressor(base_score=0.5, booster=&#x27;gbtree&#x27;, callbacks=None,\n",
       "             colsample_bylevel=1, colsample_bynode=1, colsample_bytree=1,\n",
       "             early_stopping_rounds=None, enable_categorical=False,\n",
       "             eval_metric=None, feature_types=None, gamma=0, gpu_id=-1,\n",
       "             grow_policy=&#x27;depthwise&#x27;, importance_type=None,\n",
       "             interaction_constraints=&#x27;&#x27;, learning_rate=0.300000012, max_bin=256,\n",
       "             max_cat_threshold=64, max_cat_to_onehot=4, max_delta_step=0,\n",
       "             max_depth=6, max_leaves=0, min_child_weight=1, missing=nan,\n",
       "             monotone_constraints=&#x27;()&#x27;, n_estimator=10, n_estimators=100,\n",
       "             n_jobs=0, num_parallel_tree=1, objective=&#x27;reg:linear&#x27;, ...)</pre></div></div></div><div class=\"sk-serial\"><div class=\"sk-item\"><div class=\"sk-estimator sk-toggleable\"><input class=\"sk-toggleable__control sk-hidden--visually\" id=\"sk-estimator-id-9\" type=\"checkbox\" ><label for=\"sk-estimator-id-9\" class=\"sk-toggleable__label sk-toggleable__label-arrow\">XGBRegressor</label><div class=\"sk-toggleable__content\"><pre>XGBRegressor(base_score=0.5, booster=&#x27;gbtree&#x27;, callbacks=None,\n",
       "             colsample_bylevel=1, colsample_bynode=1, colsample_bytree=1,\n",
       "             early_stopping_rounds=None, enable_categorical=False,\n",
       "             eval_metric=None, feature_types=None, gamma=0, gpu_id=-1,\n",
       "             grow_policy=&#x27;depthwise&#x27;, importance_type=None,\n",
       "             interaction_constraints=&#x27;&#x27;, learning_rate=0.300000012, max_bin=256,\n",
       "             max_cat_threshold=64, max_cat_to_onehot=4, max_delta_step=0,\n",
       "             max_depth=6, max_leaves=0, min_child_weight=1, missing=nan,\n",
       "             monotone_constraints=&#x27;()&#x27;, n_estimator=10, n_estimators=100,\n",
       "             n_jobs=0, num_parallel_tree=1, objective=&#x27;reg:linear&#x27;, ...)</pre></div></div></div></div></div></div></div></div></div></div>"
      ],
      "text/plain": [
       "GridSearchCV(cv=[(slice(None, None, None), slice(None, None, None))],\n",
       "             estimator=XGBRegressor(base_score=0.5, booster='gbtree',\n",
       "                                    callbacks=None, colsample_bylevel=1,\n",
       "                                    colsample_bynode=1, colsample_bytree=1,\n",
       "                                    early_stopping_rounds=None,\n",
       "                                    enable_categorical=False, eval_metric=None,\n",
       "                                    feature_types=None, gamma=0, gpu_id=-1,\n",
       "                                    grow_policy='depthwise',\n",
       "                                    importance_type=None,\n",
       "                                    interac...\n",
       "                                    max_cat_threshold=64, max_cat_to_onehot=4,\n",
       "                                    max_delta_step=0, max_depth=6, max_leaves=0,\n",
       "                                    min_child_weight=1, missing=nan,\n",
       "                                    monotone_constraints='()', n_estimator=10,\n",
       "                                    n_estimators=100, n_jobs=0,\n",
       "                                    num_parallel_tree=1, objective='reg:linear', ...),\n",
       "             n_jobs=-1,\n",
       "             param_grid={'n_estimators': [10, 20, 30, 40],\n",
       "                         'objective': ['reg:linear'], 'seed': [123, 130, 140]},\n",
       "             scoring='neg_mean_absolute_error', verbose=True)"
      ]
     },
     "execution_count": 127,
     "metadata": {},
     "output_type": "execute_result"
    }
   ],
   "source": [
    "xgb_grid.fit(X_train,y_train)"
   ]
  },
  {
   "cell_type": "code",
   "execution_count": 128,
   "id": "dd6a0e2f",
   "metadata": {},
   "outputs": [
    {
     "data": {
      "text/plain": [
       "{'n_estimators': 40, 'objective': 'reg:linear', 'seed': 123}"
      ]
     },
     "execution_count": 128,
     "metadata": {},
     "output_type": "execute_result"
    }
   ],
   "source": [
    "param = xgb_grid.best_params_\n",
    "param"
   ]
  },
  {
   "cell_type": "markdown",
   "id": "5c90b871",
   "metadata": {},
   "source": [
    "### Reconstruction of the model with the parameters we obtained"
   ]
  },
  {
   "cell_type": "code",
   "execution_count": 141,
   "id": "de54b7b4",
   "metadata": {},
   "outputs": [
    {
     "name": "stdout",
     "output_type": "stream",
     "text": [
      "[15:20:54] WARNING: C:/buildkite-agent/builds/buildkite-windows-cpu-autoscaling-group-i-030221e36e1a46bfb-1/xgboost/xgboost-ci-windows/src/objective/regression_obj.cu:213: reg:linear is now deprecated in favor of reg:squarederror.\n",
      "R2 score: 0.8983841894016089\n",
      "MAE: 3802.3143811556674\n",
      "MAPE: 1.9164481141616755e+18\n"
     ]
    }
   ],
   "source": [
    "xgb_r = xg.XGBRegressor(objective ='reg:linear',\n",
    "                        n_estimators = 40,\n",
    "                        learning_rate= 0.07,\n",
    "                        seed = 123\n",
    "                        )\n",
    "\n",
    "\n",
    "xgb_r.fit(X_train,y_train)\n",
    "\n",
    "y_pred_xgb = xgb_r.predict(X_test)\n",
    "\n",
    "r2_xgb = r2_score(y_test,y_pred_xgb)\n",
    "mae_xgb = mean_absolute_error(y_test, y_pred_xgb)\n",
    "mape_xgb = mean_absolute_percentage_error(y_test, y_pred_xgb)\n",
    "\n",
    "print(\"R2 score:\", r2_xgb)\n",
    "print(\"MAE:\", mae_xgb)\n",
    "print(\"MAPE:\", mape_xgb)"
   ]
  },
  {
   "cell_type": "markdown",
   "id": "edd103f5",
   "metadata": {},
   "source": [
    "## Final Scores"
   ]
  },
  {
   "cell_type": "code",
   "execution_count": 145,
   "id": "11cd35ee",
   "metadata": {},
   "outputs": [
    {
     "data": {
      "text/html": [
       "<div>\n",
       "<style scoped>\n",
       "    .dataframe tbody tr th:only-of-type {\n",
       "        vertical-align: middle;\n",
       "    }\n",
       "\n",
       "    .dataframe tbody tr th {\n",
       "        vertical-align: top;\n",
       "    }\n",
       "\n",
       "    .dataframe thead th {\n",
       "        text-align: right;\n",
       "    }\n",
       "</style>\n",
       "<table border=\"1\" class=\"dataframe\">\n",
       "  <thead>\n",
       "    <tr style=\"text-align: right;\">\n",
       "      <th></th>\n",
       "      <th>r_2</th>\n",
       "      <th>MAE</th>\n",
       "      <th>MAPE</th>\n",
       "    </tr>\n",
       "  </thead>\n",
       "  <tbody>\n",
       "    <tr>\n",
       "      <th>Linear Regression</th>\n",
       "      <td>0.917315</td>\n",
       "      <td>4146.779281</td>\n",
       "      <td>3.034756e+18</td>\n",
       "    </tr>\n",
       "    <tr>\n",
       "      <th>Decision Trees</th>\n",
       "      <td>0.705544</td>\n",
       "      <td>5955.759723</td>\n",
       "      <td>2.910006e+18</td>\n",
       "    </tr>\n",
       "    <tr>\n",
       "      <th>Ridge Regression</th>\n",
       "      <td>0.917315</td>\n",
       "      <td>4146.780363</td>\n",
       "      <td>3.034761e+18</td>\n",
       "    </tr>\n",
       "    <tr>\n",
       "      <th>ElasticNet</th>\n",
       "      <td>0.863878</td>\n",
       "      <td>5281.859411</td>\n",
       "      <td>3.169239e+18</td>\n",
       "    </tr>\n",
       "    <tr>\n",
       "      <th>XGBoost</th>\n",
       "      <td>0.898384</td>\n",
       "      <td>3802.314381</td>\n",
       "      <td>1.916448e+18</td>\n",
       "    </tr>\n",
       "  </tbody>\n",
       "</table>\n",
       "</div>"
      ],
      "text/plain": [
       "                        r_2          MAE          MAPE\n",
       "Linear Regression  0.917315  4146.779281  3.034756e+18\n",
       "Decision Trees     0.705544  5955.759723  2.910006e+18\n",
       "Ridge Regression   0.917315  4146.780363  3.034761e+18\n",
       "ElasticNet         0.863878  5281.859411  3.169239e+18\n",
       "XGBoost            0.898384  3802.314381  1.916448e+18"
      ]
     },
     "execution_count": 145,
     "metadata": {},
     "output_type": "execute_result"
    }
   ],
   "source": [
    "scr ={\"r_2\":[r2_lr,r2_dt,r2_ridge,r2_el_net,r2_xgb],\n",
    "      \"MAE\":[mae_lr,mae_dt,mae_ridge,mae_el_net,mae_xgb],\n",
    "     \"MAPE\":[mape_lr,mape_dt,mape_ridge,mape_el_net,mape_xgb]}\n",
    "\n",
    "scr_df = pd.DataFrame(scr,index=[\"Linear Regression\",\"Decision Trees\",\"Ridge Regression\",\"ElasticNet\",\"XGBoost\"])\n",
    "scr_df"
   ]
  },
  {
   "cell_type": "code",
   "execution_count": null,
   "id": "61445eaf",
   "metadata": {},
   "outputs": [],
   "source": []
  },
  {
   "cell_type": "markdown",
   "id": "07cf924c",
   "metadata": {},
   "source": [
    "## Turkey data"
   ]
  },
  {
   "cell_type": "code",
   "execution_count": 116,
   "id": "fdf00d2d",
   "metadata": {},
   "outputs": [],
   "source": [
    "df_tr_y = df_tr[df_tr[\"location\"]==\"Turkey\"][\"TARGET\"].copy()\n",
    "df_tr_x = df_tr[df_tr[\"location\"]==\"Turkey\"].drop(\"TARGET\",axis = 1).copy()\n"
   ]
  },
  {
   "cell_type": "markdown",
   "id": "af3bd336",
   "metadata": {},
   "source": [
    "- I applied the same process to Turkey Data."
   ]
  },
  {
   "cell_type": "code",
   "execution_count": 117,
   "id": "d92c5dc7",
   "metadata": {},
   "outputs": [],
   "source": [
    "df_tr_x[\"continent\"] = df_tr_x[\"continent\"].astype(\"str\")\n",
    "df_tr_x[\"tests_units\"] = df_tr_x[\"tests_units\"].astype(\"str\")\n",
    "\n",
    "categ = [\"continent\",'location',\"tests_units\"]\n",
    "\n",
    "le = LabelEncoder()\n",
    "df_tr_x[categ] = df_tr_x[categ].apply(le.fit_transform)\n",
    "\n",
    "df_tr_x = df_tr_x.astype(\"float64\")"
   ]
  },
  {
   "cell_type": "markdown",
   "id": "2f74af61",
   "metadata": {},
   "source": [
    "- I fitted the model with the parameters tuned and got the scores."
   ]
  },
  {
   "cell_type": "code",
   "execution_count": 123,
   "id": "cb57c6fb",
   "metadata": {},
   "outputs": [
    {
     "name": "stdout",
     "output_type": "stream",
     "text": [
      "R2 score: 0.0\n",
      "MAE: 133.04365234375\n",
      "MAPE: 5.991753431193224e+17\n"
     ]
    }
   ],
   "source": [
    "y_pred_tr = xgb_r.predict(df_tr_x)\n",
    "r2_tr = r2_score(df_tr_y,y_pred_tr)\n",
    "mae_tr = mean_absolute_error(df_tr_y, y_pred_tr)\n",
    "mape_tr = mean_absolute_percentage_error(df_tr_y, y_pred_tr)\n",
    "\n",
    "print(\"R2 score:\", r2_tr)\n",
    "print(\"MAE:\", mae_tr)\n",
    "print(\"MAPE:\", mape_tr)"
   ]
  },
  {
   "cell_type": "markdown",
   "id": "26b476e2",
   "metadata": {},
   "source": [
    "- Since the variance of the new_case data for Turkey between 1-7 December was 0, I could not use the r square value as an evaluation metric. I see that the model predicts the true values with an average of 122.4 errors."
   ]
  },
  {
   "cell_type": "code",
   "execution_count": 119,
   "id": "ae93b7dd",
   "metadata": {},
   "outputs": [
    {
     "data": {
      "text/plain": [
       "array([257.00027, 102.0545 , 102.0545 , 102.0545 , 102.0545 ],\n",
       "      dtype=float32)"
      ]
     },
     "execution_count": 119,
     "metadata": {},
     "output_type": "execute_result"
    }
   ],
   "source": [
    "y_pred_tr"
   ]
  },
  {
   "cell_type": "code",
   "execution_count": 101,
   "id": "525a7291",
   "metadata": {},
   "outputs": [
    {
     "data": {
      "text/plain": [
       "array([1.6618423e-04, 2.4911218e-05, 8.7069307e-04, 8.4499121e-02,\n",
       "       2.6837608e-01, 7.2277494e-04, 1.3541548e-03, 7.6147274e-04,\n",
       "       3.7405174e-02, 2.5763302e-04, 7.7978283e-04, 5.8997362e-03,\n",
       "       1.5327246e-03, 1.4891691e-03, 1.9961323e-04, 3.0237105e-04,\n",
       "       2.1272572e-04, 5.2467780e-04, 9.7388023e-05, 4.7568345e-04,\n",
       "       6.6626578e-04, 5.7663198e-04, 5.6906190e-04, 9.5692303e-05,\n",
       "       2.5372769e-04, 3.0248918e-04, 1.9960504e-05, 2.5598949e-04,\n",
       "       7.5528905e-04, 6.1886077e-04, 3.9647863e-04, 0.0000000e+00,\n",
       "       9.5176214e-04, 0.0000000e+00, 8.3311978e-05, 1.5764104e-03,\n",
       "       4.2074528e-03, 5.8862222e-03, 1.2205114e-03, 6.1020761e-04,\n",
       "       3.2135656e-03, 0.0000000e+00, 3.3252800e-04, 1.6622241e-04,\n",
       "       1.5350338e-04, 0.0000000e+00, 0.0000000e+00, 0.0000000e+00,\n",
       "       0.0000000e+00, 0.0000000e+00, 0.0000000e+00, 0.0000000e+00,\n",
       "       4.0874127e-04, 0.0000000e+00, 1.1605333e-01, 2.4714854e-03,\n",
       "       8.0533475e-02, 1.8939786e-03, 9.0380799e-04, 1.8035218e-03,\n",
       "       7.0482463e-04, 2.5278721e-03, 2.8174585e-03, 4.5059808e-04,\n",
       "       1.9452916e-03, 9.6809037e-04, 2.1817613e-01, 2.0864785e-03,\n",
       "       8.5391111e-05, 0.0000000e+00, 2.5295222e-03, 2.7675804e-02,\n",
       "       1.0632773e-01, 7.7220768e-04], dtype=float32)"
      ]
     },
     "execution_count": 101,
     "metadata": {},
     "output_type": "execute_result"
    }
   ],
   "source": [
    "xgb_r.feature_importances_"
   ]
  },
  {
   "cell_type": "code",
   "execution_count": null,
   "id": "bc631682",
   "metadata": {},
   "outputs": [],
   "source": []
  },
  {
   "cell_type": "code",
   "execution_count": null,
   "id": "52ae171b",
   "metadata": {},
   "outputs": [],
   "source": []
  },
  {
   "cell_type": "code",
   "execution_count": null,
   "id": "e711891d",
   "metadata": {},
   "outputs": [],
   "source": []
  },
  {
   "cell_type": "code",
   "execution_count": null,
   "id": "dfbf7610",
   "metadata": {},
   "outputs": [],
   "source": []
  },
  {
   "cell_type": "code",
   "execution_count": null,
   "id": "3bb11d6e",
   "metadata": {},
   "outputs": [],
   "source": []
  },
  {
   "cell_type": "code",
   "execution_count": null,
   "id": "14cdc6a4",
   "metadata": {},
   "outputs": [],
   "source": []
  }
 ],
 "metadata": {
  "kernelspec": {
   "display_name": "Python 3 (ipykernel)",
   "language": "python",
   "name": "python3"
  },
  "language_info": {
   "codemirror_mode": {
    "name": "ipython",
    "version": 3
   },
   "file_extension": ".py",
   "mimetype": "text/x-python",
   "name": "python",
   "nbconvert_exporter": "python",
   "pygments_lexer": "ipython3",
   "version": "3.9.12"
  }
 },
 "nbformat": 4,
 "nbformat_minor": 5
}
