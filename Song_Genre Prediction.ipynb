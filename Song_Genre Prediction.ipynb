{
 "cells": [
  {
   "cell_type": "markdown",
   "metadata": {},
   "source": [
    "## Import Libraries"
   ]
  },
  {
   "cell_type": "code",
   "execution_count": 63,
   "metadata": {},
   "outputs": [],
   "source": [
    "import pandas as pd\n",
    "import numpy as np\n",
    "import sklearn\n",
    "import re\n",
    "import nltk\n",
    "import wordcloud\n",
    "import warnings\n",
    "warnings.filterwarnings(\"ignore\")"
   ]
  },
  {
   "cell_type": "markdown",
   "metadata": {},
   "source": [
    "### Import Data"
   ]
  },
  {
   "cell_type": "code",
   "execution_count": 3,
   "metadata": {},
   "outputs": [
    {
     "data": {
      "text/html": [
       "<div>\n",
       "<style scoped>\n",
       "    .dataframe tbody tr th:only-of-type {\n",
       "        vertical-align: middle;\n",
       "    }\n",
       "\n",
       "    .dataframe tbody tr th {\n",
       "        vertical-align: top;\n",
       "    }\n",
       "\n",
       "    .dataframe thead th {\n",
       "        text-align: right;\n",
       "    }\n",
       "</style>\n",
       "<table border=\"1\" class=\"dataframe\">\n",
       "  <thead>\n",
       "    <tr style=\"text-align: right;\">\n",
       "      <th></th>\n",
       "      <th>genre</th>\n",
       "      <th>lyrics</th>\n",
       "      <th>Artist</th>\n",
       "      <th>Song</th>\n",
       "    </tr>\n",
       "  </thead>\n",
       "  <tbody>\n",
       "    <tr>\n",
       "      <th>0</th>\n",
       "      <td>prog</td>\n",
       "      <td>I am just a new boy,\\nStranger in this town.,\\...</td>\n",
       "      <td>Pink Floyd</td>\n",
       "      <td>Young Lust Lyrics</td>\n",
       "    </tr>\n",
       "    <tr>\n",
       "      <th>1</th>\n",
       "      <td>prog</td>\n",
       "      <td>Eins, zwei, drei, alle!,Ooooh You cannot reach...</td>\n",
       "      <td>Pink Floyd</td>\n",
       "      <td>Waiting For The Worms Lyrics</td>\n",
       "    </tr>\n",
       "    <tr>\n",
       "      <th>2</th>\n",
       "      <td>prog</td>\n",
       "      <td>All alone, or in twos,\\nThe ones who really lo...</td>\n",
       "      <td>Pink Floyd</td>\n",
       "      <td>Outside The Wall Lyrics</td>\n",
       "    </tr>\n",
       "    <tr>\n",
       "      <th>3</th>\n",
       "      <td>prog</td>\n",
       "      <td>Into the distance a ribbon of black,\\nStretche...</td>\n",
       "      <td>Pink Floyd</td>\n",
       "      <td>Learning To Fly Lyrics</td>\n",
       "    </tr>\n",
       "    <tr>\n",
       "      <th>4</th>\n",
       "      <td>prog</td>\n",
       "      <td>You got to be crazy, gotta have a real need,\\n...</td>\n",
       "      <td>Pink Floyd</td>\n",
       "      <td>Dogs Lyrics</td>\n",
       "    </tr>\n",
       "    <tr>\n",
       "      <th>...</th>\n",
       "      <td>...</td>\n",
       "      <td>...</td>\n",
       "      <td>...</td>\n",
       "      <td>...</td>\n",
       "    </tr>\n",
       "    <tr>\n",
       "      <th>825</th>\n",
       "      <td>pop</td>\n",
       "      <td>I Don't Know,\\nThat You Want To Try,\\nEvertime...</td>\n",
       "      <td>Michael Jackson</td>\n",
       "      <td>Remember The Time Lyrics</td>\n",
       "    </tr>\n",
       "    <tr>\n",
       "      <th>826</th>\n",
       "      <td>pop</td>\n",
       "      <td>Girl, close your eyes,\\nLet that rhythm get in...</td>\n",
       "      <td>Michael Jackson</td>\n",
       "      <td>Rock With You Lyrics</td>\n",
       "    </tr>\n",
       "    <tr>\n",
       "      <th>827</th>\n",
       "      <td>pop</td>\n",
       "      <td>Help,\\nI have done it again,\\nI have been here...</td>\n",
       "      <td>Sia</td>\n",
       "      <td>Breathe Me Lyrics</td>\n",
       "    </tr>\n",
       "    <tr>\n",
       "      <th>828</th>\n",
       "      <td>pop</td>\n",
       "      <td>Yeah, Rihanna,Good Girl Gone Bad,\\nTake three,...</td>\n",
       "      <td>Rihanna</td>\n",
       "      <td>Umbrella Lyrics</td>\n",
       "    </tr>\n",
       "    <tr>\n",
       "      <th>829</th>\n",
       "      <td>pop</td>\n",
       "      <td>Work, work, work, work, work, work,He said me ...</td>\n",
       "      <td>Rihanna</td>\n",
       "      <td>Work Lyrics</td>\n",
       "    </tr>\n",
       "  </tbody>\n",
       "</table>\n",
       "<p>830 rows × 4 columns</p>\n",
       "</div>"
      ],
      "text/plain": [
       "    genre                                             lyrics           Artist  \\\n",
       "0    prog  I am just a new boy,\\nStranger in this town.,\\...       Pink Floyd   \n",
       "1    prog  Eins, zwei, drei, alle!,Ooooh You cannot reach...       Pink Floyd   \n",
       "2    prog  All alone, or in twos,\\nThe ones who really lo...       Pink Floyd   \n",
       "3    prog  Into the distance a ribbon of black,\\nStretche...       Pink Floyd   \n",
       "4    prog  You got to be crazy, gotta have a real need,\\n...       Pink Floyd   \n",
       "..    ...                                                ...              ...   \n",
       "825   pop  I Don't Know,\\nThat You Want To Try,\\nEvertime...  Michael Jackson   \n",
       "826   pop  Girl, close your eyes,\\nLet that rhythm get in...  Michael Jackson   \n",
       "827   pop  Help,\\nI have done it again,\\nI have been here...              Sia   \n",
       "828   pop  Yeah, Rihanna,Good Girl Gone Bad,\\nTake three,...          Rihanna   \n",
       "829   pop  Work, work, work, work, work, work,He said me ...          Rihanna   \n",
       "\n",
       "                             Song  \n",
       "0               Young Lust Lyrics  \n",
       "1    Waiting For The Worms Lyrics  \n",
       "2         Outside The Wall Lyrics  \n",
       "3          Learning To Fly Lyrics  \n",
       "4                     Dogs Lyrics  \n",
       "..                            ...  \n",
       "825      Remember The Time Lyrics  \n",
       "826          Rock With You Lyrics  \n",
       "827             Breathe Me Lyrics  \n",
       "828               Umbrella Lyrics  \n",
       "829                   Work Lyrics  \n",
       "\n",
       "[830 rows x 4 columns]"
      ]
     },
     "execution_count": 3,
     "metadata": {},
     "output_type": "execute_result"
    }
   ],
   "source": [
    "data = pd.read_excel(\"selected_songs.xlsx\")\n",
    "data"
   ]
  },
  {
   "cell_type": "markdown",
   "metadata": {},
   "source": [
    "##  Data Preprocessing"
   ]
  },
  {
   "cell_type": "markdown",
   "metadata": {},
   "source": [
    "###  Removing Numbers, Punctuations and Lower the Words"
   ]
  },
  {
   "cell_type": "code",
   "execution_count": 64,
   "metadata": {},
   "outputs": [],
   "source": [
    "def rid_of_specials(words):\n",
    "    new= ''\n",
    "    for i in range(len(words)):\n",
    "        a = re.sub('[^A-Za-z]+', ' ', words[i]).lower()\n",
    "        new += a\n",
    "    return new"
   ]
  },
  {
   "cell_type": "code",
   "execution_count": 10,
   "metadata": {},
   "outputs": [],
   "source": [
    "data['lyrics'] =  [rid_of_specials(i) for i in data[\"lyrics\"]]"
   ]
  },
  {
   "cell_type": "markdown",
   "metadata": {},
   "source": [
    "I passed the lyrics of every song in our dataframe to the user-defined *rid_of_specials* function and store the returned ones using list comprehesion. The function check every word for non-letter characters using the *sub* method from the *regex* module, then we apply the *lower* method for uniformity."
   ]
  },
  {
   "cell_type": "markdown",
   "metadata": {},
   "source": [
    "###  Tokenize"
   ]
  },
  {
   "cell_type": "code",
   "execution_count": 12,
   "metadata": {},
   "outputs": [],
   "source": [
    "from nltk.tokenize import word_tokenize\n",
    "tokenized=[word_tokenize(i) for i in data['lyrics']]"
   ]
  },
  {
   "cell_type": "markdown",
   "metadata": {},
   "source": [
    "###  Removing Stopwords"
   ]
  },
  {
   "cell_type": "code",
   "execution_count": 13,
   "metadata": {},
   "outputs": [],
   "source": [
    "import nltk\n",
    "from nltk.corpus import stopwords\n",
    "stop_words = set(stopwords.words('english'))\n",
    "stopped = [[i for i in j if i not in stop_words] for j in tokenized]"
   ]
  },
  {
   "cell_type": "markdown",
   "metadata": {},
   "source": [
    "I imported  *stopwords* from the *nltk.corpus* module, then import the English ones into a variable in the form of a set. Stopwords are commonly used words which are of importance to the respective sentence they're in."
   ]
  },
  {
   "cell_type": "markdown",
   "metadata": {},
   "source": [
    "###  Lemmatization"
   ]
  },
  {
   "cell_type": "code",
   "execution_count": 14,
   "metadata": {},
   "outputs": [],
   "source": [
    "from nltk.stem import WordNetLemmatizer\n",
    "lemmatizer = WordNetLemmatizer()\n",
    "lemmatized = [[lemmatizer.lemmatize(i) for i in j] for j in stopped]\n",
    "prepeared_sentence= [' '.join(j) for j in lemmatized]\n",
    "data['Lyrics_Processed'] = prepeared_sentence"
   ]
  },
  {
   "cell_type": "code",
   "execution_count": 15,
   "metadata": {},
   "outputs": [
    {
     "data": {
      "text/html": [
       "<div>\n",
       "<style scoped>\n",
       "    .dataframe tbody tr th:only-of-type {\n",
       "        vertical-align: middle;\n",
       "    }\n",
       "\n",
       "    .dataframe tbody tr th {\n",
       "        vertical-align: top;\n",
       "    }\n",
       "\n",
       "    .dataframe thead th {\n",
       "        text-align: right;\n",
       "    }\n",
       "</style>\n",
       "<table border=\"1\" class=\"dataframe\">\n",
       "  <thead>\n",
       "    <tr style=\"text-align: right;\">\n",
       "      <th></th>\n",
       "      <th>genre</th>\n",
       "      <th>lyrics</th>\n",
       "      <th>Artist</th>\n",
       "      <th>Song</th>\n",
       "      <th>Lyrics_Processed</th>\n",
       "    </tr>\n",
       "  </thead>\n",
       "  <tbody>\n",
       "    <tr>\n",
       "      <th>0</th>\n",
       "      <td>prog</td>\n",
       "      <td>i am just a new boy  stranger in this town   w...</td>\n",
       "      <td>Pink Floyd</td>\n",
       "      <td>Young Lust Lyrics</td>\n",
       "      <td>new boy stranger town good time gon na show st...</td>\n",
       "    </tr>\n",
       "    <tr>\n",
       "      <th>1</th>\n",
       "      <td>prog</td>\n",
       "      <td>eins  zwei  drei  alle  ooooh you cannot reach...</td>\n",
       "      <td>Pink Floyd</td>\n",
       "      <td>Waiting For The Worms Lyrics</td>\n",
       "      <td>eins zwei drei alle ooooh reach ooooh matter t...</td>\n",
       "    </tr>\n",
       "    <tr>\n",
       "      <th>2</th>\n",
       "      <td>prog</td>\n",
       "      <td>all alone  or in twos  the ones who really lov...</td>\n",
       "      <td>Pink Floyd</td>\n",
       "      <td>Outside The Wall Lyrics</td>\n",
       "      <td>alone two one really love walk outside wall ha...</td>\n",
       "    </tr>\n",
       "    <tr>\n",
       "      <th>3</th>\n",
       "      <td>prog</td>\n",
       "      <td>into the distance a ribbon of black  stretched...</td>\n",
       "      <td>Pink Floyd</td>\n",
       "      <td>Learning To Fly Lyrics</td>\n",
       "      <td>distance ribbon black stretched point turning ...</td>\n",
       "    </tr>\n",
       "    <tr>\n",
       "      <th>4</th>\n",
       "      <td>prog</td>\n",
       "      <td>you got to be crazy  gotta have a real need  g...</td>\n",
       "      <td>Pink Floyd</td>\n",
       "      <td>Dogs Lyrics</td>\n",
       "      <td>got crazy got ta real need got sleep toe stree...</td>\n",
       "    </tr>\n",
       "    <tr>\n",
       "      <th>...</th>\n",
       "      <td>...</td>\n",
       "      <td>...</td>\n",
       "      <td>...</td>\n",
       "      <td>...</td>\n",
       "      <td>...</td>\n",
       "    </tr>\n",
       "    <tr>\n",
       "      <th>825</th>\n",
       "      <td>pop</td>\n",
       "      <td>i don t know  that you want to try  evertime y...</td>\n",
       "      <td>Michael Jackson</td>\n",
       "      <td>Remember The Time Lyrics</td>\n",
       "      <td>know want try evertime see remember fell love ...</td>\n",
       "    </tr>\n",
       "    <tr>\n",
       "      <th>826</th>\n",
       "      <td>pop</td>\n",
       "      <td>girl  close your eyes  let that rhythm get int...</td>\n",
       "      <td>Michael Jackson</td>\n",
       "      <td>Rock With You Lyrics</td>\n",
       "      <td>girl close eye let rhythm get try fight nothin...</td>\n",
       "    </tr>\n",
       "    <tr>\n",
       "      <th>827</th>\n",
       "      <td>pop</td>\n",
       "      <td>help  i have done it again  i have been here m...</td>\n",
       "      <td>Sia</td>\n",
       "      <td>Breathe Me Lyrics</td>\n",
       "      <td>help done many time hurt today worst part one ...</td>\n",
       "    </tr>\n",
       "    <tr>\n",
       "      <th>828</th>\n",
       "      <td>pop</td>\n",
       "      <td>yeah  rihanna good girl gone bad  take three  ...</td>\n",
       "      <td>Rihanna</td>\n",
       "      <td>Umbrella Lyrics</td>\n",
       "      <td>yeah rihanna good girl gone bad take three act...</td>\n",
       "    </tr>\n",
       "    <tr>\n",
       "      <th>829</th>\n",
       "      <td>pop</td>\n",
       "      <td>work  work  work  work  work  work he said me ...</td>\n",
       "      <td>Rihanna</td>\n",
       "      <td>Work Lyrics</td>\n",
       "      <td>work work work work work work said haffi work ...</td>\n",
       "    </tr>\n",
       "  </tbody>\n",
       "</table>\n",
       "<p>830 rows × 5 columns</p>\n",
       "</div>"
      ],
      "text/plain": [
       "    genre                                             lyrics           Artist  \\\n",
       "0    prog  i am just a new boy  stranger in this town   w...       Pink Floyd   \n",
       "1    prog  eins  zwei  drei  alle  ooooh you cannot reach...       Pink Floyd   \n",
       "2    prog  all alone  or in twos  the ones who really lov...       Pink Floyd   \n",
       "3    prog  into the distance a ribbon of black  stretched...       Pink Floyd   \n",
       "4    prog  you got to be crazy  gotta have a real need  g...       Pink Floyd   \n",
       "..    ...                                                ...              ...   \n",
       "825   pop  i don t know  that you want to try  evertime y...  Michael Jackson   \n",
       "826   pop  girl  close your eyes  let that rhythm get int...  Michael Jackson   \n",
       "827   pop  help  i have done it again  i have been here m...              Sia   \n",
       "828   pop  yeah  rihanna good girl gone bad  take three  ...          Rihanna   \n",
       "829   pop  work  work  work  work  work  work he said me ...          Rihanna   \n",
       "\n",
       "                             Song  \\\n",
       "0               Young Lust Lyrics   \n",
       "1    Waiting For The Worms Lyrics   \n",
       "2         Outside The Wall Lyrics   \n",
       "3          Learning To Fly Lyrics   \n",
       "4                     Dogs Lyrics   \n",
       "..                            ...   \n",
       "825      Remember The Time Lyrics   \n",
       "826          Rock With You Lyrics   \n",
       "827             Breathe Me Lyrics   \n",
       "828               Umbrella Lyrics   \n",
       "829                   Work Lyrics   \n",
       "\n",
       "                                      Lyrics_Processed  \n",
       "0    new boy stranger town good time gon na show st...  \n",
       "1    eins zwei drei alle ooooh reach ooooh matter t...  \n",
       "2    alone two one really love walk outside wall ha...  \n",
       "3    distance ribbon black stretched point turning ...  \n",
       "4    got crazy got ta real need got sleep toe stree...  \n",
       "..                                                 ...  \n",
       "825  know want try evertime see remember fell love ...  \n",
       "826  girl close eye let rhythm get try fight nothin...  \n",
       "827  help done many time hurt today worst part one ...  \n",
       "828  yeah rihanna good girl gone bad take three act...  \n",
       "829  work work work work work work said haffi work ...  \n",
       "\n",
       "[830 rows x 5 columns]"
      ]
     },
     "execution_count": 15,
     "metadata": {},
     "output_type": "execute_result"
    }
   ],
   "source": [
    "data"
   ]
  },
  {
   "cell_type": "markdown",
   "metadata": {},
   "source": [
    "I grouped together inflected forms of all the lyrics into one using the *WordNetLemmatizer* provided by *nltk.stem*. The *Lyrics_Processed* column will help us in the next task where we will vectorize the lyrics."
   ]
  },
  {
   "cell_type": "markdown",
   "metadata": {},
   "source": [
    "Lemmatization is a form of processing in linguistics where inflected forms of a word are grouped under their raw form."
   ]
  },
  {
   "cell_type": "markdown",
   "metadata": {},
   "source": [
    "One other method to use for grouping inflected forms of a word under their more primitive forms is **stemming**. Stemming differs from lemmatization in the way that when a word is processed under it only the attached part is dropped e.g. having -> hav whereas if it was processed using lemmatization it would've been having -> have."
   ]
  },
  {
   "cell_type": "markdown",
   "metadata": {},
   "source": [
    "###  Vectorization"
   ]
  },
  {
   "cell_type": "code",
   "execution_count": 16,
   "metadata": {},
   "outputs": [],
   "source": [
    "from sklearn.feature_extraction.text import CountVectorizer\n",
    "vectorizer = CountVectorizer()\n",
    "X = vectorizer.fit_transform(prepeared_sentence)\n",
    "feature_names = vectorizer.get_feature_names()\n",
    "lyrics_vectorized = pd.DataFrame(X.toarray(), columns = feature_names)"
   ]
  },
  {
   "cell_type": "markdown",
   "metadata": {},
   "source": [
    "In the first step, I assigned the CountVectorizer() function, which we imported from the sklearn library, to the vectorizer variable. In step 2, I vectorized the previously edited sentences with vectorizer.fit_transform(). In step 3, assigned the name of the vector variables to featue_names with get_feature_names(). In step 4, converted the vectors to Dataframe with their names."
   ]
  },
  {
   "cell_type": "markdown",
   "metadata": {},
   "source": [
    "Countvectorizer is used to transform a given text into a vector on the basis of the frequency (count) of each word that occurs in the entire text. This way we can process texts in machine learning models"
   ]
  },
  {
   "cell_type": "markdown",
   "metadata": {},
   "source": [
    "In CountVectorizer we only count the number of times a word appears in the document which results in biasing in favour of most frequent words. This ends up in ignoring rare words which could have helped is in processing our data more efficiently .we can use TF-IDF to avoid this. TF-IDF Vectorization consists of 2 parts, TF (Term Frequency) multiplied with IDF (Inverse Document Frequency).We penalize common words while identifying important words in this manner."
   ]
  },
  {
   "cell_type": "markdown",
   "metadata": {},
   "source": [
    "###  Target Preperation"
   ]
  },
  {
   "cell_type": "code",
   "execution_count": 17,
   "metadata": {},
   "outputs": [
    {
     "data": {
      "text/plain": [
       "0      prog\n",
       "1      prog\n",
       "2      prog\n",
       "3      prog\n",
       "4      prog\n",
       "       ... \n",
       "825     pop\n",
       "826     pop\n",
       "827     pop\n",
       "828     pop\n",
       "829     pop\n",
       "Name: genre, Length: 830, dtype: object"
      ]
     },
     "execution_count": 17,
     "metadata": {},
     "output_type": "execute_result"
    }
   ],
   "source": [
    "data.genre"
   ]
  },
  {
   "cell_type": "code",
   "execution_count": 20,
   "metadata": {},
   "outputs": [
    {
     "data": {
      "text/html": [
       "<div>\n",
       "<style scoped>\n",
       "    .dataframe tbody tr th:only-of-type {\n",
       "        vertical-align: middle;\n",
       "    }\n",
       "\n",
       "    .dataframe tbody tr th {\n",
       "        vertical-align: top;\n",
       "    }\n",
       "\n",
       "    .dataframe thead th {\n",
       "        text-align: right;\n",
       "    }\n",
       "</style>\n",
       "<table border=\"1\" class=\"dataframe\">\n",
       "  <thead>\n",
       "    <tr style=\"text-align: right;\">\n",
       "      <th></th>\n",
       "      <th>0</th>\n",
       "    </tr>\n",
       "  </thead>\n",
       "  <tbody>\n",
       "    <tr>\n",
       "      <th>0</th>\n",
       "      <td>1.0</td>\n",
       "    </tr>\n",
       "    <tr>\n",
       "      <th>1</th>\n",
       "      <td>1.0</td>\n",
       "    </tr>\n",
       "    <tr>\n",
       "      <th>2</th>\n",
       "      <td>1.0</td>\n",
       "    </tr>\n",
       "    <tr>\n",
       "      <th>3</th>\n",
       "      <td>1.0</td>\n",
       "    </tr>\n",
       "    <tr>\n",
       "      <th>4</th>\n",
       "      <td>1.0</td>\n",
       "    </tr>\n",
       "    <tr>\n",
       "      <th>...</th>\n",
       "      <td>...</td>\n",
       "    </tr>\n",
       "    <tr>\n",
       "      <th>825</th>\n",
       "      <td>0.0</td>\n",
       "    </tr>\n",
       "    <tr>\n",
       "      <th>826</th>\n",
       "      <td>0.0</td>\n",
       "    </tr>\n",
       "    <tr>\n",
       "      <th>827</th>\n",
       "      <td>0.0</td>\n",
       "    </tr>\n",
       "    <tr>\n",
       "      <th>828</th>\n",
       "      <td>0.0</td>\n",
       "    </tr>\n",
       "    <tr>\n",
       "      <th>829</th>\n",
       "      <td>0.0</td>\n",
       "    </tr>\n",
       "  </tbody>\n",
       "</table>\n",
       "<p>830 rows × 1 columns</p>\n",
       "</div>"
      ],
      "text/plain": [
       "       0\n",
       "0    1.0\n",
       "1    1.0\n",
       "2    1.0\n",
       "3    1.0\n",
       "4    1.0\n",
       "..   ...\n",
       "825  0.0\n",
       "826  0.0\n",
       "827  0.0\n",
       "828  0.0\n",
       "829  0.0\n",
       "\n",
       "[830 rows x 1 columns]"
      ]
     },
     "execution_count": 20,
     "metadata": {},
     "output_type": "execute_result"
    }
   ],
   "source": [
    "\n",
    "\n",
    "from sklearn import preprocessing\n",
    "label_encoder = preprocessing.LabelEncoder()\n",
    "  \n",
    "\n",
    "from sklearn.preprocessing import OneHotEncoder\n",
    "from numpy import array\n",
    "\n",
    "onehot_encoder = OneHotEncoder(sparse= False , drop = \"first\")\n",
    "\n",
    "genre = array(data.genre)\n",
    "genre = genre.reshape(len(genre), 1)\n",
    "onehot_encode_genre = pd.DataFrame(onehot_encoder.fit_transform(genre))\n",
    "\n",
    "onehot_encode_genre\n"
   ]
  },
  {
   "cell_type": "markdown",
   "metadata": {},
   "source": [
    "##  Exploratory Data Analysis "
   ]
  },
  {
   "cell_type": "code",
   "execution_count": 21,
   "metadata": {},
   "outputs": [
    {
     "data": {
      "text/plain": [
       "<AxesSubplot:>"
      ]
     },
     "execution_count": 21,
     "metadata": {},
     "output_type": "execute_result"
    },
    {
     "data": {
      "image/png": "[encoded data removed]",
      "text/plain": [
       "<Figure size 432x288 with 1 Axes>"
      ]
     },
     "metadata": {
      "needs_background": "light"
     },
     "output_type": "display_data"
    }
   ],
   "source": [
    "lp = data['Lyrics_Processed']\n",
    "lp.str.len().hist(bins=20)"
   ]
  },
  {
   "cell_type": "markdown",
   "metadata": {},
   "source": [
    "Distribution of number of letters in lyrics post-processed seems to be distributed somewhat similar to Gamma Dist. with a mean that is slightly smaller than 600 letters."
   ]
  },
  {
   "cell_type": "code",
   "execution_count": 22,
   "metadata": {},
   "outputs": [
    {
     "data": {
      "text/plain": [
       "<AxesSubplot:>"
      ]
     },
     "execution_count": 22,
     "metadata": {},
     "output_type": "execute_result"
    },
    {
     "data": {
      "image/png": "[encoded data removed]",
      "text/plain": [
       "<Figure size 432x288 with 1 Axes>"
      ]
     },
     "metadata": {
      "needs_background": "light"
     },
     "output_type": "display_data"
    }
   ],
   "source": [
    "lp.str.split().map(lambda x: len(x)).hist(bins=20)"
   ]
  },
  {
   "cell_type": "markdown",
   "metadata": {},
   "source": [
    "The case with the number of words in respective lyrics is quite similar. The histogram resembles a Gamma Dist. with a mean that is slightly less than 100. (1 word ~= 6 letters might be another takeaway from this analysis)"
   ]
  },
  {
   "cell_type": "code",
   "execution_count": 23,
   "metadata": {},
   "outputs": [
    {
     "data": {
      "text/plain": [
       "<AxesSubplot:>"
      ]
     },
     "execution_count": 23,
     "metadata": {},
     "output_type": "execute_result"
    },
    {
     "data": {
      "image/png": "[encoded data removed]",
      "text/plain": [
       "<Figure size 432x288 with 1 Axes>"
      ]
     },
     "metadata": {
      "needs_background": "light"
     },
     "output_type": "display_data"
    }
   ],
   "source": [
    "from collections import Counter\n",
    "import seaborn as sns\n",
    "\n",
    "stopped_flat = [word for lyrics in stopped for word in lyrics]\n",
    "\n",
    "counter = Counter(stopped_flat)\n",
    "most = counter.most_common()\n",
    "\n",
    "x = [i[1] for i in most]\n",
    "y = [i[0] for i in most]\n",
    "\n",
    "x = x[:30]\n",
    "y = y[:30]\n",
    "\n",
    "sns.barplot(x=x, y=y)"
   ]
  },
  {
   "cell_type": "markdown",
   "metadata": {},
   "source": [
    "As it can be seen from the bar chart there is a theme of love in the songs we are inspecting (Love is in the air?). To get a better feel for the context we can look at how frequently some words are used in conjunction with others. This is called ngram exploration. However the context seems to be trivial in this case so there is no need for further exploration."
   ]
  },
  {
   "cell_type": "code",
   "execution_count": 24,
   "metadata": {},
   "outputs": [],
   "source": [
    "import gensim\n",
    "corp = [s.split() for s in prepeared_sentence]\n",
    "dic = gensim.corpora.Dictionary(corp)\n",
    "bc = [dic.doc2bow(doc) for doc in corp]"
   ]
  },
  {
   "cell_type": "code",
   "execution_count": 25,
   "metadata": {},
   "outputs": [
    {
     "data": {
      "text/plain": [
       "[(0,\n",
       "  '0.023*\"oh\" + 0.019*\"la\" + 0.017*\"love\" + 0.016*\"want\" + 0.011*\"make\" + 0.011*\"got\" + 0.011*\"know\" + 0.010*\"get\" + 0.010*\"like\" + 0.009*\"go\"'),\n",
       " (1,\n",
       "  '0.023*\"love\" + 0.017*\"night\" + 0.009*\"oh\" + 0.007*\"way\" + 0.007*\"run\" + 0.007*\"never\" + 0.006*\"know\" + 0.006*\"day\" + 0.006*\"like\" + 0.006*\"time\"'),\n",
       " (2,\n",
       "  '0.027*\"na\" + 0.025*\"baby\" + 0.018*\"like\" + 0.016*\"love\" + 0.015*\"know\" + 0.013*\"wan\" + 0.013*\"got\" + 0.011*\"oh\" + 0.011*\"get\" + 0.011*\"gon\"'),\n",
       " (3,\n",
       "  '0.011*\"yeah\" + 0.011*\"love\" + 0.009*\"like\" + 0.009*\"oh\" + 0.009*\"got\" + 0.009*\"get\" + 0.009*\"time\" + 0.007*\"see\" + 0.007*\"one\" + 0.007*\"away\"')]"
      ]
     },
     "execution_count": 25,
     "metadata": {},
     "output_type": "execute_result"
    }
   ],
   "source": [
    "lda_model = gensim.models.LdaMulticore(bc, \n",
    "                                   num_topics = 4, \n",
    "                                   id2word = dic,                                    \n",
    "                                   passes = 10,\n",
    "                                   workers = 2)\n",
    "lda_model.show_topics()"
   ]
  },
  {
   "cell_type": "code",
   "execution_count": 26,
   "metadata": {},
   "outputs": [
    {
     "data": {
      "text/html": [
       "\n",
       "<link rel=\"stylesheet\" type=\"text/css\" href=\"https://cdn.jsdelivr.net/gh/bmabey/pyLDAvis@3.3.1/pyLDAvis/js/ldavis.v1.0.0.css\">\n",
       "\n",
       "\n",
       "<div id=\"ldavis_el159003081362935472901919637\"></div>\n",
       "<script type=\"text/javascript\">\n",
       "\n",
       "var ldavis_el159003081362935472901919637_data = {\"mdsDat\": {\"x\": [0.037101464123370446, -0.037198808558953286, -0.10263191236063372, 0.10272925679621661], \"y\": [-0.01892717859336555, -0.08364733668967975, 0.06304385099121784, 0.03953066429182744], \"topics\": [1, 2, 3, 4], \"cluster\": [1, 1, 1, 1], \"Freq\": [33.84194745484924, 26.02529226909049, 24.984540102932108, 15.148220173128161]}, \"tinfo\": {\"Term\": [\"la\", \"na\", \"night\", \"baby\", \"phresh\", \"love\", \"wan\", \"boy\", \"gon\", \"eh\", \"want\", \"run\", \"da\", \"oh\", \"cake\", \"work\", \"tick\", \"runway\", \"ho\", \"bitch\", \"ah\", \"still\", \"dirty\", \"goodbye\", \"day\", \"know\", \"talk\", \"never\", \"make\", \"like\", \"sa\", \"coo\", \"clap\", \"luv\", \"ee\", \"thong\", \"startin\", \"owner\", \"oops\", \"mo\", \"gasoline\", \"dat\", \"deet\", \"anthem\", \"billie\", \"pinot\", \"sharp\", \"thunder\", \"shi\", \"toxic\", \"tickin\", \"alternate\", \"gim\", \"liberian\", \"soda\", \"ultraviolence\", \"charade\", \"dish\", \"uoohh\", \"satisfied\", \"pas\", \"retro\", \"somethin\", \"dj\", \"se\", \"clock\", \"simple\", \"illusion\", \"bop\", \"moment\", \"child\", \"lover\", \"high\", \"knock\", \"eye\", \"away\", \"ooh\", \"yeah\", \"truth\", \"heart\", \"dark\", \"wake\", \"hand\", \"time\", \"day\", \"river\", \"well\", \"meet\", \"alone\", \"life\", \"see\", \"feel\", \"look\", \"home\", \"get\", \"got\", \"another\", \"one\", \"come\", \"like\", \"love\", \"way\", \"cry\", \"go\", \"oh\", \"man\", \"turn\", \"let\", \"know\", \"good\", \"girl\", \"take\", \"say\", \"baby\", \"make\", \"la\", \"jam\", \"cake\", \"scary\", \"puppy\", \"xscape\", \"aahh\", \"mistletoe\", \"que\", \"santa\", \"amor\", \"slumber\", \"happens\", \"aaaaaaaaah\", \"oooooo\", \"cha\", \"witchu\", \"chillin\", \"birthday\", \"stupid\", \"pound\", \"triple\", \"papa\", \"rom\", \"rah\", \"da\", \"hostage\", \"robin\", \"doot\", \"amy\", \"ho\", \"n\", \"rough\", \"applause\", \"christmas\", \"mmm\", \"paper\", \"ah\", \"thrill\", \"want\", \"e\", \"happen\", \"underneath\", \"oh\", \"make\", \"beat\", \"heaven\", \"body\", \"go\", \"stop\", \"yes\", \"love\", \"one\", \"got\", \"know\", \"get\", \"u\", \"let\", \"put\", \"say\", \"like\", \"cause\", \"need\", \"give\", \"world\", \"baby\", \"wan\", \"dream\", \"na\", \"life\", \"see\", \"feel\", \"take\", \"way\", \"phresh\", \"tick\", \"runway\", \"womanizer\", \"alejandro\", \"hooker\", \"disaster\", \"unstoppable\", \"diana\", \"stamen\", \"pressurin\", \"phonography\", \"eh\", \"tap\", \"bababa\", \"baba\", \"fuckin\", \"holland\", \"jane\", \"roc\", \"rich\", \"morphine\", \"greatest\", \"filling\", \"ballerina\", \"ale\", \"funk\", \"demerol\", \"dirty\", \"yayo\", \"fame\", \"trippin\", \"bitch\", \"boy\", \"na\", \"gon\", \"doin\", \"baby\", \"di\", \"wan\", \"talk\", \"hee\", \"almost\", \"camera\", \"like\", \"better\", \"know\", \"girl\", \"hoo\", \"come\", \"gone\", \"got\", \"take\", \"get\", \"yeah\", \"love\", \"give\", \"cause\", \"work\", \"never\", \"let\", \"make\", \"oh\", \"see\", \"time\", \"want\", \"feel\", \"need\", \"go\", \"world\", \"annie\", \"ovum\", \"artpop\", \"sandal\", \"marry\", \"cane\", \"ner\", \"sentimental\", \"thundercloud\", \"dew\", \"dum\", \"helium\", \"wonderlove\", \"prerogative\", \"jag\", \"dinosaur\", \"shutting\", \"moonchild\", \"getaway\", \"curious\", \"chord\", \"hopeless\", \"ella\", \"bartender\", \"limit\", \"indoor\", \"mmmmm\", \"slay\", \"fashion\", \"magnification\", \"dirt\", \"ok\", \"decision\", \"autumn\", \"doggone\", \"umbrella\", \"crash\", \"willing\", \"night\", \"screaming\", \"goodbye\", \"ooo\", \"run\", \"eat\", \"anything\", \"fine\", \"animal\", \"love\", \"still\", \"forget\", \"wait\", \"work\", \"really\", \"mine\", \"day\", \"never\", \"way\", \"always\", \"made\", \"good\", \"rock\", \"could\", \"oh\", \"take\", \"time\", \"ya\", \"know\", \"away\", \"one\", \"like\", \"let\", \"hold\", \"heart\", \"little\", \"back\", \"baby\"], \"Freq\": [527.0, 1022.0, 527.0, 1119.0, 197.0, 1664.0, 561.0, 360.0, 398.0, 182.0, 759.0, 208.0, 139.0, 1444.0, 112.0, 220.0, 98.0, 98.0, 126.0, 135.0, 221.0, 234.0, 103.0, 110.0, 416.0, 1049.0, 180.0, 459.0, 703.0, 1230.0, 79.505844557669, 39.86895944671273, 39.83908832321617, 32.30035925369326, 31.374647405248396, 29.40842047792729, 20.994412743337186, 21.887988754669877, 19.0850367572412, 19.079098032302056, 18.147481675554364, 18.074104098992663, 17.129739906680612, 21.622991599166173, 15.289250563630949, 15.28174108123131, 17.063322207797857, 15.252600269065944, 13.420312226031266, 13.405834311793601, 14.286984337797202, 13.397703583591003, 83.04088501283675, 12.490976621947452, 12.47887248685363, 14.230731118437584, 11.551651898601582, 11.547349156585899, 11.54706686933636, 11.532348369374658, 32.82571721048098, 36.06118673769596, 38.18900386851959, 22.773748403146048, 39.854207799384604, 28.337300756413644, 24.990417584301504, 26.945151998902784, 19.085682596251505, 77.34405458407143, 78.39560025107734, 65.07175755403588, 127.09770411883042, 33.057077273954526, 231.9447402464483, 241.72650669248122, 159.36324794508067, 405.55685626574933, 55.621678626209984, 209.6613098259712, 88.39663545672862, 41.75604115571453, 143.9283970398017, 322.073327737319, 213.00807323985626, 61.6822019593686, 96.85094183473002, 60.27313949082293, 75.44900895296902, 219.80917717217756, 264.0653851720948, 236.97802455561802, 152.73338116916088, 100.93764856292654, 324.41237699530825, 340.9768901482834, 102.5237179681711, 244.27012011063556, 233.87450720924386, 348.44015442642984, 391.532449325707, 203.11359719382602, 136.75028565448392, 209.40097254862465, 347.30772063119275, 143.69466319718433, 121.71514494039154, 189.37707192335785, 226.9773400704889, 136.06369463033514, 151.81144812048825, 151.82829981386973, 134.76247872235155, 156.90668164969293, 141.04082943932403, 525.3335652042383, 38.20146663755582, 109.87270447177856, 27.357396547171884, 22.84815819387425, 26.33504385933637, 19.25435116537443, 18.315509104383775, 17.414688315612466, 36.471114739850755, 15.599212448441879, 15.58971000841924, 15.57809920423789, 13.804247905598457, 13.798763198524123, 42.24494070583932, 13.789742623320906, 13.786376147944246, 11.99988699877626, 21.412725656144932, 11.984789664160852, 12.839394189602942, 25.59121561548738, 11.093858616316535, 11.093639063574578, 131.45402525407803, 11.082992811326992, 11.080360645308259, 11.068550023462883, 10.191688441591857, 116.99892270134221, 38.24760396057332, 42.91428547640597, 25.031389015295876, 73.48194439089391, 43.32342982284284, 30.371245551403167, 160.66530870842894, 27.028639751497668, 452.454501130627, 38.30393774052062, 36.164550039307294, 37.032268524032965, 651.0557475814412, 314.4100518560292, 89.1738048072616, 69.9487602326112, 124.45894003899086, 242.7967693673236, 121.59306464906851, 74.1558315185638, 472.1283740042491, 241.23333018037965, 312.1796196619718, 310.10414729981, 286.0724008314233, 131.76844451563707, 209.10087364775035, 94.9860352348993, 151.37167896699327, 286.0337727055576, 147.24769235912026, 150.4175274192995, 141.6681385002612, 129.78314830289057, 236.8717200775272, 154.84430274947232, 101.75681155424957, 188.019521329695, 131.20707364559766, 144.61795375497337, 135.83464681533508, 139.13794362918637, 129.4103658375372, 196.5052793889242, 98.13548473971649, 97.81850136180982, 40.778424632536975, 32.21364023729704, 39.76519310354439, 27.307471005144635, 26.276004074727435, 24.31112930887842, 21.490679505816683, 20.543439605286945, 18.59605977304712, 175.26609843461694, 17.578565422942283, 15.708955236016182, 15.70842317278847, 17.554808878765996, 14.745140855472975, 14.741127488336927, 16.534722101895863, 44.913809497044525, 12.824372868143326, 42.121876388401084, 12.811412313139462, 12.797416050487584, 11.866168044419307, 11.852671479131144, 11.851504729204496, 97.56517611251269, 32.59802671110152, 78.5188092842168, 15.394338513238122, 117.55742821151821, 286.04393594921777, 732.5929512583476, 295.0295586752398, 35.39423842908354, 669.4777860679748, 63.2430308778687, 349.67157433605973, 127.67646876073603, 47.9179774171083, 53.8855764756291, 44.155248374233366, 498.34720511896666, 117.04402035204974, 405.56085987787037, 215.1010691833009, 53.196129892451175, 251.33946934077477, 118.74946456147532, 339.05615195066025, 229.59392839123794, 301.10054851278153, 265.28638431239847, 422.31671503555276, 168.83124681751485, 166.87099326551603, 111.74611049026292, 168.9405392355423, 202.8498855042574, 206.92389206003912, 303.6966634077547, 184.47436041321842, 166.96978967067156, 154.8239450377796, 144.13155189131933, 128.57589243896743, 125.19405435658493, 119.83383783836341, 41.0000324240175, 24.12805731943056, 22.3573933120631, 17.909742801775522, 38.087392997560926, 14.371765148292933, 10.829100818041363, 9.962403523643125, 9.94758535444708, 8.18857294626917, 8.179319248490218, 8.17746602009464, 10.631127014394753, 11.40331444684888, 8.150483167814397, 7.30752078977378, 7.298614572318999, 7.289304397021793, 8.879315968417222, 15.27866869221135, 15.247848240428073, 15.279309089833582, 20.853640141470315, 6.414463331665198, 6.412837449211743, 6.410927743297911, 6.409151094588101, 9.5289538869834, 28.486048333621337, 5.530329800063731, 23.431974778692357, 47.428782174685686, 21.810890042550618, 35.08021594902416, 11.682981544780308, 13.058582440225168, 30.370222580217945, 14.338386935005017, 286.3763514130946, 22.556416257404727, 70.38397565877275, 29.772158208278086, 109.68905075277272, 40.7204361622954, 43.226307271859774, 30.148327197229655, 18.924211129569294, 378.0442876125877, 89.32356398924419, 41.93783874288138, 64.40943534032982, 79.13994377007789, 88.17073339969753, 66.90754126975736, 103.91180267877307, 107.54066893230903, 121.55878717723466, 67.86760547428963, 45.72659572233169, 77.08014167214169, 53.08730493285541, 71.67239823993968, 142.69011674625145, 94.88357846862667, 97.47037133214174, 55.63224699809846, 106.7323856649683, 73.37066764136667, 82.96889742658766, 98.01932515159879, 69.70655175847185, 53.644559990249675, 57.952695714513546, 51.14473867586095, 53.67624866422034, 56.00149892693306], \"Total\": [527.0, 1022.0, 527.0, 1119.0, 197.0, 1664.0, 561.0, 360.0, 398.0, 182.0, 759.0, 208.0, 139.0, 1444.0, 112.0, 220.0, 98.0, 98.0, 126.0, 135.0, 221.0, 234.0, 103.0, 110.0, 416.0, 1049.0, 180.0, 459.0, 703.0, 1230.0, 80.21195352478087, 40.56726805148075, 40.56627655624987, 33.01464827834394, 32.071862909121585, 30.184054775952045, 21.688926241171472, 22.63167745850217, 19.79997956622949, 19.80032858483115, 18.8562751803546, 18.857725290023765, 17.913718936165655, 22.636517066429608, 16.023030849677106, 16.024319203970432, 17.910059937491273, 16.02242813025439, 14.136321128902782, 14.136206950864393, 15.073530534365615, 14.13640165971426, 87.62483204983472, 13.193537647236798, 13.192497472692851, 15.073676460039612, 12.249126798718004, 12.248467952060947, 12.249812639228939, 12.248368099963152, 34.9333750266979, 38.72661299334679, 41.48589916916921, 24.543534231457233, 44.23178099363817, 31.111244114920865, 27.387189481197222, 30.073914816442716, 20.70288502463775, 95.35431476414352, 99.19225378146476, 83.43918406172715, 188.59347730597779, 39.678355450219584, 404.71517333703923, 431.4048721185794, 261.3598225216169, 813.3856451165025, 74.19362431258438, 375.18818037176635, 131.39450670617194, 52.62067371421784, 251.48562603870548, 697.8239857360426, 416.8455443568368, 86.30306511942938, 154.80653066114797, 84.63429727434847, 113.94831143422597, 477.0530130915512, 643.2902575064661, 563.5167258515625, 306.9644110036519, 172.1265331823179, 949.9837630467565, 1023.9665031296781, 179.94445622782823, 648.6201798804611, 640.3572667969836, 1230.840457402553, 1664.0218259780963, 568.6149142720146, 299.8272506855188, 608.6713949632738, 1444.7502483666403, 326.05704780136506, 253.68254504235279, 671.0343828338374, 1049.3747329131374, 341.0177597916159, 463.3913749282368, 615.4437503029206, 424.2535484473187, 1119.2576867221278, 703.5511343348742, 527.7820912721961, 39.00514078903407, 112.56400898824738, 28.126217351688506, 23.59152922313433, 27.22261247833485, 19.963325436950306, 19.05813796930699, 18.151248465657318, 38.076884761716435, 16.33817406456809, 16.33792243470808, 16.337406896823975, 14.523529551268888, 14.523823350449257, 44.471928736957565, 14.523897315599934, 14.524271006709476, 12.709971833135894, 22.706571608993293, 12.710876793764001, 13.619039456401559, 27.195014051246744, 11.80339614904768, 11.803398595088057, 139.93867401736685, 11.804128262578788, 11.80410520669726, 11.80414757136259, 10.896884671956077, 126.44523053178189, 40.89806968174803, 46.32095072483365, 27.237011183863267, 84.26099286629734, 50.2163462263804, 34.537828693951546, 221.57871064112626, 31.05011100128656, 759.1913369295404, 46.605576875120775, 44.94189050091944, 46.4912605660724, 1444.7502483666403, 703.5511343348742, 146.76376654532416, 113.34933902492597, 244.7644492012545, 608.6713949632738, 244.55761122468974, 124.25013845663915, 1664.0218259780963, 648.6201798804611, 1023.9665031296781, 1049.3747329131374, 949.9837630467565, 321.44049191031564, 671.0343828338374, 200.5819671075055, 424.2535484473187, 1230.840457402553, 425.31317158030555, 451.74742981986884, 412.09821308183683, 356.48639458516186, 1119.2576867221278, 561.9433048409762, 251.9520048240293, 1022.1990324977904, 477.0530130915512, 643.2902575064661, 563.5167258515625, 615.4437503029206, 568.6149142720146, 197.72518355708198, 98.85975513378841, 98.83419332571371, 41.63800904409515, 32.922697936576, 40.66723637850411, 28.0702109737628, 27.094021209055576, 25.157260292968388, 22.250372239361695, 21.28477009379116, 19.34448371522941, 182.671316166049, 18.368619875723144, 16.435892784065842, 16.43590458097839, 18.369689107905998, 15.466694575749157, 15.466562397496043, 17.402456251171024, 47.344384711241425, 13.52857141880698, 44.46253270548412, 13.528185747342093, 13.526615169975011, 12.559743528825106, 12.55887441313272, 12.558695072630233, 103.39098454910717, 34.75968060656668, 85.80387182052073, 16.416712196899798, 135.62102758832782, 360.2442120545394, 1022.1990324977904, 398.50021159356334, 40.39462364238173, 1119.2576867221278, 79.36299365557909, 561.9433048409762, 180.53362803982318, 58.54463362116552, 69.24613295622073, 56.78669082589476, 1230.840457402553, 203.61607394254472, 1049.3747329131374, 463.3913749282368, 73.15986684650682, 640.3572667969836, 224.22410154999412, 1023.9665031296781, 615.4437503029206, 949.9837630467565, 813.3856451165025, 1664.0218259780963, 412.09821308183683, 425.31317158030555, 220.9512369847689, 459.981397771637, 671.0343828338374, 703.5511343348742, 1444.7502483666403, 643.2902575064661, 697.8239857360426, 759.1913369295404, 563.5167258515625, 451.74742981986884, 608.6713949632738, 356.48639458516186, 41.75458260651019, 24.891757267812334, 23.115988379180493, 18.67929348695278, 40.016143526962644, 15.129077882172407, 11.577276001023591, 10.688578153005924, 10.689316996221837, 8.913682378010323, 8.913814205761788, 8.913898002247016, 11.593557379643356, 12.468970668862543, 8.916247458434205, 8.025673232542339, 8.027031509802486, 8.027140445624534, 9.812218907724107, 16.91707266958741, 16.918070567149286, 16.953717130925497, 23.18746314211932, 7.139153796851939, 7.138729529790182, 7.138717448711964, 7.138740125813466, 10.713477894361352, 32.050445263332904, 6.250764046689754, 26.74447974711066, 55.50813744088697, 25.9775167043248, 43.0704705795321, 13.434938430132032, 15.182561881777726, 38.5672962304857, 16.970809083477597, 527.0363995271612, 28.701098846595055, 110.7725580548598, 40.55952014130866, 208.92156093133457, 63.45791400419432, 72.62498061466437, 46.285127758993696, 25.220861688832663, 1664.0218259780963, 234.32460920057372, 80.78537642440368, 159.58577428573886, 220.9512369847689, 276.41794985913384, 196.21138618888926, 416.8455443568368, 459.981397771637, 568.6149142720146, 225.225778143914, 111.99156616960946, 341.0177597916159, 168.85584299219735, 320.7611220178755, 1444.7502483666403, 615.4437503029206, 697.8239857360426, 196.74698130409973, 1049.3747329131374, 431.4048721185794, 648.6201798804611, 1230.840457402553, 671.0343828338374, 236.67760237782528, 375.18818037176635, 212.76648950346134, 304.371214458898, 1119.2576867221278], \"Category\": [\"Default\", \"Default\", \"Default\", \"Default\", \"Default\", \"Default\", \"Default\", \"Default\", \"Default\", \"Default\", \"Default\", \"Default\", \"Default\", \"Default\", \"Default\", \"Default\", \"Default\", \"Default\", \"Default\", \"Default\", \"Default\", \"Default\", \"Default\", \"Default\", \"Default\", \"Default\", \"Default\", \"Default\", \"Default\", \"Default\", \"Topic1\", \"Topic1\", \"Topic1\", \"Topic1\", \"Topic1\", \"Topic1\", \"Topic1\", \"Topic1\", \"Topic1\", \"Topic1\", \"Topic1\", \"Topic1\", \"Topic1\", \"Topic1\", \"Topic1\", \"Topic1\", \"Topic1\", \"Topic1\", \"Topic1\", \"Topic1\", \"Topic1\", \"Topic1\", \"Topic1\", \"Topic1\", \"Topic1\", \"Topic1\", \"Topic1\", \"Topic1\", \"Topic1\", \"Topic1\", \"Topic1\", \"Topic1\", \"Topic1\", \"Topic1\", \"Topic1\", \"Topic1\", \"Topic1\", \"Topic1\", \"Topic1\", \"Topic1\", \"Topic1\", \"Topic1\", \"Topic1\", \"Topic1\", \"Topic1\", \"Topic1\", \"Topic1\", \"Topic1\", \"Topic1\", \"Topic1\", \"Topic1\", \"Topic1\", \"Topic1\", \"Topic1\", \"Topic1\", \"Topic1\", \"Topic1\", \"Topic1\", \"Topic1\", \"Topic1\", \"Topic1\", \"Topic1\", \"Topic1\", \"Topic1\", \"Topic1\", \"Topic1\", \"Topic1\", \"Topic1\", \"Topic1\", \"Topic1\", \"Topic1\", \"Topic1\", \"Topic1\", \"Topic1\", \"Topic1\", \"Topic1\", \"Topic1\", \"Topic1\", \"Topic1\", \"Topic1\", \"Topic1\", \"Topic1\", \"Topic1\", \"Topic1\", \"Topic1\", \"Topic2\", \"Topic2\", \"Topic2\", \"Topic2\", \"Topic2\", \"Topic2\", \"Topic2\", \"Topic2\", \"Topic2\", \"Topic2\", \"Topic2\", \"Topic2\", \"Topic2\", \"Topic2\", \"Topic2\", \"Topic2\", \"Topic2\", \"Topic2\", \"Topic2\", \"Topic2\", \"Topic2\", \"Topic2\", \"Topic2\", \"Topic2\", \"Topic2\", \"Topic2\", \"Topic2\", \"Topic2\", \"Topic2\", \"Topic2\", \"Topic2\", \"Topic2\", \"Topic2\", \"Topic2\", \"Topic2\", \"Topic2\", \"Topic2\", \"Topic2\", \"Topic2\", \"Topic2\", \"Topic2\", \"Topic2\", \"Topic2\", \"Topic2\", \"Topic2\", \"Topic2\", \"Topic2\", \"Topic2\", \"Topic2\", \"Topic2\", \"Topic2\", \"Topic2\", \"Topic2\", \"Topic2\", \"Topic2\", \"Topic2\", \"Topic2\", \"Topic2\", \"Topic2\", \"Topic2\", \"Topic2\", \"Topic2\", \"Topic2\", \"Topic2\", \"Topic2\", \"Topic2\", \"Topic2\", \"Topic2\", \"Topic2\", \"Topic2\", \"Topic2\", \"Topic2\", \"Topic2\", \"Topic2\", \"Topic3\", \"Topic3\", \"Topic3\", \"Topic3\", \"Topic3\", \"Topic3\", \"Topic3\", \"Topic3\", \"Topic3\", \"Topic3\", \"Topic3\", \"Topic3\", \"Topic3\", \"Topic3\", \"Topic3\", \"Topic3\", \"Topic3\", \"Topic3\", \"Topic3\", \"Topic3\", \"Topic3\", \"Topic3\", \"Topic3\", \"Topic3\", \"Topic3\", \"Topic3\", \"Topic3\", \"Topic3\", \"Topic3\", \"Topic3\", \"Topic3\", \"Topic3\", \"Topic3\", \"Topic3\", \"Topic3\", \"Topic3\", \"Topic3\", \"Topic3\", \"Topic3\", \"Topic3\", \"Topic3\", \"Topic3\", \"Topic3\", \"Topic3\", \"Topic3\", \"Topic3\", \"Topic3\", \"Topic3\", \"Topic3\", \"Topic3\", \"Topic3\", \"Topic3\", \"Topic3\", \"Topic3\", \"Topic3\", \"Topic3\", \"Topic3\", \"Topic3\", \"Topic3\", \"Topic3\", \"Topic3\", \"Topic3\", \"Topic3\", \"Topic3\", \"Topic3\", \"Topic3\", \"Topic3\", \"Topic3\", \"Topic3\", \"Topic3\", \"Topic4\", \"Topic4\", \"Topic4\", \"Topic4\", \"Topic4\", \"Topic4\", \"Topic4\", \"Topic4\", \"Topic4\", \"Topic4\", \"Topic4\", \"Topic4\", \"Topic4\", \"Topic4\", \"Topic4\", \"Topic4\", \"Topic4\", \"Topic4\", \"Topic4\", \"Topic4\", \"Topic4\", \"Topic4\", \"Topic4\", \"Topic4\", \"Topic4\", \"Topic4\", \"Topic4\", \"Topic4\", \"Topic4\", \"Topic4\", \"Topic4\", \"Topic4\", \"Topic4\", \"Topic4\", \"Topic4\", \"Topic4\", \"Topic4\", \"Topic4\", \"Topic4\", \"Topic4\", \"Topic4\", \"Topic4\", \"Topic4\", \"Topic4\", \"Topic4\", \"Topic4\", \"Topic4\", \"Topic4\", \"Topic4\", \"Topic4\", \"Topic4\", \"Topic4\", \"Topic4\", \"Topic4\", \"Topic4\", \"Topic4\", \"Topic4\", \"Topic4\", \"Topic4\", \"Topic4\", \"Topic4\", \"Topic4\", \"Topic4\", \"Topic4\", \"Topic4\", \"Topic4\", \"Topic4\", \"Topic4\", \"Topic4\", \"Topic4\", \"Topic4\", \"Topic4\", \"Topic4\", \"Topic4\", \"Topic4\", \"Topic4\"], \"logprob\": [30.0, 29.0, 28.0, 27.0, 26.0, 25.0, 24.0, 23.0, 22.0, 21.0, 20.0, 19.0, 18.0, 17.0, 16.0, 15.0, 14.0, 13.0, 12.0, 11.0, 10.0, 9.0, 8.0, 7.0, 6.0, 5.0, 4.0, 3.0, 2.0, 1.0, -6.1358, -6.826, -6.8268, -7.0365, -7.0656, -7.1303, -7.4674, -7.4257, -7.5627, -7.563, -7.6131, -7.6171, -7.6708, -7.4379, -7.7845, -7.785, -7.6747, -7.7869, -7.9148, -7.9159, -7.8523, -7.9165, -6.0923, -7.9866, -7.9876, -7.8562, -8.0648, -8.0652, -8.0652, -8.0665, -7.0204, -6.9264, -6.8691, -7.386, -6.8264, -7.1674, -7.2931, -7.2178, -7.5627, -6.1634, -6.1498, -6.3361, -5.6667, -7.0134, -5.0651, -5.0238, -5.4404, -4.5064, -6.493, -5.1661, -6.0298, -6.7798, -5.5423, -4.7368, -5.1503, -6.3896, -5.9384, -6.4127, -6.1882, -5.1189, -4.9354, -5.0436, -5.4829, -5.8971, -4.7296, -4.6798, -5.8815, -5.0133, -5.0568, -4.6582, -4.5415, -5.1979, -5.5935, -5.1674, -4.6614, -5.5439, -5.7099, -5.2679, -5.0868, -5.5985, -5.489, -5.4889, -5.6081, -5.456, -5.5626, -3.985, -6.6061, -5.5497, -6.94, -7.1201, -6.9781, -7.2912, -7.3412, -7.3917, -6.6525, -7.5018, -7.5024, -7.5031, -7.624, -7.6244, -6.5055, -7.6251, -7.6253, -7.7641, -7.185, -7.7653, -7.6965, -7.0067, -7.8426, -7.8426, -5.3703, -7.8436, -7.8438, -7.8449, -7.9274, -5.4868, -6.6049, -6.4898, -7.0289, -5.9519, -6.4803, -6.8355, -5.1697, -6.9521, -4.1343, -6.6034, -6.6609, -6.6372, -3.7704, -4.4983, -5.7584, -6.0012, -5.425, -4.7568, -5.4483, -5.9428, -4.0917, -4.7632, -4.5054, -4.5121, -4.5927, -5.3679, -4.9062, -5.6953, -5.2292, -4.5929, -5.2569, -5.2356, -5.2955, -5.3831, -4.7815, -5.2066, -5.6264, -5.0124, -5.3722, -5.2749, -5.3375, -5.3135, -5.386, -4.9275, -5.6218, -5.6251, -6.5, -6.7358, -6.5252, -6.901, -6.9395, -7.0172, -7.1406, -7.1856, -7.2852, -5.0419, -7.3415, -7.4539, -7.454, -7.3428, -7.5173, -7.5175, -7.4027, -6.4034, -7.6568, -6.4676, -7.6578, -7.6589, -7.7345, -7.7356, -7.7357, -5.6277, -6.7239, -5.8448, -7.4742, -5.4412, -4.552, -3.6116, -4.5211, -6.6416, -3.7017, -6.0612, -4.3512, -5.3587, -6.3387, -6.2213, -6.4205, -3.9969, -5.4456, -4.2029, -4.8371, -6.2342, -4.6814, -5.4312, -4.382, -4.7719, -4.5007, -4.6274, -4.1624, -5.0793, -5.091, -5.4919, -5.0786, -4.8957, -4.8758, -4.4921, -4.9907, -5.0904, -5.1659, -5.2374, -5.3517, -5.3783, -5.4221, -5.9942, -6.5244, -6.6006, -6.8225, -6.0679, -7.0425, -7.3256, -7.409, -7.4105, -7.6051, -7.6062, -7.6064, -7.344, -7.2739, -7.6097, -7.7189, -7.7201, -7.7214, -7.5241, -6.9813, -6.9834, -6.9813, -6.6703, -7.8492, -7.8495, -7.8498, -7.8501, -7.4535, -6.3584, -7.9976, -6.5537, -5.8486, -6.6254, -6.1502, -7.2497, -7.1384, -6.2943, -7.0449, -4.0505, -6.5918, -5.4538, -6.3142, -5.0101, -6.0011, -5.9413, -6.3017, -6.7674, -3.7728, -5.2155, -5.9716, -5.5425, -5.3366, -5.2285, -5.5045, -5.0643, -5.0299, -4.9074, -5.4902, -5.8851, -5.363, -5.7359, -5.4357, -4.7471, -5.1551, -5.1283, -5.689, -5.0375, -5.4123, -5.2893, -5.1226, -5.4635, -5.7254, -5.6482, -5.7731, -5.7248, -5.6824], \"loglift\": [30.0, 29.0, 28.0, 27.0, 26.0, 25.0, 24.0, 23.0, 22.0, 21.0, 20.0, 19.0, 18.0, 17.0, 16.0, 15.0, 14.0, 13.0, 12.0, 11.0, 10.0, 9.0, 8.0, 7.0, 6.0, 5.0, 4.0, 3.0, 2.0, 1.0, 1.0746, 1.0661, 1.0654, 1.0616, 1.0615, 1.0574, 1.0509, 1.0501, 1.0467, 1.0464, 1.0452, 1.041, 1.0387, 1.0377, 1.0366, 1.036, 1.035, 1.0342, 1.0315, 1.0304, 1.0299, 1.0298, 1.0297, 1.0287, 1.0279, 1.0259, 1.0248, 1.0245, 1.0244, 1.0232, 1.0212, 1.0122, 1.0007, 1.0086, 0.9793, 0.9901, 0.9919, 0.9736, 1.0021, 0.8741, 0.8482, 0.8348, 0.6888, 0.9009, 0.5268, 0.5042, 0.5888, 0.3875, 0.7954, 0.5015, 0.6871, 0.8522, 0.5254, 0.3103, 0.4121, 0.7476, 0.6145, 0.744, 0.6712, 0.3086, 0.1931, 0.2172, 0.3854, 0.5497, 0.009, -0.0162, 0.5209, 0.1069, 0.0762, -0.1785, -0.3635, 0.054, 0.2984, 0.0164, -0.342, 0.2641, 0.3491, -0.1816, -0.4476, 0.1647, -0.0325, -0.3161, -0.0633, -0.8813, -0.5236, 1.3415, 1.3253, 1.3219, 1.3184, 1.3141, 1.313, 1.3099, 1.3064, 1.3047, 1.303, 1.2998, 1.2992, 1.2985, 1.2953, 1.2949, 1.2947, 1.2942, 1.294, 1.2886, 1.2874, 1.2873, 1.2872, 1.2853, 1.2841, 1.2841, 1.2836, 1.2831, 1.2828, 1.2818, 1.2792, 1.2685, 1.2791, 1.2697, 1.2617, 1.2092, 1.1985, 1.2175, 1.0246, 1.2074, 0.8285, 1.1499, 1.1288, 1.1186, 0.549, 0.5407, 0.8479, 0.8634, 0.6698, 0.427, 0.6473, 0.83, 0.0864, 0.357, 0.1582, 0.1271, 0.1459, 0.4543, 0.1801, 0.5986, 0.3155, -0.1132, 0.2854, 0.2464, 0.2783, 0.3357, -0.2068, 0.0571, 0.4394, -0.3471, 0.0553, -0.1464, -0.0767, -0.1408, -0.1341, 1.3807, 1.3796, 1.3766, 1.3661, 1.3651, 1.3645, 1.3594, 1.3563, 1.3527, 1.3522, 1.3515, 1.3475, 1.3455, 1.3429, 1.3417, 1.3416, 1.3415, 1.3391, 1.3389, 1.3358, 1.3342, 1.3335, 1.3328, 1.3325, 1.3315, 1.3301, 1.329, 1.329, 1.3289, 1.3227, 1.2982, 1.3226, 1.244, 1.1563, 1.0538, 1.0863, 1.2548, 0.873, 1.1599, 0.9125, 1.0405, 1.1866, 1.1361, 1.1353, 0.4828, 0.8332, 0.4362, 0.6194, 1.0683, 0.4517, 0.7513, 0.2816, 0.4009, 0.2379, 0.2665, 0.0157, 0.4946, 0.4513, 0.7052, 0.3853, 0.1906, 0.1631, -0.1727, 0.1378, -0.0432, -0.2031, 0.0234, 0.1303, -0.1945, 0.2967, 1.8691, 1.8561, 1.8539, 1.8452, 1.8379, 1.8359, 1.8205, 1.8169, 1.8154, 1.8024, 1.8013, 1.8011, 1.8006, 1.7979, 1.7975, 1.7935, 1.7922, 1.7909, 1.7874, 1.7854, 1.7833, 1.7833, 1.7812, 1.7802, 1.7801, 1.7798, 1.7795, 1.7701, 1.7694, 1.7648, 1.7551, 1.73, 1.7125, 1.6821, 1.7476, 1.7366, 1.6483, 1.7187, 1.2773, 1.6464, 1.4338, 1.5781, 1.243, 1.4436, 1.3684, 1.4586, 1.6001, 0.4053, 0.9228, 1.2317, 0.98, 0.8606, 0.7446, 0.8114, 0.4981, 0.434, 0.3445, 0.6877, 0.9915, 0.4002, 0.7302, 0.3887, -0.4277, 0.0176, -0.0811, 0.6241, -0.3983, 0.1158, -0.1691, -0.643, -0.3772, 0.403, 0.0195, 0.4618, 0.152, -1.1078]}, \"token.table\": {\"Topic\": [2, 2, 1, 2, 3, 4, 3, 3, 1, 2, 3, 1, 2, 3, 4, 1, 1, 2, 3, 4, 2, 2, 2, 3, 4, 4, 1, 2, 3, 4, 1, 3, 1, 2, 3, 4, 1, 2, 4, 4, 1, 4, 1, 2, 3, 4, 3, 3, 1, 2, 3, 4, 1, 2, 3, 4, 3, 4, 1, 2, 3, 4, 1, 2, 3, 4, 1, 2, 1, 2, 3, 1, 2, 3, 4, 1, 2, 1, 2, 3, 4, 2, 3, 1, 2, 3, 4, 1, 2, 3, 4, 1, 2, 4, 1, 1, 2, 3, 4, 2, 2, 4, 1, 2, 3, 4, 1, 1, 2, 3, 4, 1, 2, 3, 4, 1, 1, 2, 3, 4, 1, 2, 3, 4, 1, 2, 3, 4, 2, 4, 1, 2, 3, 4, 1, 2, 3, 4, 1, 1, 2, 3, 4, 1, 4, 1, 3, 4, 2, 3, 3, 4, 1, 2, 4, 1, 2, 3, 4, 3, 1, 1, 3, 3, 4, 1, 2, 3, 2, 1, 2, 3, 4, 4, 1, 2, 3, 1, 2, 3, 4, 1, 1, 2, 3, 4, 2, 3, 4, 1, 2, 3, 4, 1, 2, 3, 2, 4, 1, 2, 3, 4, 3, 1, 2, 3, 4, 1, 2, 3, 4, 3, 3, 1, 1, 2, 3, 4, 4, 1, 2, 3, 1, 2, 3, 4, 1, 2, 3, 4, 1, 2, 3, 4, 1, 2, 3, 4, 1, 2, 3, 4, 1, 2, 3, 4, 1, 2, 3, 4, 1, 2, 3, 4, 1, 3, 4, 1, 2, 3, 4, 1, 2, 3, 2, 1, 2, 3, 4, 1, 2, 3, 4, 1, 2, 3, 4, 4, 1, 2, 3, 4, 1, 2, 3, 4, 1, 2, 3, 4, 3, 1, 2, 3, 4, 2, 3, 4, 3, 1, 4, 2, 1, 2, 4, 4, 4, 2, 3, 1, 2, 3, 4, 1, 2, 3, 4, 2, 3, 1, 2, 3, 4, 1, 1, 2, 3, 4, 1, 2, 3, 4, 4, 1, 2, 3, 4, 1, 2, 3, 4, 1, 2, 3, 4, 1, 2, 3, 4, 1, 1, 2, 3, 4, 4, 1, 2, 3, 4, 1, 2, 3, 4, 2, 4, 1, 2, 3, 4, 1, 2, 3, 4, 2, 2, 3, 4, 4, 1, 1, 2, 3, 4, 4, 3, 1, 2, 3, 1, 2, 3, 4, 1, 2, 3, 4, 4, 1, 2, 3, 4, 1, 2, 3, 4, 1, 2, 3, 4, 1, 2, 3, 4, 1, 2, 3, 4, 1, 2, 3, 4, 2, 3, 4, 2, 1, 4, 1, 2, 4, 1, 2, 3, 4, 1, 3, 3, 3, 4, 1, 2, 2, 4, 3, 2, 1, 2, 3, 4, 2, 2, 1, 2, 3, 4, 1, 3, 2, 3, 1, 2, 3, 4, 2, 3, 1, 2, 3, 4, 2, 1, 2, 3, 4, 1, 2, 3, 4, 3, 1, 4, 2, 4, 1, 1, 2, 3, 4, 2, 1, 2, 3, 4, 1, 2, 3, 4, 1, 2, 3, 4, 4, 1, 1, 4, 1, 3, 1, 4, 2, 1, 1, 2, 3, 3, 1, 1, 2, 3, 4, 1, 2, 3, 4, 1, 2, 1, 2, 3, 4, 1, 2, 3, 4, 3, 1, 2, 3, 1, 4, 3, 1, 1, 2, 3, 4, 1, 2, 3, 1, 2, 3, 4, 1, 2, 3, 4, 1, 2, 3, 4, 1, 2, 3, 4, 1, 2, 3, 4, 3, 1, 1, 2, 3, 4, 1, 2, 3, 4, 1, 2, 3, 4, 1, 2, 3, 4, 1, 2, 3, 4, 1, 2, 3, 4, 1, 2, 4, 2, 3, 4, 1, 2, 3, 4, 1, 2, 3, 4, 2, 1, 2, 3, 4, 2, 3, 1, 2, 3, 4, 1, 2, 3, 4], \"Freq\": [0.9639530081568121, 0.9517452420443301, 0.07672217222860175, 0.7266041016944048, 0.17600968923032165, 0.02256534477311816, 0.9554335223851926, 0.9719738054774997, 0.17329487565156487, 0.04332371891289122, 0.7798269404320419, 0.6581931672001302, 0.2193977224000434, 0.07020727116801388, 0.052655453376010415, 0.9196116743801386, 0.4750788337009519, 0.13763966210027578, 0.08435979290016903, 0.30191925880060494, 0.97930159984637, 0.9176934785531616, 0.07929943174326845, 0.1585988634865369, 0.7533446015610503, 0.9819281487346843, 0.5723988510631935, 0.14448903036546634, 0.18894719355484058, 0.09447359677742029, 0.9718809627575801, 0.04417640739807182, 0.20654050263486357, 0.11015493473859389, 0.09638556789626966, 0.5920827742199422, 0.036714747930656065, 0.9178686982664016, 0.036714747930656065, 0.9517222296155152, 0.1625243445407474, 0.8126217227037371, 0.5609579669593577, 0.20398471525794826, 0.06722223571000567, 0.16921459333897979, 0.9734785159629806, 0.9734792146801767, 0.14027154055987964, 0.2117474847942132, 0.5977175836596145, 0.0500331609640335, 0.37782810770868575, 0.21684047920672397, 0.22998232643137392, 0.17741493753277418, 0.9610682226589888, 0.8404357394073431, 0.08857772123193151, 0.6064167068955312, 0.2384784802398156, 0.06132303777595259, 0.16206971955127553, 0.21118175577893475, 0.5746108238636132, 0.05402323985042517, 0.9361524758159145, 0.944140565970025, 0.029493951425746744, 0.10322882999011361, 0.870071567059529, 0.06536897025778528, 0.5066095194978358, 0.2900748055189221, 0.13482350115668212, 0.9177464868972991, 0.04830244667880521, 0.06662147287009432, 0.11936347222558565, 0.7939058850352906, 0.02220715762336477, 0.9772217690957055, 0.017767668529012827, 0.19370736065120375, 0.01760976005920034, 0.774829442604815, 0.9253703437204938, 0.1669358128180945, 0.3456276687923929, 0.3926518414172082, 0.09404834524963071, 0.02248609467592011, 0.9444159763886446, 0.02248609467592011, 0.9796616687204122, 0.7863517263338483, 0.050407161944477454, 0.04032572955558196, 0.12097718866674588, 0.9639037989261361, 0.05910839513471193, 0.886625927020679, 0.011867887690176736, 0.8663558013829017, 0.02373577538035347, 0.09494310152141389, 0.986040706608489, 0.8999961524062382, 0.03214271972879422, 0.03214271972879422, 0.03214271972879422, 0.3654210112589953, 0.18271050562949764, 0.391968691564136, 0.059341873623255645, 0.9860166070152696, 0.14652648582947894, 0.2618771236101326, 0.3678750069761386, 0.2244661059515422, 0.10371481516607278, 0.07778611137455459, 0.025928703791518196, 0.7778611137455458, 0.45692978102145837, 0.17343320155559003, 0.2601498023333851, 0.11339863178634733, 0.05911188179724176, 0.8866782269586264, 0.04287592434422653, 0.9361243481822793, 0.014291974781408843, 0.007145987390704421, 0.6697388057233478, 0.22832004740568673, 0.030442672987424896, 0.06849601422170602, 0.9545159727998835, 0.5109806327152757, 0.14153923629202472, 0.09835777437242396, 0.24949289109102665, 0.15397930624115702, 0.8468861843263635, 0.9489933419508461, 0.9555132862611002, 0.8974966417622936, 0.20160529817507994, 0.7938208615643773, 0.9539989538013466, 0.8722009727005257, 0.03739089372669644, 0.07478178745339288, 0.8599905557140182, 0.019344046376210573, 0.019344046376210573, 0.9478582724343181, 0.009672023188105287, 0.9618737823252156, 0.9797143648468183, 0.9371103518791968, 0.040743928342573774, 0.07443279365964109, 0.8931935239156932, 0.02475576969977776, 0.09902307879911104, 0.8664519394922217, 0.9318758456295914, 0.345303860791913, 0.40483900920431176, 0.06747316820071862, 0.18257445513135628, 0.8974833685482125, 0.12873995779683076, 0.8153530660465947, 0.042913319265610254, 0.20486018495881775, 0.06303390306425162, 0.09455085459637742, 0.6460975064085791, 0.9665793374036674, 0.005474313214511444, 0.005474313214511444, 0.9580048125395028, 0.03284587928706866, 0.043126753188602616, 0.043126753188602616, 0.905661816960655, 0.5732426538077798, 0.1803737660688273, 0.17296114554545083, 0.07412620523376463, 0.011654485733368055, 0.06992691440020832, 0.9207043729360763, 0.09360244375238462, 0.8736228083555897, 0.4205731420693072, 0.24134154987943365, 0.25553811163704737, 0.08340480032598074, 0.9609566458350953, 0.1512364843508469, 0.04321042410024197, 0.12963127230072594, 0.6481563615036297, 0.23519108087315257, 0.024756955881384483, 0.22281260293246033, 0.5198960735090742, 0.9798750481984537, 0.9554996415484249, 0.9545893782221258, 0.34105846078976965, 0.3010577771168954, 0.31684752067197736, 0.04000068367287422, 0.9172237273380912, 0.9472200751585527, 0.04564916024860495, 0.011412290062151238, 0.328016463456057, 0.1251641768450744, 0.46397065554639644, 0.08416211891306725, 0.13831654249051697, 0.34457805322198964, 0.4100964154543398, 0.10677066437864467, 0.34337082657319673, 0.3992301954894105, 0.20536532689784492, 0.05093060107066554, 0.100376358245944, 0.1229610388512814, 0.740275642063837, 0.037641134342229, 0.2542099605081526, 0.0936563012398457, 0.5307190403591255, 0.12487506831979425, 0.3988062090464288, 0.12902553822090343, 0.24632148205808835, 0.225794691886581, 0.12638509253407815, 0.20763265202027126, 0.02708251982873103, 0.6319254626703907, 0.33301870613712325, 0.30469746719877555, 0.3310655172448234, 0.03125102227679749, 0.022490846543176284, 0.9446155548134039, 0.022490846543176284, 0.5725973379402501, 0.15110207528978822, 0.15507844569215107, 0.11929111207088544, 0.022250955374908885, 0.8010343934967199, 0.17800764299927108, 0.9793475856386017, 0.5597191249252982, 0.21056100413856454, 0.07729454582301737, 0.15458909164603474, 0.19409023633708278, 0.6175598428907179, 0.14115653551787838, 0.04411141734933699, 0.10248590910697633, 0.017080984851162724, 0.8198872728558106, 0.0683239394046509, 0.8974749316161525, 0.6734061104030268, 0.1378626682714858, 0.12725784763521766, 0.05832651349947476, 0.007908562432876035, 0.925301804646496, 0.05535993703013224, 0.01581712486575207, 0.3633634916696177, 0.19858237335432594, 0.21125784399396377, 0.22815847151348087, 0.9698258361886252, 0.5867776346428818, 0.214958143384026, 0.07552583416195507, 0.12200327056931205, 0.19136174795633135, 0.7244409029775402, 0.06834348141297548, 0.9835927779233901, 0.05898411494526395, 0.8847617241789592, 0.9318773699597945, 0.8977880054790182, 0.06650281522066802, 0.03325140761033401, 0.8404871103397681, 0.8972384444570913, 0.9742305560574555, 0.9698341243836073, 0.8316876953582857, 0.025202657435099567, 0.12601328717549784, 0.025202657435099567, 0.21631929269902675, 0.2954140120559396, 0.3868970609506822, 0.10196548158059851, 0.9947287122503721, 0.0037894427133347507, 0.28165471820063276, 0.3114594502853558, 0.3025180306599389, 0.10431656229653065, 0.9095361927066795, 0.46116467973713404, 0.27460260475256615, 0.16769624717713963, 0.09642534212685529, 0.2827336377408211, 0.2323615528559622, 0.40460158504289917, 0.07962039223735767, 0.8404856879591499, 0.19739950636971304, 0.3618990950111406, 0.20209949461661098, 0.2396994005917944, 0.49842911593481043, 0.1824315718454208, 0.2475857046473568, 0.0716695460821296, 0.23557383315545521, 0.2836501256361604, 0.25360244283571964, 0.22716048197133182, 0.7790104940613262, 0.059923884158563555, 0.059923884158563555, 0.08389343782198898, 0.9692667245826907, 0.34824050894096004, 0.12500941346598565, 0.11608016964698668, 0.4107452156739529, 0.9598826567733665, 0.20041187217088224, 0.446307289798986, 0.2942216846764016, 0.058275792617065045, 0.44164050730081206, 0.20855246178093903, 0.22695414958513954, 0.12267791869467003, 0.02498991436609092, 0.9496167459114551, 0.7089324532997003, 0.047262163553313356, 0.1536020315482684, 0.08270878621829837, 0.1528963256552274, 0.1019308837701516, 0.4077235350806064, 0.34146846063000785, 0.9444784180379471, 0.8562948766951626, 0.11948300605048781, 0.01991383434174797, 0.8404844404272658, 0.9595800351796043, 0.807514585894278, 0.08389761931369122, 0.010487202414211402, 0.10487202414211404, 0.8720415504646599, 0.9609292509575567, 0.04890206348522506, 0.929139206219276, 0.02445103174261253, 0.0772843619377724, 0.18391721575064823, 0.7170814848150274, 0.021522227375075857, 0.3010531793268399, 0.3320439477869558, 0.285557795096782, 0.08190417378744909, 0.9501371478945002, 0.18913808345613173, 0.20870409208952467, 0.367406162115934, 0.23479210360071526, 0.16507398744764762, 0.12333114004709306, 0.16697138960221827, 0.5426570162072094, 0.240179920641855, 0.45059691163644844, 0.21041699099459343, 0.09897904510600941, 0.03603075318695186, 0.03603075318695186, 0.07206150637390372, 0.8467226998933687, 0.37618317710215016, 0.3715579741049926, 0.12333874659086891, 0.12796394958802648, 0.608356703283456, 0.09947971248660287, 0.2869607090959698, 0.003826142787946264, 0.09862049615143546, 0.1479307442271532, 0.739653721135766, 0.9639335085665955, 0.9595969499082756, 0.964174595701788, 0.9720887919306721, 0.9560576049346825, 0.036771446343641635, 0.05790751983057496, 0.8686127974586244, 0.02895375991528748, 0.02895375991528748, 0.9446553610917835, 0.0572518400661687, 0.982192147368699, 0.9963323662467476, 0.00505752470176014, 0.9360772092135664, 0.9440733471578641, 0.08019908190955934, 0.8821899010051527, 0.9866209457496453, 0.9749262026408079, 0.10968084677427012, 0.4736218383434391, 0.32904254032281033, 0.08973887463349373, 0.9365746952428362, 0.9319349771495146, 0.28218138525283837, 0.16641466309782774, 0.2315334443100212, 0.3183584859262792, 0.9295933007667048, 0.05164407226481693, 0.04224365808528759, 0.9504823069189708, 0.7183985865878819, 0.023174147954447805, 0.011587073977223902, 0.2549156274989259, 0.9318791901108238, 0.9768735950050762, 0.03553326845951818, 0.21912182216702877, 0.4323214329241378, 0.31387720472574393, 0.9319351702761837, 0.021588503352196496, 0.9283056441444494, 0.021588503352196496, 0.021588503352196496, 0.26804318209361505, 0.16752698880850939, 0.04307836855075956, 0.5265133933981724, 0.9915596687983825, 0.9973575818133468, 0.9636338768686697, 0.9454554968266576, 0.02626265268962938, 0.979722351750361, 0.31820594192805796, 0.3559192387491611, 0.23099394302925688, 0.09428324205275791, 0.959958449527487, 0.10452561471721854, 0.06968374314481235, 0.034841871572406174, 0.801363046165342, 0.9043271399302953, 0.045216356996514766, 0.022608178498257383, 0.022608178498257383, 0.4103901728953922, 0.22540369344633285, 0.28602951444224306, 0.07772541153321823, 0.9355781336723186, 0.9491872198827076, 0.9196169131599955, 0.8720533850467274, 0.9128355436823425, 0.0730268434945874, 0.09334037087305827, 0.9334037087305826, 0.9793166826407376, 0.9096079059206794, 0.9159738793426032, 0.02410457577217377, 0.04820915154434754, 0.9438044350040247, 0.9682360374362976, 0.3798149938396743, 0.19630887322050583, 0.04267584200445779, 0.3798149938396743, 0.2003617869614402, 0.49885995937338173, 0.27396407604931616, 0.028623112423062886, 0.04404011390270535, 0.9248423919568123, 0.24697626700276962, 0.22585329679858537, 0.37371408822787505, 0.15436016687673101, 0.07200874508062499, 0.07754787931759614, 0.7090091823323076, 0.14401749016124998, 0.979932086448676, 0.9607721764109906, 0.8695621087757547, 0.09661801208619496, 0.9361876912823351, 0.9355134667195782, 0.9913032848136748, 0.9287804186339683, 0.46143441122959483, 0.15906589952324543, 0.23931536234578366, 0.13900353381761088, 0.9196243408989625, 0.9545460266575128, 0.9137030496784042, 0.7547818362945445, 0.09434772953681807, 0.09434772953681807, 0.06739123538344148, 0.48091602037354153, 0.14585157994935277, 0.27987735611902825, 0.09460643023741801, 0.3266545523744899, 0.4106514372707873, 0.161771778318795, 0.09955186358079693, 0.9287714272701862, 0.06586503699353999, 0.06586503699353999, 0.8562454809160198, 0.1505659324950277, 0.7958485003308607, 0.0215094189278611, 0.0430188378557222, 0.9596213053568466, 0.97960681958278, 0.2506489076424811, 0.18798668073186084, 0.1566555672765507, 0.4010382522279698, 0.798165379411549, 0.07601575042014752, 0.07601575042014752, 0.05701181281511064, 0.08185879180999851, 0.27582853762064713, 0.6228386333369452, 0.01957492847630399, 0.1343534824995856, 0.5953703342138499, 0.2041646057591742, 0.0658595502448949, 0.3570078710648955, 0.22686707077522916, 0.20224583828799497, 0.21455645453161207, 0.6265885527292179, 0.10981448862264644, 0.16795157083463572, 0.09043546121865, 0.058924709781431564, 0.058924709781431564, 0.8249459369400419, 0.9639285995889532, 0.9846772442116651, 0.948802825551581, 0.05883651151903777, 0.07694005352489554, 0.5068991761640177, 0.3575449546156911, 0.17391968092400417, 0.36467029871162165, 0.33661873727226616, 0.1262320264770998, 0.9550883487281808, 0.05590937114810405, 0.24905083511428167, 0.4167789485585938, 0.2846295258448933, 0.057537927998744805, 0.9493758119792893, 0.4991482237701011, 0.14753149471037472, 0.3257987174854108, 0.028276869819488484, 0.20925530001782242, 0.5955727769738023, 0.1207242115487437, 0.06438624615932997], \"Term\": [\"aaaaaaaaah\", \"aahh\", \"ah\", \"ah\", \"ah\", \"ah\", \"ale\", \"alejandro\", \"almost\", \"almost\", \"almost\", \"alone\", \"alone\", \"alone\", \"alone\", \"alternate\", \"always\", \"always\", \"always\", \"always\", \"amor\", \"amy\", \"animal\", \"animal\", \"animal\", \"annie\", \"another\", \"another\", \"another\", \"another\", \"anthem\", \"anthem\", \"anything\", \"anything\", \"anything\", \"anything\", \"applause\", \"applause\", \"applause\", \"artpop\", \"autumn\", \"autumn\", \"away\", \"away\", \"away\", \"away\", \"baba\", \"bababa\", \"baby\", \"baby\", \"baby\", \"baby\", \"back\", \"back\", \"back\", \"back\", \"ballerina\", \"bartender\", \"beat\", \"beat\", \"beat\", \"beat\", \"better\", \"better\", \"better\", \"better\", \"billie\", \"birthday\", \"bitch\", \"bitch\", \"bitch\", \"body\", \"body\", \"body\", \"body\", \"bop\", \"bop\", \"boy\", \"boy\", \"boy\", \"boy\", \"cake\", \"cake\", \"camera\", \"camera\", \"camera\", \"cane\", \"cause\", \"cause\", \"cause\", \"cause\", \"cha\", \"cha\", \"cha\", \"charade\", \"child\", \"child\", \"child\", \"child\", \"chillin\", \"chord\", \"chord\", \"christmas\", \"christmas\", \"christmas\", \"christmas\", \"clap\", \"clock\", \"clock\", \"clock\", \"clock\", \"come\", \"come\", \"come\", \"come\", \"coo\", \"could\", \"could\", \"could\", \"could\", \"crash\", \"crash\", \"crash\", \"crash\", \"cry\", \"cry\", \"cry\", \"cry\", \"curious\", \"curious\", \"da\", \"da\", \"da\", \"da\", \"dark\", \"dark\", \"dark\", \"dark\", \"dat\", \"day\", \"day\", \"day\", \"day\", \"decision\", \"decision\", \"deet\", \"demerol\", \"dew\", \"di\", \"di\", \"diana\", \"dinosaur\", \"dirt\", \"dirt\", \"dirt\", \"dirty\", \"dirty\", \"dirty\", \"dirty\", \"disaster\", \"dish\", \"dj\", \"dj\", \"doggone\", \"doggone\", \"doin\", \"doin\", \"doin\", \"doot\", \"dream\", \"dream\", \"dream\", \"dream\", \"dum\", \"e\", \"e\", \"e\", \"eat\", \"eat\", \"eat\", \"eat\", \"ee\", \"eh\", \"eh\", \"eh\", \"eh\", \"ella\", \"ella\", \"ella\", \"eye\", \"eye\", \"eye\", \"eye\", \"fame\", \"fame\", \"fame\", \"fashion\", \"fashion\", \"feel\", \"feel\", \"feel\", \"feel\", \"filling\", \"fine\", \"fine\", \"fine\", \"fine\", \"forget\", \"forget\", \"forget\", \"forget\", \"fuckin\", \"funk\", \"gasoline\", \"get\", \"get\", \"get\", \"get\", \"getaway\", \"gim\", \"gim\", \"gim\", \"girl\", \"girl\", \"girl\", \"girl\", \"give\", \"give\", \"give\", \"give\", \"go\", \"go\", \"go\", \"go\", \"gon\", \"gon\", \"gon\", \"gon\", \"gone\", \"gone\", \"gone\", \"gone\", \"good\", \"good\", \"good\", \"good\", \"goodbye\", \"goodbye\", \"goodbye\", \"goodbye\", \"got\", \"got\", \"got\", \"got\", \"greatest\", \"greatest\", \"greatest\", \"hand\", \"hand\", \"hand\", \"hand\", \"happen\", \"happen\", \"happen\", \"happens\", \"heart\", \"heart\", \"heart\", \"heart\", \"heaven\", \"heaven\", \"heaven\", \"heaven\", \"hee\", \"hee\", \"hee\", \"hee\", \"helium\", \"high\", \"high\", \"high\", \"high\", \"ho\", \"ho\", \"ho\", \"ho\", \"hold\", \"hold\", \"hold\", \"hold\", \"holland\", \"home\", \"home\", \"home\", \"home\", \"hoo\", \"hoo\", \"hoo\", \"hooker\", \"hopeless\", \"hopeless\", \"hostage\", \"illusion\", \"illusion\", \"illusion\", \"indoor\", \"jag\", \"jam\", \"jane\", \"knock\", \"knock\", \"knock\", \"knock\", \"know\", \"know\", \"know\", \"know\", \"la\", \"la\", \"let\", \"let\", \"let\", \"let\", \"liberian\", \"life\", \"life\", \"life\", \"life\", \"like\", \"like\", \"like\", \"like\", \"limit\", \"little\", \"little\", \"little\", \"little\", \"look\", \"look\", \"look\", \"look\", \"love\", \"love\", \"love\", \"love\", \"lover\", \"lover\", \"lover\", \"lover\", \"luv\", \"made\", \"made\", \"made\", \"made\", \"magnification\", \"make\", \"make\", \"make\", \"make\", \"man\", \"man\", \"man\", \"man\", \"marry\", \"marry\", \"meet\", \"meet\", \"meet\", \"meet\", \"mine\", \"mine\", \"mine\", \"mine\", \"mistletoe\", \"mmm\", \"mmm\", \"mmm\", \"mmmmm\", \"mo\", \"moment\", \"moment\", \"moment\", \"moment\", \"moonchild\", \"morphine\", \"n\", \"n\", \"n\", \"na\", \"na\", \"na\", \"na\", \"need\", \"need\", \"need\", \"need\", \"ner\", \"never\", \"never\", \"never\", \"never\", \"night\", \"night\", \"night\", \"night\", \"oh\", \"oh\", \"oh\", \"oh\", \"ok\", \"ok\", \"ok\", \"ok\", \"one\", \"one\", \"one\", \"one\", \"ooh\", \"ooh\", \"ooh\", \"ooh\", \"ooo\", \"ooo\", \"ooo\", \"oooooo\", \"oops\", \"ovum\", \"owner\", \"papa\", \"papa\", \"paper\", \"paper\", \"paper\", \"paper\", \"pas\", \"pas\", \"phonography\", \"phresh\", \"phresh\", \"pinot\", \"pound\", \"prerogative\", \"prerogative\", \"pressurin\", \"puppy\", \"put\", \"put\", \"put\", \"put\", \"que\", \"rah\", \"really\", \"really\", \"really\", \"really\", \"retro\", \"retro\", \"rich\", \"rich\", \"river\", \"river\", \"river\", \"river\", \"robin\", \"roc\", \"rock\", \"rock\", \"rock\", \"rock\", \"rom\", \"rough\", \"rough\", \"rough\", \"rough\", \"run\", \"run\", \"run\", \"run\", \"runway\", \"sa\", \"sandal\", \"santa\", \"santa\", \"satisfied\", \"say\", \"say\", \"say\", \"say\", \"scary\", \"screaming\", \"screaming\", \"screaming\", \"screaming\", \"se\", \"se\", \"se\", \"se\", \"see\", \"see\", \"see\", \"see\", \"sentimental\", \"sharp\", \"shi\", \"shutting\", \"simple\", \"simple\", \"slay\", \"slay\", \"slumber\", \"soda\", \"somethin\", \"somethin\", \"somethin\", \"stamen\", \"startin\", \"still\", \"still\", \"still\", \"still\", \"stop\", \"stop\", \"stop\", \"stop\", \"stupid\", \"stupid\", \"take\", \"take\", \"take\", \"take\", \"talk\", \"talk\", \"talk\", \"talk\", \"tap\", \"thong\", \"thrill\", \"thrill\", \"thunder\", \"thundercloud\", \"tick\", \"tickin\", \"time\", \"time\", \"time\", \"time\", \"toxic\", \"triple\", \"trippin\", \"truth\", \"truth\", \"truth\", \"truth\", \"turn\", \"turn\", \"turn\", \"turn\", \"u\", \"u\", \"u\", \"u\", \"ultraviolence\", \"umbrella\", \"umbrella\", \"umbrella\", \"underneath\", \"underneath\", \"underneath\", \"underneath\", \"unstoppable\", \"uoohh\", \"wait\", \"wait\", \"wait\", \"wait\", \"wake\", \"wake\", \"wake\", \"wake\", \"wan\", \"wan\", \"wan\", \"wan\", \"want\", \"want\", \"want\", \"want\", \"way\", \"way\", \"way\", \"way\", \"well\", \"well\", \"well\", \"well\", \"willing\", \"willing\", \"willing\", \"witchu\", \"womanizer\", \"wonderlove\", \"work\", \"work\", \"work\", \"work\", \"world\", \"world\", \"world\", \"world\", \"xscape\", \"ya\", \"ya\", \"ya\", \"ya\", \"yayo\", \"yayo\", \"yeah\", \"yeah\", \"yeah\", \"yeah\", \"yes\", \"yes\", \"yes\", \"yes\"]}, \"R\": 30, \"lambda.step\": 0.01, \"plot.opts\": {\"xlab\": \"PC1\", \"ylab\": \"PC2\"}, \"topic.order\": [4, 1, 3, 2]};\n",
       "\n",
       "function LDAvis_load_lib(url, callback){\n",
       "  var s = document.createElement('script');\n",
       "  s.src = url;\n",
       "  s.async = true;\n",
       "  s.onreadystatechange = s.onload = callback;\n",
       "  s.onerror = function(){console.warn(\"failed to load library \" + url);};\n",
       "  document.getElementsByTagName(\"head\")[0].appendChild(s);\n",
       "}\n",
       "\n",
       "if(typeof(LDAvis) !== \"undefined\"){\n",
       "   // already loaded: just create the visualization\n",
       "   !function(LDAvis){\n",
       "       new LDAvis(\"#\" + \"ldavis_el159003081362935472901919637\", ldavis_el159003081362935472901919637_data);\n",
       "   }(LDAvis);\n",
       "}else if(typeof define === \"function\" && define.amd){\n",
       "   // require.js is available: use it to load d3/LDAvis\n",
       "   require.config({paths: {d3: \"https://d3js.org/d3.v5\"}});\n",
       "   require([\"d3\"], function(d3){\n",
       "      window.d3 = d3;\n",
       "      LDAvis_load_lib(\"https://cdn.jsdelivr.net/gh/bmabey/pyLDAvis@3.3.1/pyLDAvis/js/ldavis.v3.0.0.js\", function(){\n",
       "        new LDAvis(\"#\" + \"ldavis_el159003081362935472901919637\", ldavis_el159003081362935472901919637_data);\n",
       "      });\n",
       "    });\n",
       "}else{\n",
       "    // require.js not available: dynamically load d3 & LDAvis\n",
       "    LDAvis_load_lib(\"https://d3js.org/d3.v5.js\", function(){\n",
       "         LDAvis_load_lib(\"https://cdn.jsdelivr.net/gh/bmabey/pyLDAvis@3.3.1/pyLDAvis/js/ldavis.v3.0.0.js\", function(){\n",
       "                 new LDAvis(\"#\" + \"ldavis_el159003081362935472901919637\", ldavis_el159003081362935472901919637_data);\n",
       "            })\n",
       "         });\n",
       "}\n",
       "</script>"
      ],
      "text/plain": [
       "PreparedData(topic_coordinates=              x         y  topics  cluster       Freq\n",
       "topic                                                \n",
       "3      0.037101 -0.018927       1        1  33.841947\n",
       "0     -0.037199 -0.083647       2        1  26.025292\n",
       "2     -0.102632  0.063044       3        1  24.984540\n",
       "1      0.102729  0.039531       4        1  15.148220, topic_info=        Term         Freq        Total Category  logprob  loglift\n",
       "3352      la   527.000000   527.000000  Default  30.0000  30.0000\n",
       "14        na  1022.000000  1022.000000  Default  29.0000  29.0000\n",
       "190    night   527.000000   527.000000  Default  28.0000  28.0000\n",
       "2511    baby  1119.000000  1119.000000  Default  27.0000  27.0000\n",
       "5970  phresh   197.000000   197.000000  Default  26.0000  26.0000\n",
       "...      ...          ...          ...      ...      ...      ...\n",
       "495     hold    53.644560   236.677602   Topic4  -5.7254   0.4030\n",
       "139    heart    57.952696   375.188180   Topic4  -5.6482   0.0195\n",
       "280   little    51.144739   212.766490   Topic4  -5.7731   0.4618\n",
       "151     back    53.676249   304.371214   Topic4  -5.7248   0.1520\n",
       "2511    baby    56.001499  1119.257687   Topic4  -5.6824  -1.1078\n",
       "\n",
       "[335 rows x 6 columns], token_table=      Topic      Freq        Term\n",
       "term                             \n",
       "7860      2  0.963953  aaaaaaaaah\n",
       "7076      2  0.951745        aahh\n",
       "2308      1  0.076722          ah\n",
       "2308      2  0.726604          ah\n",
       "2308      3  0.176010          ah\n",
       "...     ...       ...         ...\n",
       "332       4  0.028277        yeah\n",
       "434       1  0.209255         yes\n",
       "434       2  0.595573         yes\n",
       "434       3  0.120724         yes\n",
       "434       4  0.064386         yes\n",
       "\n",
       "[624 rows x 3 columns], R=30, lambda_step=0.01, plot_opts={'xlab': 'PC1', 'ylab': 'PC2'}, topic_order=[4, 1, 3, 2])"
      ]
     },
     "execution_count": 26,
     "metadata": {},
     "output_type": "execute_result"
    }
   ],
   "source": [
    "import pyLDAvis\n",
    "import pyLDAvis.gensim_models as gensimvis\n",
    "\n",
    "pyLDAvis.enable_notebook()\n",
    "vis = gensimvis.prepare(lda_model, bc, dic)\n",
    "vis"
   ]
  },
  {
   "cell_type": "markdown",
   "metadata": {},
   "source": [
    "The common love theme continues even after using *gensim* to compute commonly shared topics inside the lyrics and visualize LDA with *pyLDAvis*."
   ]
  },
  {
   "cell_type": "markdown",
   "metadata": {},
   "source": [
    "##  Feature Creation & Selection"
   ]
  },
  {
   "cell_type": "markdown",
   "metadata": {},
   "source": [
    "#### Artist Names\n",
    "\n",
    "I wanted to include artists in the model, as I think they would also be effective in predicting song genre. For this, I applied one hot encoder conversion to artist names. I used the drop = \"first\" property to get rid of the dummy variable trap."
   ]
  },
  {
   "cell_type": "code",
   "execution_count": 36,
   "metadata": {},
   "outputs": [],
   "source": [
    "from sklearn.preprocessing import OneHotEncoder\n",
    "from numpy import array\n",
    "\n",
    "onehot_encoder = OneHotEncoder(sparse= False , drop = \"first\")\n",
    "\n",
    "artists = array(data.Artist)\n",
    "artists = artists.reshape(len(artists), 1)\n",
    "onehot_encode_artists = pd.DataFrame(onehot_encoder.fit_transform(artists))"
   ]
  },
  {
   "cell_type": "markdown",
   "metadata": {},
   "source": [
    "#### Song Names\n",
    "\n",
    "I thought that song names were as important as the lyrics in determining the genre.  I edited and vectorized the song names with the same processes. I did not include \"Lyrics\" in the vectorization because all of the song titles contain \"Lyrics.\""
   ]
  },
  {
   "cell_type": "code",
   "execution_count": 37,
   "metadata": {},
   "outputs": [],
   "source": [
    "data['Song'] = [rid_of_specials(i) for i in data[\"Song\"]] \n",
    "tokenized_song=[word_tokenize(i) for i in data['Song']]\n",
    "stopped_song = [[i for i in j if ((i not in stop_words)&(i !=\"lyrics\"))] for j in tokenized_song]\n",
    "\n",
    "lemmatized_song = [[lemmatizer.lemmatize(i) for i in j] for j in stopped_song]\n",
    "prepeared_sentence_song= [' '.join(j) for j in lemmatized_song]\n",
    "data['Song_Processed'] = prepeared_sentence_song"
   ]
  },
  {
   "cell_type": "code",
   "execution_count": 38,
   "metadata": {},
   "outputs": [],
   "source": [
    "X_song = vectorizer.fit_transform(prepeared_sentence_song)\n",
    "feature_names_song = vectorizer.get_feature_names()\n",
    "song_vectorized = pd.DataFrame(X_song.toarray(), columns = feature_names_song)"
   ]
  },
  {
   "cell_type": "markdown",
   "metadata": {},
   "source": [
    "###  Select or eliminate redundant features."
   ]
  },
  {
   "cell_type": "markdown",
   "metadata": {},
   "source": [
    "In this study, I vectorized the lyrics to get them into the algorithms, but in this case I had to create a new column for each word. In our dataset, this resulted in 8000 columns. For a more performing model, I can eliminate these columns without losing their meaning. For this, I selected the first 500 words from the words sorted by word frequency with the max_features parameter of the CountVectorizer(). Thus, I was able to create our model with 500 columns instead of 8000 columns."
   ]
  },
  {
   "cell_type": "code",
   "execution_count": 39,
   "metadata": {},
   "outputs": [],
   "source": [
    "vectorizer = CountVectorizer(max_features= 500)\n",
    "X = vectorizer.fit_transform(prepeared_sentence)\n",
    "feature_names = vectorizer.get_feature_names()\n",
    "lyrics_vectorized = pd.DataFrame(X.toarray(), columns = feature_names)"
   ]
  },
  {
   "cell_type": "markdown",
   "metadata": {},
   "source": [
    "I merged the data into a single dataframe using the *concat* method."
   ]
  },
  {
   "cell_type": "code",
   "execution_count": 40,
   "metadata": {},
   "outputs": [],
   "source": [
    "all_features = pd.concat([lyrics_vectorized,song_vectorized,onehot_encode_artists],axis = 1)"
   ]
  },
  {
   "cell_type": "code",
   "execution_count": 41,
   "metadata": {},
   "outputs": [
    {
     "data": {
      "text/html": [
       "<div>\n",
       "<style scoped>\n",
       "    .dataframe tbody tr th:only-of-type {\n",
       "        vertical-align: middle;\n",
       "    }\n",
       "\n",
       "    .dataframe tbody tr th {\n",
       "        vertical-align: top;\n",
       "    }\n",
       "\n",
       "    .dataframe thead th {\n",
       "        text-align: right;\n",
       "    }\n",
       "</style>\n",
       "<table border=\"1\" class=\"dataframe\">\n",
       "  <thead>\n",
       "    <tr style=\"text-align: right;\">\n",
       "      <th></th>\n",
       "      <th>across</th>\n",
       "      <th>ah</th>\n",
       "      <th>air</th>\n",
       "      <th>alive</th>\n",
       "      <th>almost</th>\n",
       "      <th>alone</th>\n",
       "      <th>along</th>\n",
       "      <th>alright</th>\n",
       "      <th>always</th>\n",
       "      <th>america</th>\n",
       "      <th>...</th>\n",
       "      <th>0</th>\n",
       "      <th>1</th>\n",
       "      <th>2</th>\n",
       "      <th>3</th>\n",
       "      <th>4</th>\n",
       "      <th>5</th>\n",
       "      <th>6</th>\n",
       "      <th>7</th>\n",
       "      <th>8</th>\n",
       "      <th>9</th>\n",
       "    </tr>\n",
       "  </thead>\n",
       "  <tbody>\n",
       "    <tr>\n",
       "      <th>0</th>\n",
       "      <td>0</td>\n",
       "      <td>0</td>\n",
       "      <td>0</td>\n",
       "      <td>0</td>\n",
       "      <td>0</td>\n",
       "      <td>0</td>\n",
       "      <td>0</td>\n",
       "      <td>0</td>\n",
       "      <td>0</td>\n",
       "      <td>0</td>\n",
       "      <td>...</td>\n",
       "      <td>0.0</td>\n",
       "      <td>0.0</td>\n",
       "      <td>0.0</td>\n",
       "      <td>0.0</td>\n",
       "      <td>0.0</td>\n",
       "      <td>1.0</td>\n",
       "      <td>0.0</td>\n",
       "      <td>0.0</td>\n",
       "      <td>0.0</td>\n",
       "      <td>0.0</td>\n",
       "    </tr>\n",
       "    <tr>\n",
       "      <th>1</th>\n",
       "      <td>0</td>\n",
       "      <td>0</td>\n",
       "      <td>0</td>\n",
       "      <td>0</td>\n",
       "      <td>0</td>\n",
       "      <td>0</td>\n",
       "      <td>2</td>\n",
       "      <td>0</td>\n",
       "      <td>0</td>\n",
       "      <td>0</td>\n",
       "      <td>...</td>\n",
       "      <td>0.0</td>\n",
       "      <td>0.0</td>\n",
       "      <td>0.0</td>\n",
       "      <td>0.0</td>\n",
       "      <td>0.0</td>\n",
       "      <td>1.0</td>\n",
       "      <td>0.0</td>\n",
       "      <td>0.0</td>\n",
       "      <td>0.0</td>\n",
       "      <td>0.0</td>\n",
       "    </tr>\n",
       "    <tr>\n",
       "      <th>2</th>\n",
       "      <td>0</td>\n",
       "      <td>0</td>\n",
       "      <td>0</td>\n",
       "      <td>0</td>\n",
       "      <td>0</td>\n",
       "      <td>1</td>\n",
       "      <td>0</td>\n",
       "      <td>0</td>\n",
       "      <td>0</td>\n",
       "      <td>0</td>\n",
       "      <td>...</td>\n",
       "      <td>0.0</td>\n",
       "      <td>0.0</td>\n",
       "      <td>0.0</td>\n",
       "      <td>0.0</td>\n",
       "      <td>0.0</td>\n",
       "      <td>1.0</td>\n",
       "      <td>0.0</td>\n",
       "      <td>0.0</td>\n",
       "      <td>0.0</td>\n",
       "      <td>0.0</td>\n",
       "    </tr>\n",
       "    <tr>\n",
       "      <th>3</th>\n",
       "      <td>1</td>\n",
       "      <td>0</td>\n",
       "      <td>1</td>\n",
       "      <td>0</td>\n",
       "      <td>0</td>\n",
       "      <td>1</td>\n",
       "      <td>0</td>\n",
       "      <td>0</td>\n",
       "      <td>0</td>\n",
       "      <td>0</td>\n",
       "      <td>...</td>\n",
       "      <td>0.0</td>\n",
       "      <td>0.0</td>\n",
       "      <td>0.0</td>\n",
       "      <td>0.0</td>\n",
       "      <td>0.0</td>\n",
       "      <td>1.0</td>\n",
       "      <td>0.0</td>\n",
       "      <td>0.0</td>\n",
       "      <td>0.0</td>\n",
       "      <td>0.0</td>\n",
       "    </tr>\n",
       "    <tr>\n",
       "      <th>4</th>\n",
       "      <td>0</td>\n",
       "      <td>0</td>\n",
       "      <td>0</td>\n",
       "      <td>0</td>\n",
       "      <td>0</td>\n",
       "      <td>2</td>\n",
       "      <td>0</td>\n",
       "      <td>0</td>\n",
       "      <td>0</td>\n",
       "      <td>0</td>\n",
       "      <td>...</td>\n",
       "      <td>0.0</td>\n",
       "      <td>0.0</td>\n",
       "      <td>0.0</td>\n",
       "      <td>0.0</td>\n",
       "      <td>0.0</td>\n",
       "      <td>1.0</td>\n",
       "      <td>0.0</td>\n",
       "      <td>0.0</td>\n",
       "      <td>0.0</td>\n",
       "      <td>0.0</td>\n",
       "    </tr>\n",
       "    <tr>\n",
       "      <th>...</th>\n",
       "      <td>...</td>\n",
       "      <td>...</td>\n",
       "      <td>...</td>\n",
       "      <td>...</td>\n",
       "      <td>...</td>\n",
       "      <td>...</td>\n",
       "      <td>...</td>\n",
       "      <td>...</td>\n",
       "      <td>...</td>\n",
       "      <td>...</td>\n",
       "      <td>...</td>\n",
       "      <td>...</td>\n",
       "      <td>...</td>\n",
       "      <td>...</td>\n",
       "      <td>...</td>\n",
       "      <td>...</td>\n",
       "      <td>...</td>\n",
       "      <td>...</td>\n",
       "      <td>...</td>\n",
       "      <td>...</td>\n",
       "      <td>...</td>\n",
       "    </tr>\n",
       "    <tr>\n",
       "      <th>825</th>\n",
       "      <td>0</td>\n",
       "      <td>0</td>\n",
       "      <td>0</td>\n",
       "      <td>0</td>\n",
       "      <td>0</td>\n",
       "      <td>0</td>\n",
       "      <td>0</td>\n",
       "      <td>0</td>\n",
       "      <td>1</td>\n",
       "      <td>0</td>\n",
       "      <td>...</td>\n",
       "      <td>0.0</td>\n",
       "      <td>0.0</td>\n",
       "      <td>0.0</td>\n",
       "      <td>1.0</td>\n",
       "      <td>0.0</td>\n",
       "      <td>0.0</td>\n",
       "      <td>0.0</td>\n",
       "      <td>0.0</td>\n",
       "      <td>0.0</td>\n",
       "      <td>0.0</td>\n",
       "    </tr>\n",
       "    <tr>\n",
       "      <th>826</th>\n",
       "      <td>0</td>\n",
       "      <td>0</td>\n",
       "      <td>0</td>\n",
       "      <td>0</td>\n",
       "      <td>0</td>\n",
       "      <td>0</td>\n",
       "      <td>0</td>\n",
       "      <td>0</td>\n",
       "      <td>0</td>\n",
       "      <td>0</td>\n",
       "      <td>...</td>\n",
       "      <td>0.0</td>\n",
       "      <td>0.0</td>\n",
       "      <td>0.0</td>\n",
       "      <td>1.0</td>\n",
       "      <td>0.0</td>\n",
       "      <td>0.0</td>\n",
       "      <td>0.0</td>\n",
       "      <td>0.0</td>\n",
       "      <td>0.0</td>\n",
       "      <td>0.0</td>\n",
       "    </tr>\n",
       "    <tr>\n",
       "      <th>827</th>\n",
       "      <td>0</td>\n",
       "      <td>0</td>\n",
       "      <td>0</td>\n",
       "      <td>0</td>\n",
       "      <td>0</td>\n",
       "      <td>0</td>\n",
       "      <td>0</td>\n",
       "      <td>0</td>\n",
       "      <td>0</td>\n",
       "      <td>0</td>\n",
       "      <td>...</td>\n",
       "      <td>0.0</td>\n",
       "      <td>0.0</td>\n",
       "      <td>0.0</td>\n",
       "      <td>0.0</td>\n",
       "      <td>0.0</td>\n",
       "      <td>0.0</td>\n",
       "      <td>0.0</td>\n",
       "      <td>0.0</td>\n",
       "      <td>1.0</td>\n",
       "      <td>0.0</td>\n",
       "    </tr>\n",
       "    <tr>\n",
       "      <th>828</th>\n",
       "      <td>0</td>\n",
       "      <td>0</td>\n",
       "      <td>0</td>\n",
       "      <td>0</td>\n",
       "      <td>0</td>\n",
       "      <td>0</td>\n",
       "      <td>0</td>\n",
       "      <td>0</td>\n",
       "      <td>5</td>\n",
       "      <td>0</td>\n",
       "      <td>...</td>\n",
       "      <td>0.0</td>\n",
       "      <td>0.0</td>\n",
       "      <td>0.0</td>\n",
       "      <td>0.0</td>\n",
       "      <td>0.0</td>\n",
       "      <td>0.0</td>\n",
       "      <td>0.0</td>\n",
       "      <td>1.0</td>\n",
       "      <td>0.0</td>\n",
       "      <td>0.0</td>\n",
       "    </tr>\n",
       "    <tr>\n",
       "      <th>829</th>\n",
       "      <td>0</td>\n",
       "      <td>5</td>\n",
       "      <td>0</td>\n",
       "      <td>0</td>\n",
       "      <td>0</td>\n",
       "      <td>0</td>\n",
       "      <td>0</td>\n",
       "      <td>0</td>\n",
       "      <td>0</td>\n",
       "      <td>0</td>\n",
       "      <td>...</td>\n",
       "      <td>0.0</td>\n",
       "      <td>0.0</td>\n",
       "      <td>0.0</td>\n",
       "      <td>0.0</td>\n",
       "      <td>0.0</td>\n",
       "      <td>0.0</td>\n",
       "      <td>0.0</td>\n",
       "      <td>1.0</td>\n",
       "      <td>0.0</td>\n",
       "      <td>0.0</td>\n",
       "    </tr>\n",
       "  </tbody>\n",
       "</table>\n",
       "<p>830 rows × 1010 columns</p>\n",
       "</div>"
      ],
      "text/plain": [
       "     across  ah  air  alive  almost  alone  along  alright  always  america  \\\n",
       "0         0   0    0      0       0      0      0        0       0        0   \n",
       "1         0   0    0      0       0      0      2        0       0        0   \n",
       "2         0   0    0      0       0      1      0        0       0        0   \n",
       "3         1   0    1      0       0      1      0        0       0        0   \n",
       "4         0   0    0      0       0      2      0        0       0        0   \n",
       "..      ...  ..  ...    ...     ...    ...    ...      ...     ...      ...   \n",
       "825       0   0    0      0       0      0      0        0       1        0   \n",
       "826       0   0    0      0       0      0      0        0       0        0   \n",
       "827       0   0    0      0       0      0      0        0       0        0   \n",
       "828       0   0    0      0       0      0      0        0       5        0   \n",
       "829       0   5    0      0       0      0      0        0       0        0   \n",
       "\n",
       "     ...    0    1    2    3    4    5    6    7    8    9  \n",
       "0    ...  0.0  0.0  0.0  0.0  0.0  1.0  0.0  0.0  0.0  0.0  \n",
       "1    ...  0.0  0.0  0.0  0.0  0.0  1.0  0.0  0.0  0.0  0.0  \n",
       "2    ...  0.0  0.0  0.0  0.0  0.0  1.0  0.0  0.0  0.0  0.0  \n",
       "3    ...  0.0  0.0  0.0  0.0  0.0  1.0  0.0  0.0  0.0  0.0  \n",
       "4    ...  0.0  0.0  0.0  0.0  0.0  1.0  0.0  0.0  0.0  0.0  \n",
       "..   ...  ...  ...  ...  ...  ...  ...  ...  ...  ...  ...  \n",
       "825  ...  0.0  0.0  0.0  1.0  0.0  0.0  0.0  0.0  0.0  0.0  \n",
       "826  ...  0.0  0.0  0.0  1.0  0.0  0.0  0.0  0.0  0.0  0.0  \n",
       "827  ...  0.0  0.0  0.0  0.0  0.0  0.0  0.0  0.0  1.0  0.0  \n",
       "828  ...  0.0  0.0  0.0  0.0  0.0  0.0  0.0  1.0  0.0  0.0  \n",
       "829  ...  0.0  0.0  0.0  0.0  0.0  0.0  0.0  1.0  0.0  0.0  \n",
       "\n",
       "[830 rows x 1010 columns]"
      ]
     },
     "execution_count": 41,
     "metadata": {},
     "output_type": "execute_result"
    }
   ],
   "source": [
    "all_features"
   ]
  },
  {
   "cell_type": "markdown",
   "metadata": {},
   "source": [
    "##  Train - Test Splitting"
   ]
  },
  {
   "cell_type": "code",
   "execution_count": 43,
   "metadata": {},
   "outputs": [],
   "source": [
    "from sklearn.model_selection import train_test_split\n",
    "\n",
    "X = all_features\n",
    "y = onehot_encode_genre\n",
    "X_train, X_test, y_train, y_test = train_test_split(X, y, test_size=0.25, random_state = 42)"
   ]
  },
  {
   "cell_type": "markdown",
   "metadata": {},
   "source": [
    "##  Modelling"
   ]
  },
  {
   "cell_type": "markdown",
   "metadata": {},
   "source": [
    "####  Naive Bayes"
   ]
  },
  {
   "cell_type": "code",
   "execution_count": 44,
   "metadata": {},
   "outputs": [
    {
     "name": "stdout",
     "output_type": "stream",
     "text": [
      "accuracy 0.8990384615384616\n",
      "              precision    recall  f1-score   support\n",
      "\n",
      "         0.0       0.93      0.87      0.90       109\n",
      "         1.0       0.87      0.93      0.90        99\n",
      "\n",
      "    accuracy                           0.90       208\n",
      "   macro avg       0.90      0.90      0.90       208\n",
      "weighted avg       0.90      0.90      0.90       208\n",
      "\n"
     ]
    }
   ],
   "source": [
    "from sklearn.naive_bayes import MultinomialNB\n",
    "from sklearn.pipeline import Pipeline\n",
    "from sklearn.metrics import classification_report\n",
    "from sklearn.metrics import accuracy_score\n",
    "\n",
    "\n",
    "nb = Pipeline([\n",
    "               ('clf', MultinomialNB()),\n",
    "              ])\n",
    "nb.fit(X_train, y_train)\n",
    "\n",
    "yp_nb = nb.predict(X_test)\n",
    "\n",
    "print('accuracy %s' % accuracy_score(yp_nb, y_test))\n",
    "print(classification_report(y_test, yp_nb))"
   ]
  },
  {
   "cell_type": "markdown",
   "metadata": {},
   "source": [
    "####  Decision Trees"
   ]
  },
  {
   "cell_type": "code",
   "execution_count": 45,
   "metadata": {},
   "outputs": [
    {
     "name": "stdout",
     "output_type": "stream",
     "text": [
      "accuracy 0.9807692307692307\n",
      "              precision    recall  f1-score   support\n",
      "\n",
      "         0.0       0.98      0.98      0.98       109\n",
      "         1.0       0.98      0.98      0.98        99\n",
      "\n",
      "    accuracy                           0.98       208\n",
      "   macro avg       0.98      0.98      0.98       208\n",
      "weighted avg       0.98      0.98      0.98       208\n",
      "\n"
     ]
    }
   ],
   "source": [
    "from sklearn import tree\n",
    "\n",
    "dtc = tree.DecisionTreeClassifier()\n",
    "dtc = dtc.fit(X_train, y_train)\n",
    "yp_dtc = dtc.predict(X_test)\n",
    "print('accuracy %s' % accuracy_score(yp_dtc, y_test))\n",
    "print(classification_report(y_test, yp_dtc))"
   ]
  },
  {
   "cell_type": "markdown",
   "metadata": {},
   "source": [
    "####  Random Forest"
   ]
  },
  {
   "cell_type": "code",
   "execution_count": 46,
   "metadata": {},
   "outputs": [
    {
     "name": "stdout",
     "output_type": "stream",
     "text": [
      "accuracy 0.9855769230769231\n",
      "              precision    recall  f1-score   support\n",
      "\n",
      "         0.0       0.98      0.99      0.99       109\n",
      "         1.0       0.99      0.98      0.98        99\n",
      "\n",
      "    accuracy                           0.99       208\n",
      "   macro avg       0.99      0.99      0.99       208\n",
      "weighted avg       0.99      0.99      0.99       208\n",
      "\n"
     ]
    }
   ],
   "source": [
    "from sklearn.ensemble import RandomForestClassifier\n",
    "\n",
    "\n",
    "rfc = RandomForestClassifier()\n",
    "rfc.fit(X_train, y_train)\n",
    "\n",
    "yp_rfc = rfc.predict(X_test)\n",
    "print('accuracy %s' % accuracy_score(yp_rfc, y_test))\n",
    "print(classification_report(y_test, yp_rfc))"
   ]
  },
  {
   "cell_type": "markdown",
   "metadata": {},
   "source": [
    "####  GBM"
   ]
  },
  {
   "cell_type": "code",
   "execution_count": 47,
   "metadata": {},
   "outputs": [
    {
     "name": "stdout",
     "output_type": "stream",
     "text": [
      "accuracy 1.0\n",
      "              precision    recall  f1-score   support\n",
      "\n",
      "         0.0       1.00      1.00      1.00       109\n",
      "         1.0       1.00      1.00      1.00        99\n",
      "\n",
      "    accuracy                           1.00       208\n",
      "   macro avg       1.00      1.00      1.00       208\n",
      "weighted avg       1.00      1.00      1.00       208\n",
      "\n"
     ]
    }
   ],
   "source": [
    "from sklearn.ensemble import GradientBoostingClassifier\n",
    "gbm = GradientBoostingClassifier(learning_rate=0.1)\n",
    "gbm.fit(X_train,y_train)\n",
    "yp_gbm = gbm.predict(X_test)\n",
    "print('accuracy %s' % accuracy_score(yp_gbm, y_test))\n",
    "print(classification_report(y_test, yp_gbm))"
   ]
  },
  {
   "cell_type": "markdown",
   "metadata": {},
   "source": [
    "###  Model Evaluation"
   ]
  },
  {
   "cell_type": "markdown",
   "metadata": {},
   "source": [
    "Even though we displayed the F1 Score and the Accuracy Score for the models while tuning it might be healthier to calculate them using the respective methods from the *sklearn.metrics* module. Better readibility in terms of comparison was another reason why we coded this section in addition."
   ]
  },
  {
   "cell_type": "code",
   "execution_count": 48,
   "metadata": {},
   "outputs": [],
   "source": [
    "import sklearn.metrics as metrics"
   ]
  },
  {
   "cell_type": "code",
   "execution_count": 49,
   "metadata": {},
   "outputs": [],
   "source": [
    "fs = []\n",
    "for y_pred in [yp_nb, yp_dtc, yp_rfc, yp_gbm]:\n",
    "    fs.append(metrics.f1_score(y_test, y_pred, average='weighted'))"
   ]
  },
  {
   "cell_type": "code",
   "execution_count": 50,
   "metadata": {},
   "outputs": [
    {
     "name": "stdout",
     "output_type": "stream",
     "text": [
      "F1 Score for Naive Bayes is 0.8990874776593191\n",
      "F1 Score for Decision Trees is 0.9807692307692307\n",
      "F1 Score for Random Forest is 0.9855732456820697\n",
      "F1 Score for Gradient Booster is 1.0\n"
     ]
    }
   ],
   "source": [
    "for f, m in zip(fs, ['Naive Bayes', 'Decision Trees', 'Random Forest', 'Gradient Booster']):\n",
    "    print('F1 Score for', m, 'is', f)"
   ]
  },
  {
   "cell_type": "code",
   "execution_count": 51,
   "metadata": {},
   "outputs": [],
   "source": [
    "acs = []\n",
    "for y_pred in [yp_nb, yp_dtc, yp_rfc, yp_gbm]:\n",
    "    acs.append(metrics.accuracy_score(y_test, y_pred, normalize=True))"
   ]
  },
  {
   "cell_type": "code",
   "execution_count": 52,
   "metadata": {},
   "outputs": [
    {
     "name": "stdout",
     "output_type": "stream",
     "text": [
      "Accuracy Score for Naive Bayes is 0.8990384615384616\n",
      "Accuracy Score for Decision Trees is 0.9807692307692307\n",
      "Accuracy Score for Random Forest is 0.9855769230769231\n",
      "Accuracy Score for Gradient Booster is 1.0\n"
     ]
    }
   ],
   "source": [
    "for a, m in zip(acs, ['Naive Bayes', 'Decision Trees', 'Random Forest', 'Gradient Booster']):\n",
    "    print('Accuracy Score for', m, 'is', a)"
   ]
  },
  {
   "cell_type": "code",
   "execution_count": 53,
   "metadata": {},
   "outputs": [],
   "source": [
    "from sklearn.metrics import ConfusionMatrixDisplay"
   ]
  },
  {
   "cell_type": "markdown",
   "metadata": {},
   "source": [
    "#### Confusion Matrix for Naive Bayes"
   ]
  },
  {
   "cell_type": "code",
   "execution_count": 54,
   "metadata": {},
   "outputs": [
    {
     "data": {
      "text/plain": [
       "<sklearn.metrics._plot.confusion_matrix.ConfusionMatrixDisplay at 0x2cd5c7af700>"
      ]
     },
     "execution_count": 54,
     "metadata": {},
     "output_type": "execute_result"
    },
    {
     "data": {
      "image/png": "[encoded data removed]",
      "text/plain": [
       "<Figure size 432x288 with 2 Axes>"
      ]
     },
     "metadata": {
      "needs_background": "light"
     },
     "output_type": "display_data"
    }
   ],
   "source": [
    "ConfusionMatrixDisplay.from_predictions(y_test, yp_nb)"
   ]
  },
  {
   "cell_type": "markdown",
   "metadata": {},
   "source": [
    "#### Confusion Matrix for Decision Trees"
   ]
  },
  {
   "cell_type": "code",
   "execution_count": 55,
   "metadata": {},
   "outputs": [
    {
     "data": {
      "text/plain": [
       "<sklearn.metrics._plot.confusion_matrix.ConfusionMatrixDisplay at 0x2cd6f909f40>"
      ]
     },
     "execution_count": 55,
     "metadata": {},
     "output_type": "execute_result"
    },
    {
     "data": {
      "image/png": "[encoded data removed]",
      "text/plain": [
       "<Figure size 432x288 with 2 Axes>"
      ]
     },
     "metadata": {
      "needs_background": "light"
     },
     "output_type": "display_data"
    }
   ],
   "source": [
    "ConfusionMatrixDisplay.from_predictions(y_test, yp_dtc)"
   ]
  },
  {
   "cell_type": "markdown",
   "metadata": {},
   "source": [
    "#### Confusion Matrix for Random Forest"
   ]
  },
  {
   "cell_type": "code",
   "execution_count": 56,
   "metadata": {},
   "outputs": [
    {
     "data": {
      "text/plain": [
       "<sklearn.metrics._plot.confusion_matrix.ConfusionMatrixDisplay at 0x2cd6f9272e0>"
      ]
     },
     "execution_count": 56,
     "metadata": {},
     "output_type": "execute_result"
    },
    {
     "data": {
      "image/png": "[encoded data removed]",
      "text/plain": [
       "<Figure size 432x288 with 2 Axes>"
      ]
     },
     "metadata": {
      "needs_background": "light"
     },
     "output_type": "display_data"
    }
   ],
   "source": [
    "ConfusionMatrixDisplay.from_predictions(y_test, yp_rfc)"
   ]
  },
  {
   "cell_type": "markdown",
   "metadata": {},
   "source": [
    "#### Confusion Matrix for Gradient Booster"
   ]
  },
  {
   "cell_type": "code",
   "execution_count": 57,
   "metadata": {},
   "outputs": [
    {
     "data": {
      "text/plain": [
       "<sklearn.metrics._plot.confusion_matrix.ConfusionMatrixDisplay at 0x2cd6cb8d070>"
      ]
     },
     "execution_count": 57,
     "metadata": {},
     "output_type": "execute_result"
    },
    {
     "data": {
      "image/png": "[encoded data removed]",
      "text/plain": [
       "<Figure size 432x288 with 2 Axes>"
      ]
     },
     "metadata": {
      "needs_background": "light"
     },
     "output_type": "display_data"
    }
   ],
   "source": [
    "ConfusionMatrixDisplay.from_predictions(y_test, yp_gbm)"
   ]
  },
  {
   "cell_type": "code",
   "execution_count": 58,
   "metadata": {},
   "outputs": [],
   "source": [
    "from sklearn.metrics import RocCurveDisplay"
   ]
  },
  {
   "cell_type": "code",
   "execution_count": 59,
   "metadata": {},
   "outputs": [
    {
     "data": {
      "text/plain": [
       "<sklearn.metrics._plot.roc_curve.RocCurveDisplay at 0x2cd6acc1f40>"
      ]
     },
     "execution_count": 59,
     "metadata": {},
     "output_type": "execute_result"
    },
    {
     "data": {
      "image/png": "[encoded data removed]",
      "text/plain": [
       "<Figure size 432x288 with 1 Axes>"
      ]
     },
     "metadata": {
      "needs_background": "light"
     },
     "output_type": "display_data"
    }
   ],
   "source": [
    "RocCurveDisplay.from_predictions(y_test, yp_nb)"
   ]
  },
  {
   "cell_type": "code",
   "execution_count": 60,
   "metadata": {},
   "outputs": [
    {
     "data": {
      "text/plain": [
       "<sklearn.metrics._plot.roc_curve.RocCurveDisplay at 0x2cd6bcf9fa0>"
      ]
     },
     "execution_count": 60,
     "metadata": {},
     "output_type": "execute_result"
    },
    {
     "data": {
      "image/png": "[encoded data removed]",
      "text/plain": [
       "<Figure size 432x288 with 1 Axes>"
      ]
     },
     "metadata": {
      "needs_background": "light"
     },
     "output_type": "display_data"
    }
   ],
   "source": [
    "RocCurveDisplay.from_predictions(y_test, yp_dtc)"
   ]
  },
  {
   "cell_type": "code",
   "execution_count": 61,
   "metadata": {},
   "outputs": [
    {
     "data": {
      "text/plain": [
       "<sklearn.metrics._plot.roc_curve.RocCurveDisplay at 0x2cd6acf29d0>"
      ]
     },
     "execution_count": 61,
     "metadata": {},
     "output_type": "execute_result"
    },
    {
     "data": {
      "image/png": "[encoded data removed]",
      "text/plain": [
       "<Figure size 432x288 with 1 Axes>"
      ]
     },
     "metadata": {
      "needs_background": "light"
     },
     "output_type": "display_data"
    }
   ],
   "source": [
    "RocCurveDisplay.from_predictions(y_test, yp_rfc)"
   ]
  },
  {
   "cell_type": "code",
   "execution_count": 62,
   "metadata": {},
   "outputs": [
    {
     "data": {
      "text/plain": [
       "<sklearn.metrics._plot.roc_curve.RocCurveDisplay at 0x2cd6bdd7dc0>"
      ]
     },
     "execution_count": 62,
     "metadata": {},
     "output_type": "execute_result"
    },
    {
     "data": {
      "image/png": "[encoded data removed]",
      "text/plain": [
       "<Figure size 432x288 with 1 Axes>"
      ]
     },
     "metadata": {
      "needs_background": "light"
     },
     "output_type": "display_data"
    }
   ],
   "source": [
    "RocCurveDisplay.from_predictions(y_test, yp_gbm)"
   ]
  },
  {
   "cell_type": "markdown",
   "metadata": {},
   "source": [
    "After looking at the computed statistics:\n",
    "- F-scores\n",
    "- Accuracy scores\n",
    "- Confusion Matrices\n",
    "- ROC Curves and AOC\n",
    "\n",
    "It is safe to assume all our models did a stellar job at classifying our data where Naive Bayes was the worst with an F1-Score of 0.91 which can still be considered really high. Accuracy scores were highly in line with the F-scores so provided no additional insight as to which model is better. \n",
    "\n",
    "As for the confusion matrices Naive Bayes had 12 FP's and 7 FN's out of the test data. Followed by Decision Trees where FP and FN were 3 each. Random Forest performed slightly better where it only had 1 FP and 3 FN. \n",
    "\n",
    "Our Gradient Booster Classifier really took the cake with all correct labels for the test data. F-Score and Acc. Score were both 1 as you could've guessed. It was quite magical to see this model correctly predict the genre for each row."
   ]
  },
  {
   "cell_type": "code",
   "execution_count": null,
   "metadata": {},
   "outputs": [],
   "source": []
  }
 ],
 "metadata": {
  "kernelspec": {
   "display_name": "Python 3 (ipykernel)",
   "language": "python",
   "name": "python3"
  },
  "language_info": {
   "codemirror_mode": {
    "name": "ipython",
    "version": 3
   },
   "file_extension": ".py",
   "mimetype": "text/x-python",
   "name": "python",
   "nbconvert_exporter": "python",
   "pygments_lexer": "ipython3",
   "version": "3.9.12"
  },
  "vscode": {
   "interpreter": {
    "hash": "aee8b7b246df8f9039afb4144a1f6fd8d2ca17a180786b69acc140d282b71a49"
   }
  }
 },
 "nbformat": 4,
 "nbformat_minor": 2
}
