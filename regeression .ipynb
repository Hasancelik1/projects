{
 "cells": [
  {
   "cell_type": "markdown",
   "id": "f53c03e0-c8c7-40bb-a814-c4de469821b7",
   "metadata": {},
   "source": [
    "# Question 1\n",
    "\n",
    "For this question use the World Bank Data for Turkey for the following indicators. Use [wbgapi](https://pypi.org/project/wbgapi/) for getting the data.\n",
    "\n",
    "* [Literacy rate, adult female (SE.ADT.LITR.FE.ZS)](https://data.worldbank.org/indicator/SE.ADT.LITR.FE.ZS)\n",
    "* [Labor force, female (SL.TLF.TOTL.FE.ZS)](https://data.worldbank.org/indicator/SL.TLF.TOTL.FE.ZS)\n",
    "* [Poverty headcount ratio at national poverty lines (SI.POV.NAHC)](https://data.worldbank.org/indicator/SI.POV.NAHC)\n",
    "* [Current health expenditure per capita (SH.XPD.CHEX.PC.CD)](https://data.worldbank.org/indicator/SH.XPD.CHEX.PC.CD)\n",
    "* [GDP per capita (NY.GDP.PCAP.CD)](https://data.worldbank.org/indicator/NY.GDP.PCAP.CD)\n",
    "* [Mortality rate, under-5 (SH.DYN.MORT)](https://data.worldbank.org/indicator/SH.DYN.MORT)\n",
    "\n",
    "\n",
    "Using the [statsmodels](https://www.statsmodels.org/stable/index.html) library write the best linear regression model using child mortality as the dependent variable while the rest are considered as independent variables. Pay particular attention to the fact that the order of the variables put into the model significantly impacts the performance of the model. Choose the best model by considering\n",
    "\n",
    "* with the minimum number of variables and their interactions,\n",
    "* with the optimal ordering of the independent variables and their interactions,\n",
    "* $R^2$-score of the model,\n",
    "* statistical significance of the model coefficients,\n",
    "* ANOVA analysis of the model.\n"
   ]
  },
  {
   "cell_type": "code",
   "execution_count": 140,
   "id": "01bfd781-552b-4005-bc26-f3d3a7008e2e",
   "metadata": {},
   "outputs": [],
   "source": [
    "import pandas as pd\n",
    "import numpy as np\n",
    "import wbgapi as wb\n",
    "import sklearn\n",
    "from statsmodels.formula.api import ols\n",
    "import statsmodels.api as sm\n",
    "\n",
    "\n",
    "import yfinance as yf\n",
    "\n",
    "from sklearn.preprocessing import OneHotEncoder\n",
    "from statsmodels.formula.api import logit\n",
    "from sklearn.model_selection import train_test_split\n",
    "from sklearn.metrics import confusion_matrix\n",
    "from sklearn.linear_model import LogisticRegression"
   ]
  },
  {
   "cell_type": "markdown",
   "id": "5c3d8eef",
   "metadata": {},
   "source": [
    "### Getting data"
   ]
  },
  {
   "cell_type": "code",
   "execution_count": 6,
   "id": "3c9e4e0e",
   "metadata": {},
   "outputs": [],
   "source": [
    "lit_rate = wb.data.DataFrame('SE.ADT.LITR.FE.ZS')\n",
    "labor_force = wb.data.DataFrame('SL.TLF.TOTL.FE.ZS')\n",
    "poverty_headcount_ratio = wb.data.DataFrame('SI.POV.NAHC')\n",
    "healt_expenditure = wb.data.DataFrame('SH.XPD.CHEX.PC.CD')\n",
    "GDP = wb.data.DataFrame('NY.GDP.PCAP.CD')\n",
    "mortality_rate = wb.data.DataFrame('SH.DYN.MORT')"
   ]
  },
  {
   "cell_type": "markdown",
   "id": "5528dfe1",
   "metadata": {},
   "source": [
    "### Editing and merging dataframes\n",
    "When we got the data, the country names were in the indexes, so I got the data with the index name \"TUR\" with iloc. Then I took the transpose of this data and got a dataframe which indexes are years. "
   ]
  },
  {
   "cell_type": "code",
   "execution_count": 178,
   "id": "f8c4bea7",
   "metadata": {},
   "outputs": [],
   "source": [
    "listt = [lit_rate,labor_force,poverty_headcount_ratio,healt_expenditure,GDP,mortality_rate]\n",
    "df = pd.DataFrame()\n",
    "\n",
    "def edit_df(listt) :\n",
    "    global df\n",
    "    for i in listt:\n",
    "        dff = i.iloc[i.index== \"TUR\" ]\n",
    "        dff = dff.T\n",
    "        df = pd.concat([df,dff],axis=1)\n",
    "    return df\n",
    "\n",
    "df = edit_df(listt)\n",
    "df.columns = [\"lr\",\"lf\",\"ph\",\"he\",\"gdp\",\"mr\"] "
   ]
  },
  {
   "cell_type": "code",
   "execution_count": 180,
   "id": "99765974",
   "metadata": {},
   "outputs": [
    {
     "data": {
      "text/html": [
       "<div>\n",
       "<style scoped>\n",
       "    .dataframe tbody tr th:only-of-type {\n",
       "        vertical-align: middle;\n",
       "    }\n",
       "\n",
       "    .dataframe tbody tr th {\n",
       "        vertical-align: top;\n",
       "    }\n",
       "\n",
       "    .dataframe thead th {\n",
       "        text-align: right;\n",
       "    }\n",
       "</style>\n",
       "<table border=\"1\" class=\"dataframe\">\n",
       "  <thead>\n",
       "    <tr style=\"text-align: right;\">\n",
       "      <th></th>\n",
       "      <th>lr</th>\n",
       "      <th>lf</th>\n",
       "      <th>ph</th>\n",
       "      <th>he</th>\n",
       "      <th>gdp</th>\n",
       "      <th>mr</th>\n",
       "    </tr>\n",
       "  </thead>\n",
       "  <tbody>\n",
       "    <tr>\n",
       "      <th>YR1960</th>\n",
       "      <td>NaN</td>\n",
       "      <td>NaN</td>\n",
       "      <td>NaN</td>\n",
       "      <td>NaN</td>\n",
       "      <td>509.005545</td>\n",
       "      <td>257.0</td>\n",
       "    </tr>\n",
       "    <tr>\n",
       "      <th>YR1961</th>\n",
       "      <td>NaN</td>\n",
       "      <td>NaN</td>\n",
       "      <td>NaN</td>\n",
       "      <td>NaN</td>\n",
       "      <td>283.828284</td>\n",
       "      <td>249.3</td>\n",
       "    </tr>\n",
       "    <tr>\n",
       "      <th>YR1962</th>\n",
       "      <td>NaN</td>\n",
       "      <td>NaN</td>\n",
       "      <td>NaN</td>\n",
       "      <td>NaN</td>\n",
       "      <td>309.446624</td>\n",
       "      <td>241.4</td>\n",
       "    </tr>\n",
       "    <tr>\n",
       "      <th>YR1963</th>\n",
       "      <td>NaN</td>\n",
       "      <td>NaN</td>\n",
       "      <td>NaN</td>\n",
       "      <td>NaN</td>\n",
       "      <td>350.662985</td>\n",
       "      <td>233.5</td>\n",
       "    </tr>\n",
       "    <tr>\n",
       "      <th>YR1964</th>\n",
       "      <td>NaN</td>\n",
       "      <td>NaN</td>\n",
       "      <td>NaN</td>\n",
       "      <td>NaN</td>\n",
       "      <td>369.583469</td>\n",
       "      <td>225.7</td>\n",
       "    </tr>\n",
       "    <tr>\n",
       "      <th>YR1965</th>\n",
       "      <td>NaN</td>\n",
       "      <td>NaN</td>\n",
       "      <td>NaN</td>\n",
       "      <td>NaN</td>\n",
       "      <td>386.358061</td>\n",
       "      <td>218.3</td>\n",
       "    </tr>\n",
       "    <tr>\n",
       "      <th>YR1966</th>\n",
       "      <td>NaN</td>\n",
       "      <td>NaN</td>\n",
       "      <td>NaN</td>\n",
       "      <td>NaN</td>\n",
       "      <td>444.549483</td>\n",
       "      <td>211.3</td>\n",
       "    </tr>\n",
       "    <tr>\n",
       "      <th>YR1967</th>\n",
       "      <td>NaN</td>\n",
       "      <td>NaN</td>\n",
       "      <td>NaN</td>\n",
       "      <td>NaN</td>\n",
       "      <td>481.693680</td>\n",
       "      <td>204.9</td>\n",
       "    </tr>\n",
       "    <tr>\n",
       "      <th>YR1968</th>\n",
       "      <td>NaN</td>\n",
       "      <td>NaN</td>\n",
       "      <td>NaN</td>\n",
       "      <td>NaN</td>\n",
       "      <td>526.213475</td>\n",
       "      <td>198.8</td>\n",
       "    </tr>\n",
       "    <tr>\n",
       "      <th>YR1969</th>\n",
       "      <td>NaN</td>\n",
       "      <td>NaN</td>\n",
       "      <td>NaN</td>\n",
       "      <td>NaN</td>\n",
       "      <td>571.617770</td>\n",
       "      <td>192.9</td>\n",
       "    </tr>\n",
       "  </tbody>\n",
       "</table>\n",
       "</div>"
      ],
      "text/plain": [
       "        lr  lf  ph  he         gdp     mr\n",
       "YR1960 NaN NaN NaN NaN  509.005545  257.0\n",
       "YR1961 NaN NaN NaN NaN  283.828284  249.3\n",
       "YR1962 NaN NaN NaN NaN  309.446624  241.4\n",
       "YR1963 NaN NaN NaN NaN  350.662985  233.5\n",
       "YR1964 NaN NaN NaN NaN  369.583469  225.7\n",
       "YR1965 NaN NaN NaN NaN  386.358061  218.3\n",
       "YR1966 NaN NaN NaN NaN  444.549483  211.3\n",
       "YR1967 NaN NaN NaN NaN  481.693680  204.9\n",
       "YR1968 NaN NaN NaN NaN  526.213475  198.8\n",
       "YR1969 NaN NaN NaN NaN  571.617770  192.9"
      ]
     },
     "execution_count": 180,
     "metadata": {},
     "output_type": "execute_result"
    }
   ],
   "source": [
    "df.head(10)"
   ]
  },
  {
   "cell_type": "markdown",
   "id": "113cccee",
   "metadata": {},
   "source": [
    "### Creating a linear model with ols"
   ]
  },
  {
   "cell_type": "code",
   "execution_count": 18,
   "id": "446b7198",
   "metadata": {},
   "outputs": [
    {
     "name": "stderr",
     "output_type": "stream",
     "text": [
      "C:\\Users\\Hasan\\anaconda3\\lib\\site-packages\\scipy\\stats\\stats.py:1541: UserWarning: kurtosistest only valid for n>=20 ... continuing anyway, n=14\n",
      "  warnings.warn(\"kurtosistest only valid for n>=20 ... continuing \"\n"
     ]
    },
    {
     "data": {
      "text/html": [
       "<table class=\"simpletable\">\n",
       "<caption>OLS Regression Results</caption>\n",
       "<tr>\n",
       "  <th>Dep. Variable:</th>           <td>mr</td>        <th>  R-squared:         </th> <td>   0.997</td>\n",
       "</tr>\n",
       "<tr>\n",
       "  <th>Model:</th>                   <td>OLS</td>       <th>  Adj. R-squared:    </th> <td>   0.995</td>\n",
       "</tr>\n",
       "<tr>\n",
       "  <th>Method:</th>             <td>Least Squares</td>  <th>  F-statistic:       </th> <td>   669.1</td>\n",
       "</tr>\n",
       "<tr>\n",
       "  <th>Date:</th>             <td>Mon, 07 Nov 2022</td> <th>  Prob (F-statistic):</th> <td>4.01e-11</td>\n",
       "</tr>\n",
       "<tr>\n",
       "  <th>Time:</th>                 <td>17:00:16</td>     <th>  Log-Likelihood:    </th> <td> -3.9785</td>\n",
       "</tr>\n",
       "<tr>\n",
       "  <th>No. Observations:</th>      <td>    14</td>      <th>  AIC:               </th> <td>   17.96</td>\n",
       "</tr>\n",
       "<tr>\n",
       "  <th>Df Residuals:</th>          <td>     9</td>      <th>  BIC:               </th> <td>   21.15</td>\n",
       "</tr>\n",
       "<tr>\n",
       "  <th>Df Model:</th>              <td>     4</td>      <th>                     </th>     <td> </td>   \n",
       "</tr>\n",
       "<tr>\n",
       "  <th>Covariance Type:</th>      <td>nonrobust</td>    <th>                     </th>     <td> </td>   \n",
       "</tr>\n",
       "</table>\n",
       "<table class=\"simpletable\">\n",
       "<tr>\n",
       "      <td></td>         <th>coef</th>     <th>std err</th>      <th>t</th>      <th>P>|t|</th>  <th>[0.025</th>    <th>0.975]</th>  \n",
       "</tr>\n",
       "<tr>\n",
       "  <th>Intercept</th> <td>   96.1328</td> <td>    2.968</td> <td>   32.393</td> <td> 0.000</td> <td>   89.419</td> <td>  102.846</td>\n",
       "</tr>\n",
       "<tr>\n",
       "  <th>lr:gdp</th>    <td>-2.476e-05</td> <td> 6.33e-06</td> <td>   -3.912</td> <td> 0.004</td> <td>-3.91e-05</td> <td>-1.04e-05</td>\n",
       "</tr>\n",
       "<tr>\n",
       "  <th>he</th>        <td>   -0.0503</td> <td>    0.006</td> <td>   -8.243</td> <td> 0.000</td> <td>   -0.064</td> <td>   -0.036</td>\n",
       "</tr>\n",
       "<tr>\n",
       "  <th>lr:gdp:he</th> <td> 5.142e-08</td> <td> 9.54e-09</td> <td>    5.388</td> <td> 0.000</td> <td> 2.98e-08</td> <td>  7.3e-08</td>\n",
       "</tr>\n",
       "<tr>\n",
       "  <th>lf</th>        <td>   -1.8571</td> <td>    0.138</td> <td>  -13.470</td> <td> 0.000</td> <td>   -2.169</td> <td>   -1.545</td>\n",
       "</tr>\n",
       "</table>\n",
       "<table class=\"simpletable\">\n",
       "<tr>\n",
       "  <th>Omnibus:</th>       <td> 6.020</td> <th>  Durbin-Watson:     </th> <td>   1.942</td>\n",
       "</tr>\n",
       "<tr>\n",
       "  <th>Prob(Omnibus):</th> <td> 0.049</td> <th>  Jarque-Bera (JB):  </th> <td>   2.959</td>\n",
       "</tr>\n",
       "<tr>\n",
       "  <th>Skew:</th>          <td>-1.037</td> <th>  Prob(JB):          </th> <td>   0.228</td>\n",
       "</tr>\n",
       "<tr>\n",
       "  <th>Kurtosis:</th>      <td> 3.878</td> <th>  Cond. No.          </th> <td>1.25e+10</td>\n",
       "</tr>\n",
       "</table><br/><br/>Notes:<br/>[1] Standard Errors assume that the covariance matrix of the errors is correctly specified.<br/>[2] The condition number is large, 1.25e+10. This might indicate that there are<br/>strong multicollinearity or other numerical problems."
      ],
      "text/plain": [
       "<class 'statsmodels.iolib.summary.Summary'>\n",
       "\"\"\"\n",
       "                            OLS Regression Results                            \n",
       "==============================================================================\n",
       "Dep. Variable:                     mr   R-squared:                       0.997\n",
       "Model:                            OLS   Adj. R-squared:                  0.995\n",
       "Method:                 Least Squares   F-statistic:                     669.1\n",
       "Date:                Mon, 07 Nov 2022   Prob (F-statistic):           4.01e-11\n",
       "Time:                        17:00:16   Log-Likelihood:                -3.9785\n",
       "No. Observations:                  14   AIC:                             17.96\n",
       "Df Residuals:                       9   BIC:                             21.15\n",
       "Df Model:                           4                                         \n",
       "Covariance Type:            nonrobust                                         \n",
       "==============================================================================\n",
       "                 coef    std err          t      P>|t|      [0.025      0.975]\n",
       "------------------------------------------------------------------------------\n",
       "Intercept     96.1328      2.968     32.393      0.000      89.419     102.846\n",
       "lr:gdp     -2.476e-05   6.33e-06     -3.912      0.004   -3.91e-05   -1.04e-05\n",
       "he            -0.0503      0.006     -8.243      0.000      -0.064      -0.036\n",
       "lr:gdp:he   5.142e-08   9.54e-09      5.388      0.000    2.98e-08     7.3e-08\n",
       "lf            -1.8571      0.138    -13.470      0.000      -2.169      -1.545\n",
       "==============================================================================\n",
       "Omnibus:                        6.020   Durbin-Watson:                   1.942\n",
       "Prob(Omnibus):                  0.049   Jarque-Bera (JB):                2.959\n",
       "Skew:                          -1.037   Prob(JB):                        0.228\n",
       "Kurtosis:                       3.878   Cond. No.                     1.25e+10\n",
       "==============================================================================\n",
       "\n",
       "Notes:\n",
       "[1] Standard Errors assume that the covariance matrix of the errors is correctly specified.\n",
       "[2] The condition number is large, 1.25e+10. This might indicate that there are\n",
       "strong multicollinearity or other numerical problems.\n",
       "\"\"\""
      ]
     },
     "execution_count": 18,
     "metadata": {},
     "output_type": "execute_result"
    }
   ],
   "source": [
    "model = ols('mr ~ lr:gdp *he +lf', data=df).fit()\n",
    "model.summary()"
   ]
  },
  {
   "cell_type": "markdown",
   "id": "823537ac",
   "metadata": {},
   "source": [
    "### Best model i could find\n",
    "\n",
    "The r squared value of the model is 0.997, which means that the model can explain 99.7 percent of the variance in the target variable.When we examine the confidence intervals of the coefficients, we can see that the values have the same sign.This shows us that the direction of the features we use in the model is clear."
   ]
  },
  {
   "cell_type": "markdown",
   "id": "bc036af0",
   "metadata": {},
   "source": [
    "### Anova analysis\n",
    "When we look at the anova table, we see that all the variables are statistically significant.We can also see here that the most important variable to estimating child mortality is lr:gdp."
   ]
  },
  {
   "cell_type": "code",
   "execution_count": 19,
   "id": "ea0826ea",
   "metadata": {},
   "outputs": [
    {
     "data": {
      "text/html": [
       "<div>\n",
       "<style scoped>\n",
       "    .dataframe tbody tr th:only-of-type {\n",
       "        vertical-align: middle;\n",
       "    }\n",
       "\n",
       "    .dataframe tbody tr th {\n",
       "        vertical-align: top;\n",
       "    }\n",
       "\n",
       "    .dataframe thead th {\n",
       "        text-align: right;\n",
       "    }\n",
       "</style>\n",
       "<table border=\"1\" class=\"dataframe\">\n",
       "  <thead>\n",
       "    <tr style=\"text-align: right;\">\n",
       "      <th></th>\n",
       "      <th>df</th>\n",
       "      <th>sum_sq</th>\n",
       "      <th>mean_sq</th>\n",
       "      <th>F</th>\n",
       "      <th>PR(&gt;F)</th>\n",
       "    </tr>\n",
       "  </thead>\n",
       "  <tbody>\n",
       "    <tr>\n",
       "      <th>lr:gdp</th>\n",
       "      <td>1.0</td>\n",
       "      <td>296.274074</td>\n",
       "      <td>296.274074</td>\n",
       "      <td>1842.661057</td>\n",
       "      <td>1.008578e-11</td>\n",
       "    </tr>\n",
       "    <tr>\n",
       "      <th>he</th>\n",
       "      <td>1.0</td>\n",
       "      <td>47.907603</td>\n",
       "      <td>47.907603</td>\n",
       "      <td>297.958825</td>\n",
       "      <td>3.313495e-08</td>\n",
       "    </tr>\n",
       "    <tr>\n",
       "      <th>lr:gdp:he</th>\n",
       "      <td>1.0</td>\n",
       "      <td>56.956874</td>\n",
       "      <td>56.956874</td>\n",
       "      <td>354.240290</td>\n",
       "      <td>1.550413e-08</td>\n",
       "    </tr>\n",
       "    <tr>\n",
       "      <th>lf</th>\n",
       "      <td>1.0</td>\n",
       "      <td>29.171517</td>\n",
       "      <td>29.171517</td>\n",
       "      <td>181.430720</td>\n",
       "      <td>2.861716e-07</td>\n",
       "    </tr>\n",
       "    <tr>\n",
       "      <th>Residual</th>\n",
       "      <td>9.0</td>\n",
       "      <td>1.447074</td>\n",
       "      <td>0.160786</td>\n",
       "      <td>NaN</td>\n",
       "      <td>NaN</td>\n",
       "    </tr>\n",
       "  </tbody>\n",
       "</table>\n",
       "</div>"
      ],
      "text/plain": [
       "            df      sum_sq     mean_sq            F        PR(>F)\n",
       "lr:gdp     1.0  296.274074  296.274074  1842.661057  1.008578e-11\n",
       "he         1.0   47.907603   47.907603   297.958825  3.313495e-08\n",
       "lr:gdp:he  1.0   56.956874   56.956874   354.240290  1.550413e-08\n",
       "lf         1.0   29.171517   29.171517   181.430720  2.861716e-07\n",
       "Residual   9.0    1.447074    0.160786          NaN           NaN"
      ]
     },
     "execution_count": 19,
     "metadata": {},
     "output_type": "execute_result"
    }
   ],
   "source": [
    "sm.stats.anova_lm(model)"
   ]
  },
  {
   "cell_type": "code",
   "execution_count": null,
   "id": "1d058ae2",
   "metadata": {},
   "outputs": [],
   "source": []
  },
  {
   "cell_type": "markdown",
   "id": "1af3d05f-26e8-4e21-8cc8-5df66f63f49e",
   "metadata": {},
   "source": [
    "# Question 2\n",
    "\n",
    "For this question use Yahoo's Finance API for the following tickers:\n",
    "\n",
    "* Gold futures (GC=F)\n",
    "* Silver futures (SI=F)\n",
    "* Copper futures (HG=F)\n",
    "* Platinum futures (PL=F)\n",
    "\n",
    "1. Write the best linear regression model that explains gold futures closing prices in terms of opening prices of gold, silver, copper, and platinum futures.\n",
    "2. Repeat the same for silver, copper and platinum prices.\n",
    "3. Compare the models you obtained in Steps 1 and 2. Which model is better? How do you decide? Explain."
   ]
  },
  {
   "cell_type": "markdown",
   "id": "fe1caa9e",
   "metadata": {},
   "source": [
    "###  Getting data and collecting it in a single dataframe"
   ]
  },
  {
   "cell_type": "code",
   "execution_count": 182,
   "id": "a3e5876d-f2b7-4a10-957b-a1c7d0fec178",
   "metadata": {
    "collapsed": true
   },
   "outputs": [
    {
     "name": "stdout",
     "output_type": "stream",
     "text": [
      "[*********************100%***********************]  1 of 1 completed\n",
      "[*********************100%***********************]  1 of 1 completed\n",
      "[*********************100%***********************]  1 of 1 completed\n",
      "[*********************100%***********************]  1 of 1 completed\n"
     ]
    }
   ],
   "source": [
    "gl = yf.download('GC=F')\n",
    "sl = yf.download('SI=F')\n",
    "cp = yf.download('HG=F')\n",
    "pl = yf.download('PL=F')\n",
    "\n",
    "\n",
    "dct = {}\n",
    "dct['glc'] = gl['Close']\n",
    "dct['slc'] = sl['Close']\n",
    "dct['cpc'] = cp['Close']\n",
    "dct['plc'] = pl['Close']\n",
    "dct['glo'] = gl['Open']\n",
    "dct['slo'] = sl['Open']\n",
    "dct['cpo'] = cp['Open']\n",
    "dct['plo'] = pl['Open']\n",
    "data = pd.DataFrame(dct).dropna()\n"
   ]
  },
  {
   "cell_type": "markdown",
   "id": "20460c2c",
   "metadata": {},
   "source": [
    "###  Linear regression model that explains gold futures closing prices"
   ]
  },
  {
   "cell_type": "code",
   "execution_count": 284,
   "id": "d62c633e",
   "metadata": {},
   "outputs": [
    {
     "data": {
      "text/html": [
       "<table class=\"simpletable\">\n",
       "<caption>OLS Regression Results</caption>\n",
       "<tr>\n",
       "  <th>Dep. Variable:</th>           <td>glc</td>       <th>  R-squared:         </th> <td>   0.974</td> \n",
       "</tr>\n",
       "<tr>\n",
       "  <th>Model:</th>                   <td>OLS</td>       <th>  Adj. R-squared:    </th> <td>   0.974</td> \n",
       "</tr>\n",
       "<tr>\n",
       "  <th>Method:</th>             <td>Least Squares</td>  <th>  F-statistic:       </th> <td>4.609e+04</td>\n",
       "</tr>\n",
       "<tr>\n",
       "  <th>Date:</th>             <td>Mon, 07 Nov 2022</td> <th>  Prob (F-statistic):</th>  <td>  0.00</td>  \n",
       "</tr>\n",
       "<tr>\n",
       "  <th>Time:</th>                 <td>21:19:00</td>     <th>  Log-Likelihood:    </th> <td> -28397.</td> \n",
       "</tr>\n",
       "<tr>\n",
       "  <th>No. Observations:</th>      <td>  4865</td>      <th>  AIC:               </th> <td>5.680e+04</td>\n",
       "</tr>\n",
       "<tr>\n",
       "  <th>Df Residuals:</th>          <td>  4860</td>      <th>  BIC:               </th> <td>5.684e+04</td>\n",
       "</tr>\n",
       "<tr>\n",
       "  <th>Df Model:</th>              <td>     4</td>      <th>                     </th>     <td> </td>    \n",
       "</tr>\n",
       "<tr>\n",
       "  <th>Covariance Type:</th>      <td>nonrobust</td>    <th>                     </th>     <td> </td>    \n",
       "</tr>\n",
       "</table>\n",
       "<table class=\"simpletable\">\n",
       "<tr>\n",
       "       <td></td>          <th>coef</th>     <th>std err</th>      <th>t</th>      <th>P>|t|</th>  <th>[0.025</th>    <th>0.975]</th>  \n",
       "</tr>\n",
       "<tr>\n",
       "  <th>Intercept</th>   <td>  230.9472</td> <td>    4.376</td> <td>   52.771</td> <td> 0.000</td> <td>  222.367</td> <td>  239.527</td>\n",
       "</tr>\n",
       "<tr>\n",
       "  <th>glo:cpo</th>     <td>    0.2482</td> <td>    0.001</td> <td>  167.890</td> <td> 0.000</td> <td>    0.245</td> <td>    0.251</td>\n",
       "</tr>\n",
       "<tr>\n",
       "  <th>slo</th>         <td>   67.1540</td> <td>    0.580</td> <td>  115.855</td> <td> 0.000</td> <td>   66.018</td> <td>   68.290</td>\n",
       "</tr>\n",
       "<tr>\n",
       "  <th>glo:cpo:slo</th> <td>   -0.0076</td> <td> 6.56e-05</td> <td> -115.869</td> <td> 0.000</td> <td>   -0.008</td> <td>   -0.007</td>\n",
       "</tr>\n",
       "<tr>\n",
       "  <th>plo</th>         <td>   -0.4831</td> <td>    0.006</td> <td>  -84.940</td> <td> 0.000</td> <td>   -0.494</td> <td>   -0.472</td>\n",
       "</tr>\n",
       "</table>\n",
       "<table class=\"simpletable\">\n",
       "<tr>\n",
       "  <th>Omnibus:</th>       <td>170.414</td> <th>  Durbin-Watson:     </th> <td>   0.056</td> \n",
       "</tr>\n",
       "<tr>\n",
       "  <th>Prob(Omnibus):</th> <td> 0.000</td>  <th>  Jarque-Bera (JB):  </th> <td> 459.175</td> \n",
       "</tr>\n",
       "<tr>\n",
       "  <th>Skew:</th>          <td> 0.105</td>  <th>  Prob(JB):          </th> <td>1.96e-100</td>\n",
       "</tr>\n",
       "<tr>\n",
       "  <th>Kurtosis:</th>      <td> 4.490</td>  <th>  Cond. No.          </th> <td>3.84e+05</td> \n",
       "</tr>\n",
       "</table><br/><br/>Notes:<br/>[1] Standard Errors assume that the covariance matrix of the errors is correctly specified.<br/>[2] The condition number is large, 3.84e+05. This might indicate that there are<br/>strong multicollinearity or other numerical problems."
      ],
      "text/plain": [
       "<class 'statsmodels.iolib.summary.Summary'>\n",
       "\"\"\"\n",
       "                            OLS Regression Results                            \n",
       "==============================================================================\n",
       "Dep. Variable:                    glc   R-squared:                       0.974\n",
       "Model:                            OLS   Adj. R-squared:                  0.974\n",
       "Method:                 Least Squares   F-statistic:                 4.609e+04\n",
       "Date:                Mon, 07 Nov 2022   Prob (F-statistic):               0.00\n",
       "Time:                        21:19:00   Log-Likelihood:                -28397.\n",
       "No. Observations:                4865   AIC:                         5.680e+04\n",
       "Df Residuals:                    4860   BIC:                         5.684e+04\n",
       "Df Model:                           4                                         \n",
       "Covariance Type:            nonrobust                                         \n",
       "===============================================================================\n",
       "                  coef    std err          t      P>|t|      [0.025      0.975]\n",
       "-------------------------------------------------------------------------------\n",
       "Intercept     230.9472      4.376     52.771      0.000     222.367     239.527\n",
       "glo:cpo         0.2482      0.001    167.890      0.000       0.245       0.251\n",
       "slo            67.1540      0.580    115.855      0.000      66.018      68.290\n",
       "glo:cpo:slo    -0.0076   6.56e-05   -115.869      0.000      -0.008      -0.007\n",
       "plo            -0.4831      0.006    -84.940      0.000      -0.494      -0.472\n",
       "==============================================================================\n",
       "Omnibus:                      170.414   Durbin-Watson:                   0.056\n",
       "Prob(Omnibus):                  0.000   Jarque-Bera (JB):              459.175\n",
       "Skew:                           0.105   Prob(JB):                    1.96e-100\n",
       "Kurtosis:                       4.490   Cond. No.                     3.84e+05\n",
       "==============================================================================\n",
       "\n",
       "Notes:\n",
       "[1] Standard Errors assume that the covariance matrix of the errors is correctly specified.\n",
       "[2] The condition number is large, 3.84e+05. This might indicate that there are\n",
       "strong multicollinearity or other numerical problems.\n",
       "\"\"\""
      ]
     },
     "execution_count": 284,
     "metadata": {},
     "output_type": "execute_result"
    }
   ],
   "source": [
    "model = ols('glc ~  glo:cpo*slo + plo ', data=data).fit()\n",
    "model.summary()"
   ]
  },
  {
   "cell_type": "code",
   "execution_count": null,
   "id": "a5366587",
   "metadata": {},
   "outputs": [],
   "source": []
  },
  {
   "cell_type": "markdown",
   "id": "804025ee",
   "metadata": {},
   "source": [
    "###  for silver"
   ]
  },
  {
   "cell_type": "code",
   "execution_count": 189,
   "id": "f4081c76",
   "metadata": {},
   "outputs": [
    {
     "data": {
      "text/html": [
       "<table class=\"simpletable\">\n",
       "<caption>OLS Regression Results</caption>\n",
       "<tr>\n",
       "  <th>Dep. Variable:</th>           <td>slc</td>       <th>  R-squared:         </th> <td>   0.999</td> \n",
       "</tr>\n",
       "<tr>\n",
       "  <th>Model:</th>                   <td>OLS</td>       <th>  Adj. R-squared:    </th> <td>   0.999</td> \n",
       "</tr>\n",
       "<tr>\n",
       "  <th>Method:</th>             <td>Least Squares</td>  <th>  F-statistic:       </th> <td>1.817e+06</td>\n",
       "</tr>\n",
       "<tr>\n",
       "  <th>Date:</th>             <td>Mon, 07 Nov 2022</td> <th>  Prob (F-statistic):</th>  <td>  0.00</td>  \n",
       "</tr>\n",
       "<tr>\n",
       "  <th>Time:</th>                 <td>20:39:24</td>     <th>  Log-Likelihood:    </th> <td> -1304.5</td> \n",
       "</tr>\n",
       "<tr>\n",
       "  <th>No. Observations:</th>      <td>  4865</td>      <th>  AIC:               </th> <td>   2615.</td> \n",
       "</tr>\n",
       "<tr>\n",
       "  <th>Df Residuals:</th>          <td>  4862</td>      <th>  BIC:               </th> <td>   2635.</td> \n",
       "</tr>\n",
       "<tr>\n",
       "  <th>Df Model:</th>              <td>     2</td>      <th>                     </th>     <td> </td>    \n",
       "</tr>\n",
       "<tr>\n",
       "  <th>Covariance Type:</th>      <td>nonrobust</td>    <th>                     </th>     <td> </td>    \n",
       "</tr>\n",
       "</table>\n",
       "<table class=\"simpletable\">\n",
       "<tr>\n",
       "      <td></td>         <th>coef</th>     <th>std err</th>      <th>t</th>      <th>P>|t|</th>  <th>[0.025</th>    <th>0.975]</th>  \n",
       "</tr>\n",
       "<tr>\n",
       "  <th>Intercept</th> <td>    0.0398</td> <td>    0.011</td> <td>    3.681</td> <td> 0.000</td> <td>    0.019</td> <td>    0.061</td>\n",
       "</tr>\n",
       "<tr>\n",
       "  <th>glo:plo</th>   <td> 1.135e-07</td> <td> 2.45e-08</td> <td>    4.627</td> <td> 0.000</td> <td> 6.54e-08</td> <td> 1.62e-07</td>\n",
       "</tr>\n",
       "<tr>\n",
       "  <th>slo</th>       <td>    0.9884</td> <td>    0.002</td> <td>  445.520</td> <td> 0.000</td> <td>    0.984</td> <td>    0.993</td>\n",
       "</tr>\n",
       "</table>\n",
       "<table class=\"simpletable\">\n",
       "<tr>\n",
       "  <th>Omnibus:</th>       <td>3600.248</td> <th>  Durbin-Watson:     </th>  <td>   1.991</td> \n",
       "</tr>\n",
       "<tr>\n",
       "  <th>Prob(Omnibus):</th>  <td> 0.000</td>  <th>  Jarque-Bera (JB):  </th> <td>459338.826</td>\n",
       "</tr>\n",
       "<tr>\n",
       "  <th>Skew:</th>           <td>-2.711</td>  <th>  Prob(JB):          </th>  <td>    0.00</td> \n",
       "</tr>\n",
       "<tr>\n",
       "  <th>Kurtosis:</th>       <td>50.293</td>  <th>  Cond. No.          </th>  <td>3.65e+06</td> \n",
       "</tr>\n",
       "</table><br/><br/>Notes:<br/>[1] Standard Errors assume that the covariance matrix of the errors is correctly specified.<br/>[2] The condition number is large, 3.65e+06. This might indicate that there are<br/>strong multicollinearity or other numerical problems."
      ],
      "text/plain": [
       "<class 'statsmodels.iolib.summary.Summary'>\n",
       "\"\"\"\n",
       "                            OLS Regression Results                            \n",
       "==============================================================================\n",
       "Dep. Variable:                    slc   R-squared:                       0.999\n",
       "Model:                            OLS   Adj. R-squared:                  0.999\n",
       "Method:                 Least Squares   F-statistic:                 1.817e+06\n",
       "Date:                Mon, 07 Nov 2022   Prob (F-statistic):               0.00\n",
       "Time:                        20:39:24   Log-Likelihood:                -1304.5\n",
       "No. Observations:                4865   AIC:                             2615.\n",
       "Df Residuals:                    4862   BIC:                             2635.\n",
       "Df Model:                           2                                         \n",
       "Covariance Type:            nonrobust                                         \n",
       "==============================================================================\n",
       "                 coef    std err          t      P>|t|      [0.025      0.975]\n",
       "------------------------------------------------------------------------------\n",
       "Intercept      0.0398      0.011      3.681      0.000       0.019       0.061\n",
       "glo:plo     1.135e-07   2.45e-08      4.627      0.000    6.54e-08    1.62e-07\n",
       "slo            0.9884      0.002    445.520      0.000       0.984       0.993\n",
       "==============================================================================\n",
       "Omnibus:                     3600.248   Durbin-Watson:                   1.991\n",
       "Prob(Omnibus):                  0.000   Jarque-Bera (JB):           459338.826\n",
       "Skew:                          -2.711   Prob(JB):                         0.00\n",
       "Kurtosis:                      50.293   Cond. No.                     3.65e+06\n",
       "==============================================================================\n",
       "\n",
       "Notes:\n",
       "[1] Standard Errors assume that the covariance matrix of the errors is correctly specified.\n",
       "[2] The condition number is large, 3.65e+06. This might indicate that there are\n",
       "strong multicollinearity or other numerical problems.\n",
       "\"\"\""
      ]
     },
     "execution_count": 189,
     "metadata": {},
     "output_type": "execute_result"
    }
   ],
   "source": [
    "model = ols('slc ~  glo:plo + slo ', data=data).fit()\n",
    "model.summary()"
   ]
  },
  {
   "cell_type": "markdown",
   "id": "c3ddf1ed",
   "metadata": {},
   "source": [
    "### for copper"
   ]
  },
  {
   "cell_type": "code",
   "execution_count": 272,
   "id": "86f55011",
   "metadata": {},
   "outputs": [
    {
     "data": {
      "text/html": [
       "<table class=\"simpletable\">\n",
       "<caption>OLS Regression Results</caption>\n",
       "<tr>\n",
       "  <th>Dep. Variable:</th>           <td>cpc</td>       <th>  R-squared:         </th>  <td>   0.999</td> \n",
       "</tr>\n",
       "<tr>\n",
       "  <th>Model:</th>                   <td>OLS</td>       <th>  Adj. R-squared:    </th>  <td>   0.999</td> \n",
       "</tr>\n",
       "<tr>\n",
       "  <th>Method:</th>             <td>Least Squares</td>  <th>  F-statistic:       </th>  <td>1.376e+06</td>\n",
       "</tr>\n",
       "<tr>\n",
       "  <th>Date:</th>             <td>Mon, 07 Nov 2022</td> <th>  Prob (F-statistic):</th>   <td>  0.00</td>  \n",
       "</tr>\n",
       "<tr>\n",
       "  <th>Time:</th>                 <td>21:13:00</td>     <th>  Log-Likelihood:    </th>  <td>  8986.4</td> \n",
       "</tr>\n",
       "<tr>\n",
       "  <th>No. Observations:</th>      <td>  4865</td>      <th>  AIC:               </th> <td>-1.796e+04</td>\n",
       "</tr>\n",
       "<tr>\n",
       "  <th>Df Residuals:</th>          <td>  4861</td>      <th>  BIC:               </th> <td>-1.794e+04</td>\n",
       "</tr>\n",
       "<tr>\n",
       "  <th>Df Model:</th>              <td>     3</td>      <th>                     </th>      <td> </td>    \n",
       "</tr>\n",
       "<tr>\n",
       "  <th>Covariance Type:</th>      <td>nonrobust</td>    <th>                     </th>      <td> </td>    \n",
       "</tr>\n",
       "</table>\n",
       "<table class=\"simpletable\">\n",
       "<tr>\n",
       "      <td></td>         <th>coef</th>     <th>std err</th>      <th>t</th>      <th>P>|t|</th>  <th>[0.025</th>    <th>0.975]</th>  \n",
       "</tr>\n",
       "<tr>\n",
       "  <th>Intercept</th> <td>   -0.0100</td> <td>    0.005</td> <td>   -2.188</td> <td> 0.029</td> <td>   -0.019</td> <td>   -0.001</td>\n",
       "</tr>\n",
       "<tr>\n",
       "  <th>cpo</th>       <td>    1.0023</td> <td>    0.001</td> <td>  683.535</td> <td> 0.000</td> <td>    0.999</td> <td>    1.005</td>\n",
       "</tr>\n",
       "<tr>\n",
       "  <th>plo</th>       <td> 1.765e-05</td> <td> 6.12e-06</td> <td>    2.887</td> <td> 0.004</td> <td> 5.66e-06</td> <td> 2.96e-05</td>\n",
       "</tr>\n",
       "<tr>\n",
       "  <th>cpo:plo</th>   <td>-4.455e-06</td> <td> 1.67e-06</td> <td>   -2.674</td> <td> 0.008</td> <td>-7.72e-06</td> <td>-1.19e-06</td>\n",
       "</tr>\n",
       "</table>\n",
       "<table class=\"simpletable\">\n",
       "<tr>\n",
       "  <th>Omnibus:</th>       <td>892.233</td> <th>  Durbin-Watson:     </th> <td>   2.142</td> \n",
       "</tr>\n",
       "<tr>\n",
       "  <th>Prob(Omnibus):</th> <td> 0.000</td>  <th>  Jarque-Bera (JB):  </th> <td>17258.548</td>\n",
       "</tr>\n",
       "<tr>\n",
       "  <th>Skew:</th>          <td> 0.312</td>  <th>  Prob(JB):          </th> <td>    0.00</td> \n",
       "</tr>\n",
       "<tr>\n",
       "  <th>Kurtosis:</th>      <td>12.206</td>  <th>  Cond. No.          </th> <td>3.38e+04</td> \n",
       "</tr>\n",
       "</table><br/><br/>Notes:<br/>[1] Standard Errors assume that the covariance matrix of the errors is correctly specified.<br/>[2] The condition number is large, 3.38e+04. This might indicate that there are<br/>strong multicollinearity or other numerical problems."
      ],
      "text/plain": [
       "<class 'statsmodels.iolib.summary.Summary'>\n",
       "\"\"\"\n",
       "                            OLS Regression Results                            \n",
       "==============================================================================\n",
       "Dep. Variable:                    cpc   R-squared:                       0.999\n",
       "Model:                            OLS   Adj. R-squared:                  0.999\n",
       "Method:                 Least Squares   F-statistic:                 1.376e+06\n",
       "Date:                Mon, 07 Nov 2022   Prob (F-statistic):               0.00\n",
       "Time:                        21:13:00   Log-Likelihood:                 8986.4\n",
       "No. Observations:                4865   AIC:                        -1.796e+04\n",
       "Df Residuals:                    4861   BIC:                        -1.794e+04\n",
       "Df Model:                           3                                         \n",
       "Covariance Type:            nonrobust                                         \n",
       "==============================================================================\n",
       "                 coef    std err          t      P>|t|      [0.025      0.975]\n",
       "------------------------------------------------------------------------------\n",
       "Intercept     -0.0100      0.005     -2.188      0.029      -0.019      -0.001\n",
       "cpo            1.0023      0.001    683.535      0.000       0.999       1.005\n",
       "plo         1.765e-05   6.12e-06      2.887      0.004    5.66e-06    2.96e-05\n",
       "cpo:plo    -4.455e-06   1.67e-06     -2.674      0.008   -7.72e-06   -1.19e-06\n",
       "==============================================================================\n",
       "Omnibus:                      892.233   Durbin-Watson:                   2.142\n",
       "Prob(Omnibus):                  0.000   Jarque-Bera (JB):            17258.548\n",
       "Skew:                           0.312   Prob(JB):                         0.00\n",
       "Kurtosis:                      12.206   Cond. No.                     3.38e+04\n",
       "==============================================================================\n",
       "\n",
       "Notes:\n",
       "[1] Standard Errors assume that the covariance matrix of the errors is correctly specified.\n",
       "[2] The condition number is large, 3.38e+04. This might indicate that there are\n",
       "strong multicollinearity or other numerical problems.\n",
       "\"\"\""
      ]
     },
     "execution_count": 272,
     "metadata": {},
     "output_type": "execute_result"
    }
   ],
   "source": [
    "model = ols('cpc ~   cpo *plo+ cpo', data=data).fit()\n",
    "model.summary()"
   ]
  },
  {
   "cell_type": "markdown",
   "id": "cf522404",
   "metadata": {},
   "source": [
    "###  for paltinum"
   ]
  },
  {
   "cell_type": "code",
   "execution_count": 274,
   "id": "7865c5ab",
   "metadata": {
    "scrolled": false
   },
   "outputs": [
    {
     "data": {
      "text/html": [
       "<table class=\"simpletable\">\n",
       "<caption>OLS Regression Results</caption>\n",
       "<tr>\n",
       "  <th>Dep. Variable:</th>           <td>plc</td>       <th>  R-squared:         </th> <td>   0.999</td> \n",
       "</tr>\n",
       "<tr>\n",
       "  <th>Model:</th>                   <td>OLS</td>       <th>  Adj. R-squared:    </th> <td>   0.999</td> \n",
       "</tr>\n",
       "<tr>\n",
       "  <th>Method:</th>             <td>Least Squares</td>  <th>  F-statistic:       </th> <td>2.777e+06</td>\n",
       "</tr>\n",
       "<tr>\n",
       "  <th>Date:</th>             <td>Mon, 07 Nov 2022</td> <th>  Prob (F-statistic):</th>  <td>  0.00</td>  \n",
       "</tr>\n",
       "<tr>\n",
       "  <th>Time:</th>                 <td>21:13:14</td>     <th>  Log-Likelihood:    </th> <td> -17506.</td> \n",
       "</tr>\n",
       "<tr>\n",
       "  <th>No. Observations:</th>      <td>  4865</td>      <th>  AIC:               </th> <td>3.502e+04</td>\n",
       "</tr>\n",
       "<tr>\n",
       "  <th>Df Residuals:</th>          <td>  4861</td>      <th>  BIC:               </th> <td>3.505e+04</td>\n",
       "</tr>\n",
       "<tr>\n",
       "  <th>Df Model:</th>              <td>     3</td>      <th>                     </th>     <td> </td>    \n",
       "</tr>\n",
       "<tr>\n",
       "  <th>Covariance Type:</th>      <td>nonrobust</td>    <th>                     </th>     <td> </td>    \n",
       "</tr>\n",
       "</table>\n",
       "<table class=\"simpletable\">\n",
       "<tr>\n",
       "      <td></td>         <th>coef</th>     <th>std err</th>      <th>t</th>      <th>P>|t|</th>  <th>[0.025</th>    <th>0.975]</th>  \n",
       "</tr>\n",
       "<tr>\n",
       "  <th>Intercept</th> <td>   -1.2291</td> <td>    0.563</td> <td>   -2.181</td> <td> 0.029</td> <td>   -2.334</td> <td>   -0.124</td>\n",
       "</tr>\n",
       "<tr>\n",
       "  <th>slo</th>       <td>    0.2277</td> <td>    0.068</td> <td>    3.354</td> <td> 0.001</td> <td>    0.095</td> <td>    0.361</td>\n",
       "</tr>\n",
       "<tr>\n",
       "  <th>plo:glo</th>   <td>-3.329e-06</td> <td>  8.9e-07</td> <td>   -3.738</td> <td> 0.000</td> <td>-5.07e-06</td> <td>-1.58e-06</td>\n",
       "</tr>\n",
       "<tr>\n",
       "  <th>plo</th>       <td>    1.0019</td> <td>    0.001</td> <td> 1444.050</td> <td> 0.000</td> <td>    1.001</td> <td>    1.003</td>\n",
       "</tr>\n",
       "</table>\n",
       "<table class=\"simpletable\">\n",
       "<tr>\n",
       "  <th>Omnibus:</th>       <td>2694.915</td> <th>  Durbin-Watson:     </th>  <td>   1.918</td> \n",
       "</tr>\n",
       "<tr>\n",
       "  <th>Prob(Omnibus):</th>  <td> 0.000</td>  <th>  Jarque-Bera (JB):  </th> <td>423555.696</td>\n",
       "</tr>\n",
       "<tr>\n",
       "  <th>Skew:</th>           <td>-1.601</td>  <th>  Prob(JB):          </th>  <td>    0.00</td> \n",
       "</tr>\n",
       "<tr>\n",
       "  <th>Kurtosis:</th>       <td>48.599</td>  <th>  Cond. No.          </th>  <td>6.78e+06</td> \n",
       "</tr>\n",
       "</table><br/><br/>Notes:<br/>[1] Standard Errors assume that the covariance matrix of the errors is correctly specified.<br/>[2] The condition number is large, 6.78e+06. This might indicate that there are<br/>strong multicollinearity or other numerical problems."
      ],
      "text/plain": [
       "<class 'statsmodels.iolib.summary.Summary'>\n",
       "\"\"\"\n",
       "                            OLS Regression Results                            \n",
       "==============================================================================\n",
       "Dep. Variable:                    plc   R-squared:                       0.999\n",
       "Model:                            OLS   Adj. R-squared:                  0.999\n",
       "Method:                 Least Squares   F-statistic:                 2.777e+06\n",
       "Date:                Mon, 07 Nov 2022   Prob (F-statistic):               0.00\n",
       "Time:                        21:13:14   Log-Likelihood:                -17506.\n",
       "No. Observations:                4865   AIC:                         3.502e+04\n",
       "Df Residuals:                    4861   BIC:                         3.505e+04\n",
       "Df Model:                           3                                         \n",
       "Covariance Type:            nonrobust                                         \n",
       "==============================================================================\n",
       "                 coef    std err          t      P>|t|      [0.025      0.975]\n",
       "------------------------------------------------------------------------------\n",
       "Intercept     -1.2291      0.563     -2.181      0.029      -2.334      -0.124\n",
       "slo            0.2277      0.068      3.354      0.001       0.095       0.361\n",
       "plo:glo    -3.329e-06    8.9e-07     -3.738      0.000   -5.07e-06   -1.58e-06\n",
       "plo            1.0019      0.001   1444.050      0.000       1.001       1.003\n",
       "==============================================================================\n",
       "Omnibus:                     2694.915   Durbin-Watson:                   1.918\n",
       "Prob(Omnibus):                  0.000   Jarque-Bera (JB):           423555.696\n",
       "Skew:                          -1.601   Prob(JB):                         0.00\n",
       "Kurtosis:                      48.599   Cond. No.                     6.78e+06\n",
       "==============================================================================\n",
       "\n",
       "Notes:\n",
       "[1] Standard Errors assume that the covariance matrix of the errors is correctly specified.\n",
       "[2] The condition number is large, 6.78e+06. This might indicate that there are\n",
       "strong multicollinearity or other numerical problems.\n",
       "\"\"\""
      ]
     },
     "execution_count": 274,
     "metadata": {},
     "output_type": "execute_result"
    }
   ],
   "source": [
    "model = ols('plc ~  slo+ plo:glo+ plo', data=data).fit()\n",
    "model.summary()"
   ]
  },
  {
   "cell_type": "markdown",
   "id": "624ad255",
   "metadata": {},
   "source": [
    "## Model comparison\n",
    "The coefficients of all the models I have created can be explained . The highest R-squared value I found while trying to create meaningful models to predict the gold closing price was 0.974. I got 0.99 R-squared while predicting silver copper and platinum prices.Since all variables of the model that predicts the silver price have a p-value close to 0, I thought the best model was for silver."
   ]
  },
  {
   "cell_type": "code",
   "execution_count": null,
   "id": "ade3a6db",
   "metadata": {},
   "outputs": [],
   "source": []
  },
  {
   "cell_type": "markdown",
   "id": "e6784ded-5ebb-492d-a244-62c7d42ec457",
   "metadata": {},
   "source": [
    "# Question 3\n",
    "\n",
    "1. Write a function that takes a ticker symbol and returns a pandas dataframe that for each day puts a 1 when the closing price is higher than the opening price, a 0 when the closing price is lower than the opening price.\n",
    "2. Write the best logistic regression that predicts the time series you obtain from Step 1 for gold futures against the opening prices of gold, silver, copper, and platinum prices.\n",
    "3. Repeat the same for silver, copper, and platinum prices.\n",
    "4. Compare the models you obtained from Steps 2 and 3. Decide which is the best model, and explain your reasoning.\n",
    "5. Does any of the models provide a good fit? Explain."
   ]
  },
  {
   "cell_type": "markdown",
   "id": "a0abc057",
   "metadata": {},
   "source": [
    "### Creating function\n"
   ]
  },
  {
   "cell_type": "code",
   "execution_count": 28,
   "id": "e67d2161-b332-47d0-8f16-b829520d55bd",
   "metadata": {},
   "outputs": [],
   "source": [
    "def profit(ticker):\n",
    "    dt = yf.download(ticker)\n",
    "    dt[\"ret\"] = np.where(dt.Open < dt.Close, 1, 0)\n",
    "    return dt[\"ret\"]"
   ]
  },
  {
   "cell_type": "markdown",
   "id": "0ef562ba",
   "metadata": {},
   "source": [
    "### Getting data from yfinance\n",
    "\n",
    "In here, I have collected the data we use to estimate profit and loss in X dataframe."
   ]
  },
  {
   "cell_type": "code",
   "execution_count": 286,
   "id": "652ee4bc",
   "metadata": {},
   "outputs": [
    {
     "name": "stdout",
     "output_type": "stream",
     "text": [
      "[*********************100%***********************]  1 of 1 completed\n",
      "[*********************100%***********************]  1 of 1 completed\n",
      "[*********************100%***********************]  1 of 1 completed\n",
      "[*********************100%***********************]  1 of 1 completed\n"
     ]
    }
   ],
   "source": [
    "dt = {}\n",
    "\n",
    "gl = yf.download('GC=F')\n",
    "sl = yf.download('SI=F')\n",
    "cp = yf.download('HG=F')\n",
    "pl = yf.download('PL=F')\n",
    "\n",
    "\n",
    "dt[\"glo\"] = gl[\"Open\"]\n",
    "dt['slo'] = sl['Open']\n",
    "dt['cpo'] = cp['Open']\n",
    "dt['plo'] = pl['Open']\n",
    "\n",
    "X = pd.DataFrame(dt).dropna()"
   ]
  },
  {
   "cell_type": "markdown",
   "id": "bccfa5a3",
   "metadata": {},
   "source": [
    " ## logistic regression that predicts the return of gold\n",
    " \n",
    "I assigned profit and loss to y as the dependent variable and concatanated y with the X dataframe I created before . Then I created the model."
   ]
  },
  {
   "cell_type": "code",
   "execution_count": 328,
   "id": "fcb3d121",
   "metadata": {},
   "outputs": [
    {
     "name": "stdout",
     "output_type": "stream",
     "text": [
      "[*********************100%***********************]  1 of 1 completed\n",
      "Optimization terminated successfully.\n",
      "         Current function value: 0.669845\n",
      "         Iterations 5\n"
     ]
    },
    {
     "data": {
      "text/html": [
       "<table class=\"simpletable\">\n",
       "<caption>Logit Regression Results</caption>\n",
       "<tr>\n",
       "  <th>Dep. Variable:</th>          <td>ret</td>       <th>  No. Observations:  </th>  <td>  4865</td>  \n",
       "</tr>\n",
       "<tr>\n",
       "  <th>Model:</th>                 <td>Logit</td>      <th>  Df Residuals:      </th>  <td>  4859</td>  \n",
       "</tr>\n",
       "<tr>\n",
       "  <th>Method:</th>                 <td>MLE</td>       <th>  Df Model:          </th>  <td>     5</td>  \n",
       "</tr>\n",
       "<tr>\n",
       "  <th>Date:</th>            <td>Mon, 07 Nov 2022</td> <th>  Pseudo R-squ.:     </th>  <td>0.01782</td> \n",
       "</tr>\n",
       "<tr>\n",
       "  <th>Time:</th>                <td>23:06:09</td>     <th>  Log-Likelihood:    </th> <td> -3258.8</td> \n",
       "</tr>\n",
       "<tr>\n",
       "  <th>converged:</th>             <td>True</td>       <th>  LL-Null:           </th> <td> -3317.9</td> \n",
       "</tr>\n",
       "<tr>\n",
       "  <th>Covariance Type:</th>     <td>nonrobust</td>    <th>  LLR p-value:       </th> <td>7.251e-24</td>\n",
       "</tr>\n",
       "</table>\n",
       "<table class=\"simpletable\">\n",
       "<tr>\n",
       "      <td></td>         <th>coef</th>     <th>std err</th>      <th>z</th>      <th>P>|z|</th>  <th>[0.025</th>    <th>0.975]</th>  \n",
       "</tr>\n",
       "<tr>\n",
       "  <th>Intercept</th> <td>   -2.1426</td> <td>    0.266</td> <td>   -8.062</td> <td> 0.000</td> <td>   -2.663</td> <td>   -1.622</td>\n",
       "</tr>\n",
       "<tr>\n",
       "  <th>glo</th>       <td>    0.0013</td> <td>    0.000</td> <td>    5.032</td> <td> 0.000</td> <td>    0.001</td> <td>    0.002</td>\n",
       "</tr>\n",
       "<tr>\n",
       "  <th>plo</th>       <td>    0.0015</td> <td>    0.000</td> <td>    4.522</td> <td> 0.000</td> <td>    0.001</td> <td>    0.002</td>\n",
       "</tr>\n",
       "<tr>\n",
       "  <th>glo:plo</th>   <td> -1.97e-06</td> <td> 3.24e-07</td> <td>   -6.089</td> <td> 0.000</td> <td> -2.6e-06</td> <td>-1.34e-06</td>\n",
       "</tr>\n",
       "<tr>\n",
       "  <th>slo</th>       <td>    0.1071</td> <td>    0.017</td> <td>    6.298</td> <td> 0.000</td> <td>    0.074</td> <td>    0.140</td>\n",
       "</tr>\n",
       "<tr>\n",
       "  <th>cpo</th>       <td>   -0.1732</td> <td>    0.072</td> <td>   -2.391</td> <td> 0.017</td> <td>   -0.315</td> <td>   -0.031</td>\n",
       "</tr>\n",
       "</table>"
      ],
      "text/plain": [
       "<class 'statsmodels.iolib.summary.Summary'>\n",
       "\"\"\"\n",
       "                           Logit Regression Results                           \n",
       "==============================================================================\n",
       "Dep. Variable:                    ret   No. Observations:                 4865\n",
       "Model:                          Logit   Df Residuals:                     4859\n",
       "Method:                           MLE   Df Model:                            5\n",
       "Date:                Mon, 07 Nov 2022   Pseudo R-squ.:                 0.01782\n",
       "Time:                        23:06:09   Log-Likelihood:                -3258.8\n",
       "converged:                       True   LL-Null:                       -3317.9\n",
       "Covariance Type:            nonrobust   LLR p-value:                 7.251e-24\n",
       "==============================================================================\n",
       "                 coef    std err          z      P>|z|      [0.025      0.975]\n",
       "------------------------------------------------------------------------------\n",
       "Intercept     -2.1426      0.266     -8.062      0.000      -2.663      -1.622\n",
       "glo            0.0013      0.000      5.032      0.000       0.001       0.002\n",
       "plo            0.0015      0.000      4.522      0.000       0.001       0.002\n",
       "glo:plo     -1.97e-06   3.24e-07     -6.089      0.000    -2.6e-06   -1.34e-06\n",
       "slo            0.1071      0.017      6.298      0.000       0.074       0.140\n",
       "cpo           -0.1732      0.072     -2.391      0.017      -0.315      -0.031\n",
       "==============================================================================\n",
       "\"\"\""
      ]
     },
     "execution_count": 328,
     "metadata": {},
     "output_type": "execute_result"
    }
   ],
   "source": [
    "y = profit(\"GC=F\")\n",
    "df = pd.concat([X,y],axis=1)\n",
    "\n",
    "model = logit('ret ~ glo*plo +slo + cpo', data=df).fit()\n",
    "model.summary()\n"
   ]
  },
  {
   "cell_type": "markdown",
   "id": "88f6790d",
   "metadata": {},
   "source": [
    "## model for silver"
   ]
  },
  {
   "cell_type": "code",
   "execution_count": 329,
   "id": "3d606e20",
   "metadata": {},
   "outputs": [
    {
     "name": "stdout",
     "output_type": "stream",
     "text": [
      "[*********************100%***********************]  1 of 1 completed\n",
      "Optimization terminated successfully.\n",
      "         Current function value: 0.630676\n",
      "         Iterations 5\n"
     ]
    },
    {
     "data": {
      "text/html": [
       "<table class=\"simpletable\">\n",
       "<caption>Logit Regression Results</caption>\n",
       "<tr>\n",
       "  <th>Dep. Variable:</th>          <td>ret</td>       <th>  No. Observations:  </th>  <td>  4865</td>  \n",
       "</tr>\n",
       "<tr>\n",
       "  <th>Model:</th>                 <td>Logit</td>      <th>  Df Residuals:      </th>  <td>  4860</td>  \n",
       "</tr>\n",
       "<tr>\n",
       "  <th>Method:</th>                 <td>MLE</td>       <th>  Df Model:          </th>  <td>     4</td>  \n",
       "</tr>\n",
       "<tr>\n",
       "  <th>Date:</th>            <td>Mon, 07 Nov 2022</td> <th>  Pseudo R-squ.:     </th>  <td>0.01424</td> \n",
       "</tr>\n",
       "<tr>\n",
       "  <th>Time:</th>                <td>23:06:11</td>     <th>  Log-Likelihood:    </th> <td> -3068.2</td> \n",
       "</tr>\n",
       "<tr>\n",
       "  <th>converged:</th>             <td>True</td>       <th>  LL-Null:           </th> <td> -3112.6</td> \n",
       "</tr>\n",
       "<tr>\n",
       "  <th>Covariance Type:</th>     <td>nonrobust</td>    <th>  LLR p-value:       </th> <td>2.554e-18</td>\n",
       "</tr>\n",
       "</table>\n",
       "<table class=\"simpletable\">\n",
       "<tr>\n",
       "      <td></td>         <th>coef</th>     <th>std err</th>      <th>z</th>      <th>P>|z|</th>  <th>[0.025</th>    <th>0.975]</th>  \n",
       "</tr>\n",
       "<tr>\n",
       "  <th>Intercept</th> <td>   -1.4454</td> <td>    0.242</td> <td>   -5.971</td> <td> 0.000</td> <td>   -1.920</td> <td>   -0.971</td>\n",
       "</tr>\n",
       "<tr>\n",
       "  <th>glo</th>       <td>    0.0002</td> <td>    0.000</td> <td>    1.270</td> <td> 0.204</td> <td>   -0.000</td> <td>    0.001</td>\n",
       "</tr>\n",
       "<tr>\n",
       "  <th>plo</th>       <td>    0.0001</td> <td>    0.000</td> <td>    0.496</td> <td> 0.620</td> <td>   -0.000</td> <td>    0.001</td>\n",
       "</tr>\n",
       "<tr>\n",
       "  <th>glo:plo</th>   <td>-6.513e-07</td> <td> 2.93e-07</td> <td>   -2.221</td> <td> 0.026</td> <td>-1.23e-06</td> <td>-7.65e-08</td>\n",
       "</tr>\n",
       "<tr>\n",
       "  <th>slo</th>       <td>    0.0711</td> <td>    0.016</td> <td>    4.400</td> <td> 0.000</td> <td>    0.039</td> <td>    0.103</td>\n",
       "</tr>\n",
       "</table>"
      ],
      "text/plain": [
       "<class 'statsmodels.iolib.summary.Summary'>\n",
       "\"\"\"\n",
       "                           Logit Regression Results                           \n",
       "==============================================================================\n",
       "Dep. Variable:                    ret   No. Observations:                 4865\n",
       "Model:                          Logit   Df Residuals:                     4860\n",
       "Method:                           MLE   Df Model:                            4\n",
       "Date:                Mon, 07 Nov 2022   Pseudo R-squ.:                 0.01424\n",
       "Time:                        23:06:11   Log-Likelihood:                -3068.2\n",
       "converged:                       True   LL-Null:                       -3112.6\n",
       "Covariance Type:            nonrobust   LLR p-value:                 2.554e-18\n",
       "==============================================================================\n",
       "                 coef    std err          z      P>|z|      [0.025      0.975]\n",
       "------------------------------------------------------------------------------\n",
       "Intercept     -1.4454      0.242     -5.971      0.000      -1.920      -0.971\n",
       "glo            0.0002      0.000      1.270      0.204      -0.000       0.001\n",
       "plo            0.0001      0.000      0.496      0.620      -0.000       0.001\n",
       "glo:plo    -6.513e-07   2.93e-07     -2.221      0.026   -1.23e-06   -7.65e-08\n",
       "slo            0.0711      0.016      4.400      0.000       0.039       0.103\n",
       "==============================================================================\n",
       "\"\"\""
      ]
     },
     "execution_count": 329,
     "metadata": {},
     "output_type": "execute_result"
    }
   ],
   "source": [
    "y = profit(\"SI=F\")\n",
    "df = pd.concat([X,y],axis=1)\n",
    "model = logit('ret ~ glo * plo  + slo', data=df).fit()\n",
    "model.summary()"
   ]
  },
  {
   "cell_type": "code",
   "execution_count": null,
   "id": "72a0782f",
   "metadata": {},
   "outputs": [],
   "source": []
  },
  {
   "cell_type": "markdown",
   "id": "331d5318",
   "metadata": {},
   "source": [
    "## model for copper"
   ]
  },
  {
   "cell_type": "code",
   "execution_count": 327,
   "id": "a7ac765b",
   "metadata": {},
   "outputs": [
    {
     "name": "stdout",
     "output_type": "stream",
     "text": [
      "[*********************100%***********************]  1 of 1 completed\n",
      "Optimization terminated successfully.\n",
      "         Current function value: 0.691335\n",
      "         Iterations 4\n"
     ]
    },
    {
     "data": {
      "text/html": [
       "<table class=\"simpletable\">\n",
       "<caption>Logit Regression Results</caption>\n",
       "<tr>\n",
       "  <th>Dep. Variable:</th>          <td>ret</td>       <th>  No. Observations:  </th>  <td>  4865</td> \n",
       "</tr>\n",
       "<tr>\n",
       "  <th>Model:</th>                 <td>Logit</td>      <th>  Df Residuals:      </th>  <td>  4861</td> \n",
       "</tr>\n",
       "<tr>\n",
       "  <th>Method:</th>                 <td>MLE</td>       <th>  Df Model:          </th>  <td>     3</td> \n",
       "</tr>\n",
       "<tr>\n",
       "  <th>Date:</th>            <td>Mon, 07 Nov 2022</td> <th>  Pseudo R-squ.:     </th> <td>0.002329</td>\n",
       "</tr>\n",
       "<tr>\n",
       "  <th>Time:</th>                <td>22:14:30</td>     <th>  Log-Likelihood:    </th> <td> -3363.3</td>\n",
       "</tr>\n",
       "<tr>\n",
       "  <th>converged:</th>             <td>True</td>       <th>  LL-Null:           </th> <td> -3371.2</td>\n",
       "</tr>\n",
       "<tr>\n",
       "  <th>Covariance Type:</th>     <td>nonrobust</td>    <th>  LLR p-value:       </th> <td>0.001305</td>\n",
       "</tr>\n",
       "</table>\n",
       "<table class=\"simpletable\">\n",
       "<tr>\n",
       "      <td></td>         <th>coef</th>     <th>std err</th>      <th>z</th>      <th>P>|z|</th>  <th>[0.025</th>    <th>0.975]</th>  \n",
       "</tr>\n",
       "<tr>\n",
       "  <th>Intercept</th> <td>   -0.2887</td> <td>    0.097</td> <td>   -2.969</td> <td> 0.003</td> <td>   -0.479</td> <td>   -0.098</td>\n",
       "</tr>\n",
       "<tr>\n",
       "  <th>glo:plo</th>   <td>-4.975e-07</td> <td> 1.56e-07</td> <td>   -3.180</td> <td> 0.001</td> <td>-8.04e-07</td> <td>-1.91e-07</td>\n",
       "</tr>\n",
       "<tr>\n",
       "  <th>cpo:slo</th>   <td>   -0.0078</td> <td>    0.003</td> <td>   -2.554</td> <td> 0.011</td> <td>   -0.014</td> <td>   -0.002</td>\n",
       "</tr>\n",
       "<tr>\n",
       "  <th>slo</th>       <td>    0.0778</td> <td>    0.020</td> <td>    3.840</td> <td> 0.000</td> <td>    0.038</td> <td>    0.118</td>\n",
       "</tr>\n",
       "</table>"
      ],
      "text/plain": [
       "<class 'statsmodels.iolib.summary.Summary'>\n",
       "\"\"\"\n",
       "                           Logit Regression Results                           \n",
       "==============================================================================\n",
       "Dep. Variable:                    ret   No. Observations:                 4865\n",
       "Model:                          Logit   Df Residuals:                     4861\n",
       "Method:                           MLE   Df Model:                            3\n",
       "Date:                Mon, 07 Nov 2022   Pseudo R-squ.:                0.002329\n",
       "Time:                        22:14:30   Log-Likelihood:                -3363.3\n",
       "converged:                       True   LL-Null:                       -3371.2\n",
       "Covariance Type:            nonrobust   LLR p-value:                  0.001305\n",
       "==============================================================================\n",
       "                 coef    std err          z      P>|z|      [0.025      0.975]\n",
       "------------------------------------------------------------------------------\n",
       "Intercept     -0.2887      0.097     -2.969      0.003      -0.479      -0.098\n",
       "glo:plo    -4.975e-07   1.56e-07     -3.180      0.001   -8.04e-07   -1.91e-07\n",
       "cpo:slo       -0.0078      0.003     -2.554      0.011      -0.014      -0.002\n",
       "slo            0.0778      0.020      3.840      0.000       0.038       0.118\n",
       "==============================================================================\n",
       "\"\"\""
      ]
     },
     "execution_count": 327,
     "metadata": {},
     "output_type": "execute_result"
    }
   ],
   "source": [
    "y = profit(\"HG=F\")\n",
    "df = pd.concat([X,y],axis=1)\n",
    "model = logit('ret ~ glo: plo + cpo:slo + slo ', data=df).fit()\n",
    "model.summary()"
   ]
  },
  {
   "cell_type": "code",
   "execution_count": null,
   "id": "ec58fcb7",
   "metadata": {},
   "outputs": [],
   "source": []
  },
  {
   "cell_type": "markdown",
   "id": "5f00a1cc",
   "metadata": {},
   "source": [
    "## model for platinium"
   ]
  },
  {
   "cell_type": "code",
   "execution_count": 323,
   "id": "ac24f997",
   "metadata": {},
   "outputs": [
    {
     "name": "stdout",
     "output_type": "stream",
     "text": [
      "[*********************100%***********************]  1 of 1 completed\n",
      "Optimization terminated successfully.\n",
      "         Current function value: 0.535087\n",
      "         Iterations 6\n"
     ]
    },
    {
     "data": {
      "text/html": [
       "<table class=\"simpletable\">\n",
       "<caption>Logit Regression Results</caption>\n",
       "<tr>\n",
       "  <th>Dep. Variable:</th>          <td>ret</td>       <th>  No. Observations:  </th>  <td>  4865</td>  \n",
       "</tr>\n",
       "<tr>\n",
       "  <th>Model:</th>                 <td>Logit</td>      <th>  Df Residuals:      </th>  <td>  4860</td>  \n",
       "</tr>\n",
       "<tr>\n",
       "  <th>Method:</th>                 <td>MLE</td>       <th>  Df Model:          </th>  <td>     4</td>  \n",
       "</tr>\n",
       "<tr>\n",
       "  <th>Date:</th>            <td>Mon, 07 Nov 2022</td> <th>  Pseudo R-squ.:     </th>  <td>0.07619</td> \n",
       "</tr>\n",
       "<tr>\n",
       "  <th>Time:</th>                <td>22:12:27</td>     <th>  Log-Likelihood:    </th> <td> -2603.2</td> \n",
       "</tr>\n",
       "<tr>\n",
       "  <th>converged:</th>             <td>True</td>       <th>  LL-Null:           </th> <td> -2817.9</td> \n",
       "</tr>\n",
       "<tr>\n",
       "  <th>Covariance Type:</th>     <td>nonrobust</td>    <th>  LLR p-value:       </th> <td>1.222e-91</td>\n",
       "</tr>\n",
       "</table>\n",
       "<table class=\"simpletable\">\n",
       "<tr>\n",
       "      <td></td>         <th>coef</th>     <th>std err</th>      <th>z</th>      <th>P>|z|</th>  <th>[0.025</th>    <th>0.975]</th>  \n",
       "</tr>\n",
       "<tr>\n",
       "  <th>Intercept</th> <td>    0.8420</td> <td>    0.140</td> <td>    6.015</td> <td> 0.000</td> <td>    0.568</td> <td>    1.116</td>\n",
       "</tr>\n",
       "<tr>\n",
       "  <th>glo</th>       <td>   -0.0017</td> <td>    0.000</td> <td>   -7.762</td> <td> 0.000</td> <td>   -0.002</td> <td>   -0.001</td>\n",
       "</tr>\n",
       "<tr>\n",
       "  <th>cpo</th>       <td>   -0.2941</td> <td>    0.101</td> <td>   -2.922</td> <td> 0.003</td> <td>   -0.491</td> <td>   -0.097</td>\n",
       "</tr>\n",
       "<tr>\n",
       "  <th>glo:cpo</th>   <td>    0.0002</td> <td> 6.76e-05</td> <td>    3.531</td> <td> 0.000</td> <td>    0.000</td> <td>    0.000</td>\n",
       "</tr>\n",
       "<tr>\n",
       "  <th>plo</th>       <td>   -0.0001</td> <td>    0.000</td> <td>   -0.773</td> <td> 0.439</td> <td>   -0.000</td> <td>    0.000</td>\n",
       "</tr>\n",
       "</table>"
      ],
      "text/plain": [
       "<class 'statsmodels.iolib.summary.Summary'>\n",
       "\"\"\"\n",
       "                           Logit Regression Results                           \n",
       "==============================================================================\n",
       "Dep. Variable:                    ret   No. Observations:                 4865\n",
       "Model:                          Logit   Df Residuals:                     4860\n",
       "Method:                           MLE   Df Model:                            4\n",
       "Date:                Mon, 07 Nov 2022   Pseudo R-squ.:                 0.07619\n",
       "Time:                        22:12:27   Log-Likelihood:                -2603.2\n",
       "converged:                       True   LL-Null:                       -2817.9\n",
       "Covariance Type:            nonrobust   LLR p-value:                 1.222e-91\n",
       "==============================================================================\n",
       "                 coef    std err          z      P>|z|      [0.025      0.975]\n",
       "------------------------------------------------------------------------------\n",
       "Intercept      0.8420      0.140      6.015      0.000       0.568       1.116\n",
       "glo           -0.0017      0.000     -7.762      0.000      -0.002      -0.001\n",
       "cpo           -0.2941      0.101     -2.922      0.003      -0.491      -0.097\n",
       "glo:cpo        0.0002   6.76e-05      3.531      0.000       0.000       0.000\n",
       "plo           -0.0001      0.000     -0.773      0.439      -0.000       0.000\n",
       "==============================================================================\n",
       "\"\"\""
      ]
     },
     "execution_count": 323,
     "metadata": {},
     "output_type": "execute_result"
    }
   ],
   "source": [
    "y = profit(\"PL=F\")\n",
    "df = pd.concat([X,y],axis=1)\n",
    "model = logit('ret ~ glo * cpo + plo ', data=df).fit()\n",
    "model.summary()"
   ]
  },
  {
   "cell_type": "markdown",
   "id": "70566908",
   "metadata": {},
   "source": [
    "### Which is the best model ?\n",
    "\n",
    "Since the Pseudo R-squ. value is quite high in the model we created for platinum, we can say that it is the best model among them."
   ]
  },
  {
   "cell_type": "markdown",
   "id": "811d0faf",
   "metadata": {},
   "source": [
    "### Does any of the models provide a good fit?\n",
    "\n",
    "We cannot say that the models fit well because the Pseudo R-squ values are very low for a good fit."
   ]
  },
  {
   "cell_type": "markdown",
   "id": "17365a32-866c-40d2-8ac9-5d0dcfaba69b",
   "metadata": {},
   "source": [
    "# Question 4\n",
    "\n",
    "For this question use the following [data](https://archive.ics.uci.edu/ml/datasets/credit+approval):\n"
   ]
  },
  {
   "cell_type": "code",
   "execution_count": 331,
   "id": "365d759b-b783-4539-96d0-8b6db6979c44",
   "metadata": {},
   "outputs": [],
   "source": [
    "credit = pd.read_csv('https://archive.ics.uci.edu/ml/machine-learning-databases/credit-screening/crx.data', header=None)\n",
    "\n",
    "fn = {'+': 1, '-': 0}\n",
    "\n",
    "X = credit.replace('?',0).iloc[:,[1,2,7,10,14]]\n",
    "y = credit.iloc[:,15].map(lambda x: fn.get(x,0))"
   ]
  },
  {
   "cell_type": "markdown",
   "id": "e7ebfd20-ff04-43dc-b00d-508a110ff3b3",
   "metadata": {},
   "source": [
    "1. Split the data into training and test set.\n",
    "2. Write different logistic regression models predicting y against X.\n",
    "3. Construct [confusion matrices](https://scikit-learn.org/stable/modules/generated/sklearn.metrics.confusion_matrix.html) on the test data set for these different models.\n",
    "4. Analyze these models. Explain which model is the best model you have found.\n",
    "5. Repeat Steps 1-4 several times. Does your best model stay as the best model? What should be the correct protocol to decide on the best model explaining the data?"
   ]
  },
  {
   "cell_type": "markdown",
   "id": "6827d2a8",
   "metadata": {},
   "source": [
    "## Editing data\n",
    "\n",
    "Since the column names of the X dataframe are numbers, I renamed the columns with letters. then I converted it to float because the first column is of type object."
   ]
  },
  {
   "cell_type": "code",
   "execution_count": 332,
   "id": "e2f37cde-dcc2-48f1-ae91-3a615b63e0fb",
   "metadata": {},
   "outputs": [],
   "source": [
    "X.columns = [\"a\",\"b\",\"c\",\"d\",\"f\"]\n",
    "X['a'] = X['a'].astype(float)\n",
    "y = pd.DataFrame(np.array(y),columns=[\"y\"])"
   ]
  },
  {
   "cell_type": "markdown",
   "id": "8805861b",
   "metadata": {},
   "source": [
    "## Train test split and creating models"
   ]
  },
  {
   "cell_type": "code",
   "execution_count": 377,
   "id": "1de286ae",
   "metadata": {},
   "outputs": [
    {
     "name": "stderr",
     "output_type": "stream",
     "text": [
      "C:\\Users\\Hasan\\anaconda3\\lib\\site-packages\\sklearn\\utils\\validation.py:1111: DataConversionWarning: A column-vector y was passed when a 1d array was expected. Please change the shape of y to (n_samples, ), for example using ravel().\n",
      "  y = column_or_1d(y, warn=True)\n"
     ]
    },
    {
     "data": {
      "text/plain": [
       "array([[94,  8],\n",
       "       [28, 43]], dtype=int64)"
      ]
     },
     "execution_count": 377,
     "metadata": {},
     "output_type": "execute_result"
    }
   ],
   "source": [
    "X_train, X_test, y_train, y_test = train_test_split(X,y,train_size=0.75)\n",
    "\n",
    "model1 = LogisticRegression(max_iter=1000, C=50)\n",
    "model1.fit(X_train,y_train)\n",
    "\n",
    "y1_predict = model1.predict(X_test)\n",
    "confusion_matrix(y_test,y1_predict)\n"
   ]
  },
  {
   "cell_type": "code",
   "execution_count": 391,
   "id": "818d60a7",
   "metadata": {},
   "outputs": [
    {
     "name": "stderr",
     "output_type": "stream",
     "text": [
      "C:\\Users\\Hasan\\anaconda3\\lib\\site-packages\\sklearn\\utils\\validation.py:1111: DataConversionWarning: A column-vector y was passed when a 1d array was expected. Please change the shape of y to (n_samples, ), for example using ravel().\n",
      "  y = column_or_1d(y, warn=True)\n"
     ]
    },
    {
     "data": {
      "text/plain": [
       "array([[82, 13],\n",
       "       [31, 47]], dtype=int64)"
      ]
     },
     "execution_count": 391,
     "metadata": {},
     "output_type": "execute_result"
    }
   ],
   "source": [
    "\n",
    "X_train, X_test, y_train, y_test = train_test_split(X,y,train_size=0.75)\n",
    "\n",
    "X_train[\"a*f\"] = X_train[\"a\"]* X_train[\"f\"]\n",
    "X_test[\"a*f\"] = X_test[\"a\"]* X_test[\"f\"]\n",
    "\n",
    "\n",
    "\n",
    "model2 = LogisticRegression(max_iter=1500)\n",
    "model2.fit(X_train,y_train)\n",
    "\n",
    "y2_predict = model2.predict(X_test)\n",
    "confusion_matrix(y_test,y2_predict)"
   ]
  },
  {
   "cell_type": "code",
   "execution_count": 368,
   "id": "377f68c6",
   "metadata": {},
   "outputs": [
    {
     "name": "stderr",
     "output_type": "stream",
     "text": [
      "C:\\Users\\Hasan\\anaconda3\\lib\\site-packages\\sklearn\\utils\\validation.py:1111: DataConversionWarning: A column-vector y was passed when a 1d array was expected. Please change the shape of y to (n_samples, ), for example using ravel().\n",
      "  y = column_or_1d(y, warn=True)\n"
     ]
    },
    {
     "data": {
      "text/plain": [
       "array([[83, 13],\n",
       "       [28, 49]], dtype=int64)"
      ]
     },
     "execution_count": 368,
     "metadata": {},
     "output_type": "execute_result"
    }
   ],
   "source": [
    "X_train, X_test, y_train, y_test = train_test_split(X,y,train_size=0.75)\n",
    "\n",
    "X_train[\"c*d\"] = X_train[\"c\"]* X_train[\"d\"]\n",
    "X_test[\"c*d\"] = X_test[\"c\"]* X_test[\"d\"]\n",
    "\n",
    "\n",
    "model3 = LogisticRegression(max_iter=1000)\n",
    "model3.fit(X_train,y_train)\n",
    "\n",
    "y3_predict = model3.predict(X_test)\n",
    "confusion_matrix(y_test,y3_predict)"
   ]
  },
  {
   "cell_type": "code",
   "execution_count": null,
   "id": "aa288834",
   "metadata": {},
   "outputs": [],
   "source": []
  },
  {
   "cell_type": "markdown",
   "id": "7ac61238",
   "metadata": {},
   "source": [
    "### Evaluating models\n",
    "\n",
    "When I looked at the confusion matrix the model with true positive and true neg the most was model1 .So i thought model1 as the best model.Different evaluations can be made according to the definition of the problem (recall, sensitivity)"
   ]
  },
  {
   "cell_type": "markdown",
   "id": "8de5384c",
   "metadata": {},
   "source": [
    "### Repeat steps for model1"
   ]
  },
  {
   "cell_type": "code",
   "execution_count": 386,
   "id": "8a43a22a",
   "metadata": {},
   "outputs": [
    {
     "name": "stderr",
     "output_type": "stream",
     "text": [
      "C:\\Users\\Hasan\\anaconda3\\lib\\site-packages\\sklearn\\utils\\validation.py:1111: DataConversionWarning: A column-vector y was passed when a 1d array was expected. Please change the shape of y to (n_samples, ), for example using ravel().\n",
      "  y = column_or_1d(y, warn=True)\n"
     ]
    },
    {
     "data": {
      "text/plain": [
       "array([[83,  7],\n",
       "       [30, 53]], dtype=int64)"
      ]
     },
     "execution_count": 386,
     "metadata": {},
     "output_type": "execute_result"
    }
   ],
   "source": [
    "X_train, X_test, y_train, y_test = train_test_split(X,y,train_size=0.75)\n",
    "\n",
    "model1 = LogisticRegression(max_iter=1000, C=50)\n",
    "model1.fit(X_train,y_train)\n",
    "\n",
    "y1_predict = model1.predict(X_test)\n",
    "confusion_matrix(y_test,y1_predict)\n"
   ]
  },
  {
   "cell_type": "markdown",
   "id": "33b1ec1f",
   "metadata": {},
   "source": [
    "> I did not get similar results when I repeatedly run the model. We can use GridSearchCV method to estimate parameters better. For better evaluation we can use boostrap"
   ]
  },
  {
   "cell_type": "code",
   "execution_count": null,
   "id": "0b2d68b9",
   "metadata": {},
   "outputs": [],
   "source": []
  },
  {
   "cell_type": "code",
   "execution_count": null,
   "id": "f20a932d",
   "metadata": {},
   "outputs": [],
   "source": []
  },
  {
   "cell_type": "code",
   "execution_count": null,
   "id": "65230884",
   "metadata": {},
   "outputs": [],
   "source": []
  }
 ],
 "metadata": {
  "kernelspec": {
   "display_name": "Python 3 (ipykernel)",
   "language": "python",
   "name": "python3"
  },
  "language_info": {
   "codemirror_mode": {
    "name": "ipython",
    "version": 3
   },
   "file_extension": ".py",
   "mimetype": "text/x-python",
   "name": "python",
   "nbconvert_exporter": "python",
   "pygments_lexer": "ipython3",
   "version": "3.9.12"
  }
 },
 "nbformat": 4,
 "nbformat_minor": 5
}
