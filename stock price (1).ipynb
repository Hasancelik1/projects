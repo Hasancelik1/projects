{
 "cells": [
  {
   "cell_type": "code",
   "execution_count": 1,
   "id": "403a1042",
   "metadata": {},
   "outputs": [],
   "source": [
    "import pandas as pd\n",
    "import numpy as np \n",
    "import yfinance as yf"
   ]
  },
  {
   "cell_type": "code",
   "execution_count": 2,
   "id": "262a4101",
   "metadata": {},
   "outputs": [],
   "source": [
    "from sklearn.model_selection import train_test_split\n",
    "from sklearn.metrics import confusion_matrix\n",
    "from sklearn.linear_model import LogisticRegression \n",
    "from sklearn.preprocessing import StandardScaler\n",
    "from sklearn.metrics import accuracy_score"
   ]
  },
  {
   "cell_type": "code",
   "execution_count": null,
   "id": "1308a8a6",
   "metadata": {},
   "outputs": [],
   "source": []
  },
  {
   "cell_type": "code",
   "execution_count": 51,
   "id": "929a655d",
   "metadata": {},
   "outputs": [
    {
     "name": "stdout",
     "output_type": "stream",
     "text": [
      "[*********************100%***********************]  1 of 1 completed\n"
     ]
    }
   ],
   "source": [
    "data = yf.download(\"ETH-USD\")"
   ]
  },
  {
   "cell_type": "code",
   "execution_count": 52,
   "id": "7b77e59b",
   "metadata": {},
   "outputs": [
    {
     "data": {
      "text/html": [
       "<div>\n",
       "<style scoped>\n",
       "    .dataframe tbody tr th:only-of-type {\n",
       "        vertical-align: middle;\n",
       "    }\n",
       "\n",
       "    .dataframe tbody tr th {\n",
       "        vertical-align: top;\n",
       "    }\n",
       "\n",
       "    .dataframe thead th {\n",
       "        text-align: right;\n",
       "    }\n",
       "</style>\n",
       "<table border=\"1\" class=\"dataframe\">\n",
       "  <thead>\n",
       "    <tr style=\"text-align: right;\">\n",
       "      <th></th>\n",
       "      <th>Open</th>\n",
       "      <th>High</th>\n",
       "      <th>Low</th>\n",
       "      <th>Close</th>\n",
       "      <th>Adj Close</th>\n",
       "      <th>Volume</th>\n",
       "    </tr>\n",
       "    <tr>\n",
       "      <th>Date</th>\n",
       "      <th></th>\n",
       "      <th></th>\n",
       "      <th></th>\n",
       "      <th></th>\n",
       "      <th></th>\n",
       "      <th></th>\n",
       "    </tr>\n",
       "  </thead>\n",
       "  <tbody>\n",
       "    <tr>\n",
       "      <th>2017-11-09 00:00:00+00:00</th>\n",
       "      <td>308.644989</td>\n",
       "      <td>329.451996</td>\n",
       "      <td>307.056000</td>\n",
       "      <td>320.884003</td>\n",
       "      <td>320.884003</td>\n",
       "      <td>893249984</td>\n",
       "    </tr>\n",
       "    <tr>\n",
       "      <th>2017-11-10 00:00:00+00:00</th>\n",
       "      <td>320.670990</td>\n",
       "      <td>324.717987</td>\n",
       "      <td>294.541992</td>\n",
       "      <td>299.252991</td>\n",
       "      <td>299.252991</td>\n",
       "      <td>885985984</td>\n",
       "    </tr>\n",
       "    <tr>\n",
       "      <th>2017-11-11 00:00:00+00:00</th>\n",
       "      <td>298.585999</td>\n",
       "      <td>319.453003</td>\n",
       "      <td>298.191986</td>\n",
       "      <td>314.681000</td>\n",
       "      <td>314.681000</td>\n",
       "      <td>842300992</td>\n",
       "    </tr>\n",
       "    <tr>\n",
       "      <th>2017-11-12 00:00:00+00:00</th>\n",
       "      <td>314.690002</td>\n",
       "      <td>319.153015</td>\n",
       "      <td>298.513000</td>\n",
       "      <td>307.907990</td>\n",
       "      <td>307.907990</td>\n",
       "      <td>1613479936</td>\n",
       "    </tr>\n",
       "    <tr>\n",
       "      <th>2017-11-13 00:00:00+00:00</th>\n",
       "      <td>307.024994</td>\n",
       "      <td>328.415009</td>\n",
       "      <td>307.024994</td>\n",
       "      <td>316.716003</td>\n",
       "      <td>316.716003</td>\n",
       "      <td>1041889984</td>\n",
       "    </tr>\n",
       "    <tr>\n",
       "      <th>...</th>\n",
       "      <td>...</td>\n",
       "      <td>...</td>\n",
       "      <td>...</td>\n",
       "      <td>...</td>\n",
       "      <td>...</td>\n",
       "      <td>...</td>\n",
       "    </tr>\n",
       "    <tr>\n",
       "      <th>2022-11-09 00:00:00+00:00</th>\n",
       "      <td>1333.122437</td>\n",
       "      <td>1335.743530</td>\n",
       "      <td>1083.285645</td>\n",
       "      <td>1100.169800</td>\n",
       "      <td>1100.169800</td>\n",
       "      <td>38864492427</td>\n",
       "    </tr>\n",
       "    <tr>\n",
       "      <th>2022-11-10 00:00:00+00:00</th>\n",
       "      <td>1100.107178</td>\n",
       "      <td>1341.791138</td>\n",
       "      <td>1093.122559</td>\n",
       "      <td>1299.464600</td>\n",
       "      <td>1299.464600</td>\n",
       "      <td>28581002122</td>\n",
       "    </tr>\n",
       "    <tr>\n",
       "      <th>2022-11-11 00:00:00+00:00</th>\n",
       "      <td>1298.882446</td>\n",
       "      <td>1302.295288</td>\n",
       "      <td>1211.329590</td>\n",
       "      <td>1287.221069</td>\n",
       "      <td>1287.221069</td>\n",
       "      <td>20920539099</td>\n",
       "    </tr>\n",
       "    <tr>\n",
       "      <th>2022-11-12 00:00:00+00:00</th>\n",
       "      <td>1287.438354</td>\n",
       "      <td>1288.150879</td>\n",
       "      <td>1242.152222</td>\n",
       "      <td>1255.268311</td>\n",
       "      <td>1255.268311</td>\n",
       "      <td>10964962767</td>\n",
       "    </tr>\n",
       "    <tr>\n",
       "      <th>2022-11-13 00:00:00+00:00</th>\n",
       "      <td>1255.406250</td>\n",
       "      <td>1271.568359</td>\n",
       "      <td>1220.224609</td>\n",
       "      <td>1239.144043</td>\n",
       "      <td>1239.144043</td>\n",
       "      <td>9589600256</td>\n",
       "    </tr>\n",
       "  </tbody>\n",
       "</table>\n",
       "<p>1831 rows × 6 columns</p>\n",
       "</div>"
      ],
      "text/plain": [
       "                                  Open         High          Low        Close  \\\n",
       "Date                                                                            \n",
       "2017-11-09 00:00:00+00:00   308.644989   329.451996   307.056000   320.884003   \n",
       "2017-11-10 00:00:00+00:00   320.670990   324.717987   294.541992   299.252991   \n",
       "2017-11-11 00:00:00+00:00   298.585999   319.453003   298.191986   314.681000   \n",
       "2017-11-12 00:00:00+00:00   314.690002   319.153015   298.513000   307.907990   \n",
       "2017-11-13 00:00:00+00:00   307.024994   328.415009   307.024994   316.716003   \n",
       "...                                ...          ...          ...          ...   \n",
       "2022-11-09 00:00:00+00:00  1333.122437  1335.743530  1083.285645  1100.169800   \n",
       "2022-11-10 00:00:00+00:00  1100.107178  1341.791138  1093.122559  1299.464600   \n",
       "2022-11-11 00:00:00+00:00  1298.882446  1302.295288  1211.329590  1287.221069   \n",
       "2022-11-12 00:00:00+00:00  1287.438354  1288.150879  1242.152222  1255.268311   \n",
       "2022-11-13 00:00:00+00:00  1255.406250  1271.568359  1220.224609  1239.144043   \n",
       "\n",
       "                             Adj Close       Volume  \n",
       "Date                                                 \n",
       "2017-11-09 00:00:00+00:00   320.884003    893249984  \n",
       "2017-11-10 00:00:00+00:00   299.252991    885985984  \n",
       "2017-11-11 00:00:00+00:00   314.681000    842300992  \n",
       "2017-11-12 00:00:00+00:00   307.907990   1613479936  \n",
       "2017-11-13 00:00:00+00:00   316.716003   1041889984  \n",
       "...                                ...          ...  \n",
       "2022-11-09 00:00:00+00:00  1100.169800  38864492427  \n",
       "2022-11-10 00:00:00+00:00  1299.464600  28581002122  \n",
       "2022-11-11 00:00:00+00:00  1287.221069  20920539099  \n",
       "2022-11-12 00:00:00+00:00  1255.268311  10964962767  \n",
       "2022-11-13 00:00:00+00:00  1239.144043   9589600256  \n",
       "\n",
       "[1831 rows x 6 columns]"
      ]
     },
     "execution_count": 52,
     "metadata": {},
     "output_type": "execute_result"
    }
   ],
   "source": [
    "data"
   ]
  },
  {
   "cell_type": "markdown",
   "id": "e251b682",
   "metadata": {},
   "source": [
    "## Simple moving average"
   ]
  },
  {
   "cell_type": "code",
   "execution_count": 53,
   "id": "8f290947",
   "metadata": {},
   "outputs": [],
   "source": [
    "data['SMA_5'] = data['Close'].transform(lambda x: x.rolling(window = 5).mean())\n",
    "data[\"SMA_15\"] = data[\"Close\"].transform(lambda x:x.rolling(window = 15).mean())"
   ]
  },
  {
   "cell_type": "code",
   "execution_count": null,
   "id": "324554a4",
   "metadata": {},
   "outputs": [],
   "source": []
  },
  {
   "cell_type": "markdown",
   "id": "9c8ff6b6",
   "metadata": {},
   "source": [
    "## Simple moving average volume\n",
    "\n"
   ]
  },
  {
   "cell_type": "code",
   "execution_count": 54,
   "id": "97884285",
   "metadata": {},
   "outputs": [],
   "source": [
    "data['SMA_5_volume'] = data['Volume'].transform(lambda x: x.rolling(window = 5).mean())\n",
    "data['SMA_15_volume'] = data['Volume'].transform(lambda x: x.rolling(window = 15).mean())\n"
   ]
  },
  {
   "cell_type": "markdown",
   "id": "afe77b28",
   "metadata": {},
   "source": [
    "## Wilder smoothing"
   ]
  },
  {
   "cell_type": "code",
   "execution_count": 55,
   "id": "85d19a48",
   "metadata": {},
   "outputs": [],
   "source": [
    "def Wilder(data, periods):\n",
    "    start = np.where(~np.isnan(data))[0][0] #Check if nans present in beginning\n",
    "    Wilder = np.array([np.nan]*len(data))\n",
    "    Wilder[start+periods-1] = data[start:(start+periods)].mean() #Simple Moving Average\n",
    "    for i in range(start+periods,len(data)):\n",
    "        Wilder[i] = (Wilder[i-1]*(periods-1) + data[i])/periods #Wilder Smoothing\n",
    "    return(Wilder)"
   ]
  },
  {
   "cell_type": "markdown",
   "id": "1d421cde",
   "metadata": {},
   "source": [
    "## Average True Range (ATR)"
   ]
  },
  {
   "cell_type": "code",
   "execution_count": 56,
   "id": "23123344",
   "metadata": {},
   "outputs": [],
   "source": [
    "data['true_range'] = np.maximum((data['High'] - data['Low']), \n",
    "                         abs(data['High'] - data['Close'].shift()), \n",
    "                         abs(data['Low']-data[\"Close\"].shift()))"
   ]
  },
  {
   "cell_type": "code",
   "execution_count": 57,
   "id": "8615b0c1",
   "metadata": {},
   "outputs": [],
   "source": [
    "\n",
    "data.loc[:,'ATR_5'] = Wilder(data['true_range'], 5)\n",
    "data.loc[:,'ATR_15'] = Wilder(data['true_range'], 15)"
   ]
  },
  {
   "cell_type": "markdown",
   "id": "fb9872e6",
   "metadata": {},
   "source": [
    "## Stochastic Oscillators\n"
   ]
  },
  {
   "cell_type": "code",
   "execution_count": 58,
   "id": "6cc5292e",
   "metadata": {},
   "outputs": [],
   "source": [
    "\n",
    "data['Lowest_5D'] = data['Low'].transform(lambda x: x.rolling(window = 5).min())\n",
    "data['High_5D'] = data['High'].transform(lambda x: x.rolling(window = 5).max())\n",
    "data['Lowest_15D'] =data['Low'].transform(lambda x: x.rolling(window = 15).min())\n",
    "data['High_15D'] =data['High'].transform(lambda x: x.rolling(window = 15).max())\n",
    "\n",
    "data['Stochastic_5'] = ((data['Close'] - data['Lowest_5D'])/(data['High_5D'] - data['Lowest_5D']))*100\n",
    "data['Stochastic_15'] = ((data['Close'] - data['Lowest_15D'])/(data['High_15D'] - data['Lowest_15D']))*100\n",
    "\n",
    "data['Stochastic_avg_5'] = data['Stochastic_5'].rolling(window = 5).mean()\n",
    "data['Stochastic_avg_15'] = data['Stochastic_5'].rolling(window = 15).mean()\n",
    "\n"
   ]
  },
  {
   "cell_type": "markdown",
   "id": "1b36b12d",
   "metadata": {},
   "source": [
    "## Relative Strength Index (RSI)\n",
    "\n"
   ]
  },
  {
   "cell_type": "code",
   "execution_count": 60,
   "id": "43a29866",
   "metadata": {},
   "outputs": [],
   "source": [
    "data['Diff'] = data['Close'].transform(lambda x: x.diff())\n",
    "data['Up'] = data['Diff']\n",
    "data.loc[(data['Up']<0), 'Up'] = 0\n",
    "\n",
    "data['Down'] = data['Diff']\n",
    "data.loc[(data['Down']>0), 'Down'] = 0 \n",
    "data['Down'] = abs(data['Down'])\n",
    "\n",
    "data['avg_5up'] = data['Up'].transform(lambda x: x.rolling(window=5).mean())\n",
    "data['avg_5down'] = data['Down'].transform(lambda x: x.rolling(window=5).mean())\n",
    "\n",
    "data['avg_15up'] = data['Up'].transform(lambda x: x.rolling(window=14).mean())\n",
    "data['avg_15down'] = data['Down'].transform(lambda x: x.rolling(window=14).mean())\n",
    "\n",
    "data['RS_5'] = data['avg_5up'] / data['avg_5down']\n",
    "data['RS_15'] = data['avg_15up'] / data['avg_15down']\n",
    "\n",
    "data['RSI_5'] = 100 - (100/(1+data['RS_5']))\n",
    "data['RSI_15'] = 100 - (100/(1+data['RS_15']))\n"
   ]
  },
  {
   "cell_type": "markdown",
   "id": "8ba4f49a",
   "metadata": {},
   "source": [
    "## Moving Average Convergence Divergence (MACD)"
   ]
  },
  {
   "cell_type": "code",
   "execution_count": 61,
   "id": "989fa4e9",
   "metadata": {},
   "outputs": [],
   "source": [
    "data['5Ewm'] = data['Close'].transform(lambda x: x.ewm(span=5, adjust=False).mean())\n",
    "data['15Ewm'] = data['Close'].transform(lambda x: x.ewm(span=15, adjust=False).mean())\n",
    "data['MACD'] = data['15Ewm'] - data['5Ewm']"
   ]
  },
  {
   "cell_type": "markdown",
   "id": "42367575",
   "metadata": {},
   "source": [
    "## Bollinger Bands"
   ]
  },
  {
   "cell_type": "code",
   "execution_count": null,
   "id": "be921261",
   "metadata": {},
   "outputs": [],
   "source": []
  },
  {
   "cell_type": "code",
   "execution_count": 63,
   "id": "5628bfe9",
   "metadata": {},
   "outputs": [],
   "source": [
    "data['15MA'] = data['Close'].transform(lambda x: x.rolling(window=15).mean())\n",
    "data['SD'] = data['Close'].transform(lambda x: x.rolling(window=15).std())\n",
    "data['upperband'] = data['15MA'] + 2*data['SD']\n",
    "data['lowerband'] = data['15MA'] - 2*data['SD']"
   ]
  },
  {
   "cell_type": "code",
   "execution_count": null,
   "id": "5d11abf5",
   "metadata": {},
   "outputs": [],
   "source": []
  },
  {
   "cell_type": "markdown",
   "id": "f1649daa",
   "metadata": {},
   "source": [
    "## Model"
   ]
  },
  {
   "cell_type": "code",
   "execution_count": 65,
   "id": "71a744a0",
   "metadata": {},
   "outputs": [],
   "source": [
    "data.dropna(inplace=True)"
   ]
  },
  {
   "cell_type": "markdown",
   "id": "7f62f167",
   "metadata": {},
   "source": [
    "### Target variable"
   ]
  },
  {
   "cell_type": "code",
   "execution_count": 75,
   "id": "01e03b02",
   "metadata": {},
   "outputs": [],
   "source": [
    "data[\"y\"] = np.where(data.Open*102/100 <= data.Close, 1, 0)"
   ]
  },
  {
   "cell_type": "code",
   "execution_count": 76,
   "id": "8c3ba757",
   "metadata": {},
   "outputs": [],
   "source": [
    "X = data.iloc[:,:-1]\n",
    "y = data.iloc[:,-1]"
   ]
  },
  {
   "cell_type": "code",
   "execution_count": 77,
   "id": "6df85689",
   "metadata": {},
   "outputs": [],
   "source": [
    "X = X.drop([\"RS_5\"],axis = 1)"
   ]
  },
  {
   "cell_type": "code",
   "execution_count": null,
   "id": "8d7ca0a7",
   "metadata": {},
   "outputs": [],
   "source": []
  },
  {
   "cell_type": "code",
   "execution_count": 79,
   "id": "6ddc393c",
   "metadata": {},
   "outputs": [],
   "source": [
    "scaler = StandardScaler()\n",
    "X_scaled = scaler.fit_transform(X)"
   ]
  },
  {
   "cell_type": "code",
   "execution_count": 88,
   "id": "c59ee8ae",
   "metadata": {},
   "outputs": [
    {
     "data": {
      "text/plain": [
       "array([[325,   0],\n",
       "       [ 11, 118]], dtype=int64)"
      ]
     },
     "execution_count": 88,
     "metadata": {},
     "output_type": "execute_result"
    }
   ],
   "source": [
    "X_train, X_test, y_train, y_test = train_test_split(X_scaled,y,train_size=0.75)\n",
    "\n",
    "model = LogisticRegression(max_iter=1000, C=50)\n",
    "model.fit(X_train,y_train)\n",
    "\n",
    "y_predict = model.predict(X_test)\n",
    "confusion_matrix(y_test,y_predict)\n",
    "\n"
   ]
  },
  {
   "cell_type": "code",
   "execution_count": 89,
   "id": "e90557bb",
   "metadata": {},
   "outputs": [
    {
     "data": {
      "text/plain": [
       "0.9757709251101322"
      ]
     },
     "execution_count": 89,
     "metadata": {},
     "output_type": "execute_result"
    }
   ],
   "source": [
    "accuracy_score(y_test,y_predict)"
   ]
  },
  {
   "cell_type": "code",
   "execution_count": null,
   "id": "274d168f",
   "metadata": {},
   "outputs": [],
   "source": []
  },
  {
   "cell_type": "code",
   "execution_count": null,
   "id": "cc12c497",
   "metadata": {},
   "outputs": [],
   "source": []
  },
  {
   "cell_type": "code",
   "execution_count": null,
   "id": "60895c0f",
   "metadata": {},
   "outputs": [],
   "source": []
  },
  {
   "cell_type": "code",
   "execution_count": null,
   "id": "41166043",
   "metadata": {},
   "outputs": [],
   "source": []
  },
  {
   "cell_type": "code",
   "execution_count": null,
   "id": "f846c9d3",
   "metadata": {},
   "outputs": [],
   "source": []
  },
  {
   "cell_type": "code",
   "execution_count": null,
   "id": "7d15273d",
   "metadata": {},
   "outputs": [],
   "source": []
  },
  {
   "cell_type": "code",
   "execution_count": null,
   "id": "41c712de",
   "metadata": {},
   "outputs": [],
   "source": []
  },
  {
   "cell_type": "code",
   "execution_count": null,
   "id": "8b38c586",
   "metadata": {},
   "outputs": [],
   "source": []
  },
  {
   "cell_type": "code",
   "execution_count": null,
   "id": "72463aed",
   "metadata": {},
   "outputs": [],
   "source": []
  },
  {
   "cell_type": "code",
   "execution_count": null,
   "id": "f458dd73",
   "metadata": {},
   "outputs": [],
   "source": []
  },
  {
   "cell_type": "code",
   "execution_count": null,
   "id": "24cb651a",
   "metadata": {},
   "outputs": [],
   "source": []
  },
  {
   "cell_type": "code",
   "execution_count": null,
   "id": "b39632a3",
   "metadata": {},
   "outputs": [],
   "source": []
  },
  {
   "cell_type": "code",
   "execution_count": null,
   "id": "82cbfd88",
   "metadata": {},
   "outputs": [],
   "source": []
  },
  {
   "cell_type": "code",
   "execution_count": null,
   "id": "f381741a",
   "metadata": {},
   "outputs": [],
   "source": []
  },
  {
   "cell_type": "code",
   "execution_count": null,
   "id": "b54fc80c",
   "metadata": {},
   "outputs": [],
   "source": []
  },
  {
   "cell_type": "code",
   "execution_count": null,
   "id": "b61987ce",
   "metadata": {},
   "outputs": [],
   "source": []
  },
  {
   "cell_type": "code",
   "execution_count": null,
   "id": "9df89864",
   "metadata": {},
   "outputs": [],
   "source": []
  },
  {
   "cell_type": "code",
   "execution_count": null,
   "id": "cada9d92",
   "metadata": {},
   "outputs": [],
   "source": []
  },
  {
   "cell_type": "code",
   "execution_count": null,
   "id": "e88eb85d",
   "metadata": {},
   "outputs": [],
   "source": []
  },
  {
   "cell_type": "code",
   "execution_count": null,
   "id": "7b16285e",
   "metadata": {},
   "outputs": [],
   "source": []
  },
  {
   "cell_type": "code",
   "execution_count": null,
   "id": "aeb66e1b",
   "metadata": {},
   "outputs": [],
   "source": []
  },
  {
   "cell_type": "code",
   "execution_count": null,
   "id": "a06ad7ac",
   "metadata": {},
   "outputs": [],
   "source": []
  },
  {
   "cell_type": "code",
   "execution_count": null,
   "id": "c289e5b5",
   "metadata": {},
   "outputs": [],
   "source": []
  },
  {
   "cell_type": "code",
   "execution_count": null,
   "id": "bb96f109",
   "metadata": {},
   "outputs": [],
   "source": []
  },
  {
   "cell_type": "code",
   "execution_count": null,
   "id": "83069e35",
   "metadata": {},
   "outputs": [],
   "source": []
  }
 ],
 "metadata": {
  "kernelspec": {
   "display_name": "Python 3 (ipykernel)",
   "language": "python",
   "name": "python3"
  },
  "language_info": {
   "codemirror_mode": {
    "name": "ipython",
    "version": 3
   },
   "file_extension": ".py",
   "mimetype": "text/x-python",
   "name": "python",
   "nbconvert_exporter": "python",
   "pygments_lexer": "ipython3",
   "version": "3.9.12"
  }
 },
 "nbformat": 4,
 "nbformat_minor": 5
}
